{
  "cells": [
    {
      "cell_type": "markdown",
      "metadata": {
        "id": "view-in-github",
        "colab_type": "text"
      },
      "source": [
        "<a href=\"https://colab.research.google.com/github/cuong3004/Trash_Cuong/blob/main/trash_yolov5_orginal.ipynb\" target=\"_parent\"><img src=\"https://colab.research.google.com/assets/colab-badge.svg\" alt=\"Open In Colab\"/></a>"
      ]
    },
    {
      "cell_type": "code",
      "execution_count": null,
      "metadata": {
        "colab": {
          "base_uri": "https://localhost:8080/"
        },
        "id": "q-Bl0-3PHBtC",
        "outputId": "cab338f6-eac6-418d-b53e-991b50d6c897"
      },
      "outputs": [
        {
          "name": "stdout",
          "output_type": "stream",
          "text": [
            "Setup complete. Using torch 1.11.0+cu113 (Tesla T4)\n"
          ]
        }
      ],
      "source": [
        "!git clone https://github.com/ultralytics/yolov5  # clone repo\n",
        "%cd yolov5\n",
        "%pip install -qr requirements.txt  # install dependencies\n",
        "\n",
        "import torch\n",
        "from IPython.display import Image, clear_output  # to display images\n",
        "\n",
        "clear_output()\n",
        "print(f\"Setup complete. Using torch {torch.__version__} ({torch.cuda.get_device_properties(0).name if torch.cuda.is_available() else 'CPU'})\")"
      ]
    },
    {
      "cell_type": "code",
      "execution_count": null,
      "metadata": {
        "colab": {
          "base_uri": "https://localhost:8080/"
        },
        "id": "9-egGL28HS5c",
        "outputId": "be06c933-5524-4ebb-c6a4-64667e7d6ec7"
      },
      "outputs": [
        {
          "name": "stdout",
          "output_type": "stream",
          "text": [
            "Mounted at /content/drive\n"
          ]
        }
      ],
      "source": [
        "# from google.colab import drive\n",
        "# drive.mount('/content/drive')"
      ]
    },
    {
      "cell_type": "code",
      "execution_count": null,
      "metadata": {
        "id": "dWjBiBYNs2tb"
      },
      "outputs": [],
      "source": [
        "# !cp /content/yolov5/tensorflow-1.14.0-cp37-none-linux_armv7l.whl /content/drive/MyDrive"
      ]
    },
    {
      "cell_type": "code",
      "execution_count": null,
      "metadata": {
        "colab": {
          "base_uri": "https://localhost:8080/",
          "height": 870
        },
        "id": "YHnezhpnHX58",
        "outputId": "939202e6-9e30-4c81-f4c2-1e11cb2edae7"
      },
      "outputs": [
        {
          "name": "stdout",
          "output_type": "stream",
          "text": [
            "Collecting wandb\n",
            "  Downloading wandb-0.12.16-py2.py3-none-any.whl (1.8 MB)\n",
            "\u001b[K     |████████████████████████████████| 1.8 MB 5.1 MB/s \n",
            "\u001b[?25hRequirement already satisfied: Click!=8.0.0,>=7.0 in /usr/local/lib/python3.7/dist-packages (from wandb) (7.1.2)\n",
            "Requirement already satisfied: python-dateutil>=2.6.1 in /usr/local/lib/python3.7/dist-packages (from wandb) (2.8.2)\n",
            "Requirement already satisfied: promise<3,>=2.0 in /usr/local/lib/python3.7/dist-packages (from wandb) (2.3)\n",
            "Requirement already satisfied: six>=1.13.0 in /usr/local/lib/python3.7/dist-packages (from wandb) (1.15.0)\n",
            "Collecting docker-pycreds>=0.4.0\n",
            "  Downloading docker_pycreds-0.4.0-py2.py3-none-any.whl (9.0 kB)\n",
            "Collecting sentry-sdk>=1.0.0\n",
            "  Downloading sentry_sdk-1.5.11-py2.py3-none-any.whl (144 kB)\n",
            "\u001b[K     |████████████████████████████████| 144 kB 49.1 MB/s \n",
            "\u001b[?25hRequirement already satisfied: PyYAML in /usr/local/lib/python3.7/dist-packages (from wandb) (6.0)\n",
            "Collecting setproctitle\n",
            "  Downloading setproctitle-1.2.3-cp37-cp37m-manylinux_2_5_x86_64.manylinux1_x86_64.manylinux_2_17_x86_64.manylinux2014_x86_64.whl (29 kB)\n",
            "Requirement already satisfied: setuptools in /usr/local/lib/python3.7/dist-packages (from wandb) (57.4.0)\n",
            "Collecting shortuuid>=0.5.0\n",
            "  Downloading shortuuid-1.0.8-py3-none-any.whl (9.5 kB)\n",
            "Requirement already satisfied: psutil>=5.0.0 in /usr/local/lib/python3.7/dist-packages (from wandb) (5.4.8)\n",
            "Collecting pathtools\n",
            "  Downloading pathtools-0.1.2.tar.gz (11 kB)\n",
            "Requirement already satisfied: protobuf>=3.12.0 in /usr/local/lib/python3.7/dist-packages (from wandb) (3.17.3)\n",
            "Collecting GitPython>=1.0.0\n",
            "  Downloading GitPython-3.1.27-py3-none-any.whl (181 kB)\n",
            "\u001b[K     |████████████████████████████████| 181 kB 43.4 MB/s \n",
            "\u001b[?25hRequirement already satisfied: requests<3,>=2.0.0 in /usr/local/lib/python3.7/dist-packages (from wandb) (2.23.0)\n",
            "Collecting gitdb<5,>=4.0.1\n",
            "  Downloading gitdb-4.0.9-py3-none-any.whl (63 kB)\n",
            "\u001b[K     |████████████████████████████████| 63 kB 1.7 MB/s \n",
            "\u001b[?25hRequirement already satisfied: typing-extensions>=3.7.4.3 in /usr/local/lib/python3.7/dist-packages (from GitPython>=1.0.0->wandb) (4.2.0)\n",
            "Collecting smmap<6,>=3.0.1\n",
            "  Downloading smmap-5.0.0-py3-none-any.whl (24 kB)\n",
            "Requirement already satisfied: urllib3!=1.25.0,!=1.25.1,<1.26,>=1.21.1 in /usr/local/lib/python3.7/dist-packages (from requests<3,>=2.0.0->wandb) (1.24.3)\n",
            "Requirement already satisfied: idna<3,>=2.5 in /usr/local/lib/python3.7/dist-packages (from requests<3,>=2.0.0->wandb) (2.10)\n",
            "Requirement already satisfied: chardet<4,>=3.0.2 in /usr/local/lib/python3.7/dist-packages (from requests<3,>=2.0.0->wandb) (3.0.4)\n",
            "Requirement already satisfied: certifi>=2017.4.17 in /usr/local/lib/python3.7/dist-packages (from requests<3,>=2.0.0->wandb) (2021.10.8)\n",
            "Building wheels for collected packages: pathtools\n",
            "  Building wheel for pathtools (setup.py) ... \u001b[?25l\u001b[?25hdone\n",
            "  Created wheel for pathtools: filename=pathtools-0.1.2-py3-none-any.whl size=8806 sha256=d30227fb4cb1fd4b688cd1722ae7e09c2ab82568f2a5c4cd04ec80dd33720391\n",
            "  Stored in directory: /root/.cache/pip/wheels/3e/31/09/fa59cef12cdcfecc627b3d24273699f390e71828921b2cbba2\n",
            "Successfully built pathtools\n",
            "Installing collected packages: smmap, gitdb, shortuuid, setproctitle, sentry-sdk, pathtools, GitPython, docker-pycreds, wandb\n",
            "Successfully installed GitPython-3.1.27 docker-pycreds-0.4.0 gitdb-4.0.9 pathtools-0.1.2 sentry-sdk-1.5.11 setproctitle-1.2.3 shortuuid-1.0.8 smmap-5.0.0 wandb-0.12.16\n"
          ]
        },
        {
          "data": {
            "application/javascript": [
              "\n",
              "        window._wandbApiKey = new Promise((resolve, reject) => {\n",
              "            function loadScript(url) {\n",
              "            return new Promise(function(resolve, reject) {\n",
              "                let newScript = document.createElement(\"script\");\n",
              "                newScript.onerror = reject;\n",
              "                newScript.onload = resolve;\n",
              "                document.body.appendChild(newScript);\n",
              "                newScript.src = url;\n",
              "            });\n",
              "            }\n",
              "            loadScript(\"https://cdn.jsdelivr.net/npm/postmate/build/postmate.min.js\").then(() => {\n",
              "            const iframe = document.createElement('iframe')\n",
              "            iframe.style.cssText = \"width:0;height:0;border:none\"\n",
              "            document.body.appendChild(iframe)\n",
              "            const handshake = new Postmate({\n",
              "                container: iframe,\n",
              "                url: 'https://wandb.ai/authorize'\n",
              "            });\n",
              "            const timeout = setTimeout(() => reject(\"Couldn't auto authenticate\"), 5000)\n",
              "            handshake.then(function(child) {\n",
              "                child.on('authorize', data => {\n",
              "                    clearTimeout(timeout)\n",
              "                    resolve(data)\n",
              "                });\n",
              "            });\n",
              "            })\n",
              "        });\n",
              "    "
            ],
            "text/plain": [
              "<IPython.core.display.Javascript object>"
            ]
          },
          "metadata": {},
          "output_type": "display_data"
        },
        {
          "name": "stderr",
          "output_type": "stream",
          "text": [
            "\u001b[34m\u001b[1mwandb\u001b[0m: You can find your API key in your browser here: https://wandb.ai/authorize\n"
          ]
        },
        {
          "name": "stdout",
          "output_type": "stream",
          "text": [
            "wandb: Paste an API key from your profile and hit enter, or press ctrl+c to quit: ··········\n"
          ]
        },
        {
          "name": "stderr",
          "output_type": "stream",
          "text": [
            "\u001b[34m\u001b[1mwandb\u001b[0m: Appending key for api.wandb.ai to your netrc file: /root/.netrc\n"
          ]
        },
        {
          "data": {
            "text/plain": [
              "True"
            ]
          },
          "execution_count": 2,
          "metadata": {},
          "output_type": "execute_result"
        }
      ],
      "source": [
        "# !pip install wandb\n",
        "# import wandb\n",
        "# wandb.login()"
      ]
    },
    {
      "cell_type": "code",
      "execution_count": null,
      "metadata": {
        "id": "AswjdlbdsTQQ"
      },
      "outputs": [],
      "source": [
        "!rm -rf ../datasets"
      ]
    },
    {
      "cell_type": "code",
      "execution_count": null,
      "metadata": {
        "colab": {
          "base_uri": "https://localhost:8080/"
        },
        "id": "03hcFECiHm3K",
        "outputId": "772d7dc7-8097-4002-acb7-d21d70ac1b6e"
      },
      "outputs": [
        {
          "name": "stdout",
          "output_type": "stream",
          "text": [
            "  % Total    % Received % Xferd  Average Speed   Time    Time     Time  Current\n",
            "                                 Dload  Upload   Total   Spent    Left  Speed\n",
            "100   896  100   896    0     0   1659      0 --:--:-- --:--:-- --:--:--  1656\n",
            "100  417k  100  417k    0     0   572k      0 --:--:-- --:--:-- --:--:--  572k\n",
            "Archive:  roboflow.zip\n",
            " extracting: ../datasets/README.dataset.txt  \n",
            " extracting: ../datasets/README.roboflow.txt  \n",
            " extracting: ../datasets/data.yaml   \n",
            "   creating: ../datasets/test/\n",
            "   creating: ../datasets/test/images/\n",
            " extracting: ../datasets/test/images/image_55_png.rf.b98e602d83d71752fd18043d86c2269a.jpg  \n",
            "   creating: ../datasets/test/labels/\n",
            " extracting: ../datasets/test/labels/image_55_png.rf.b98e602d83d71752fd18043d86c2269a.txt  \n",
            "   creating: ../datasets/train/\n",
            "   creating: ../datasets/train/images/\n",
            " extracting: ../datasets/train/images/image_10_png.rf.0382c6c7f359385aae17c1f90fdec1bf.jpg  \n",
            " extracting: ../datasets/train/images/image_10_png.rf.ae94be647f9276193657be4b909ba7af.jpg  \n",
            " extracting: ../datasets/train/images/image_10_png.rf.e3ade468ad6a8b124219bf329fbe309f.jpg  \n",
            " extracting: ../datasets/train/images/image_12_png.rf.00c0fbe4180138594cc1cea7a24f6e52.jpg  \n",
            " extracting: ../datasets/train/images/image_12_png.rf.e1a21d43895d5062a168ec23b261e3e6.jpg  \n",
            " extracting: ../datasets/train/images/image_12_png.rf.ea0858cff3ce37e40cddf153f79e9e63.jpg  \n",
            " extracting: ../datasets/train/images/image_15_png.rf.569a851c3b81985c3bdb68e478b3cc97.jpg  \n",
            " extracting: ../datasets/train/images/image_15_png.rf.6881057eb6f08b340d4615c418eb355a.jpg  \n",
            " extracting: ../datasets/train/images/image_15_png.rf.e81603f2d9005654d71463422dd3345b.jpg  \n",
            " extracting: ../datasets/train/images/image_16_png.rf.8e7208876f9da883796e666868ed0810.jpg  \n",
            " extracting: ../datasets/train/images/image_16_png.rf.e6edd6fe8fb9f7a2d832d86a88435549.jpg  \n",
            " extracting: ../datasets/train/images/image_16_png.rf.f0711d0cc6b84f69bf204674832a2bd0.jpg  \n",
            " extracting: ../datasets/train/images/image_17_png.rf.479168e4bc70413921e0d59be765b352.jpg  \n",
            " extracting: ../datasets/train/images/image_17_png.rf.62519440bbf48e89c15c4c07d24f8f27.jpg  \n",
            " extracting: ../datasets/train/images/image_17_png.rf.f67c993af0c94c3e8d29390bcf9cc03b.jpg  \n",
            " extracting: ../datasets/train/images/image_18_png.rf.19581e30750be2f1352387786e83ec80.jpg  \n",
            " extracting: ../datasets/train/images/image_18_png.rf.59c1606538b87c3625bb8c947c42a087.jpg  \n",
            " extracting: ../datasets/train/images/image_19_png.rf.3a85616bdeb37eb483d27378409290b8.jpg  \n",
            " extracting: ../datasets/train/images/image_19_png.rf.49e3a1ba2f1c1fc7ec9c81ce95ad502b.jpg  \n",
            " extracting: ../datasets/train/images/image_19_png.rf.b1169fb3ffa27cda26095b901e5b68dc.jpg  \n",
            " extracting: ../datasets/train/images/image_1_png.rf.9afbde8fa14cd4d55dc52fede7bbce3a.jpg  \n",
            " extracting: ../datasets/train/images/image_1_png.rf.a50cc6f32db085ad82585cd9d4f1a1b4.jpg  \n",
            " extracting: ../datasets/train/images/image_1_png.rf.a7359637277f047c5fcf873d0a2ca4cc.jpg  \n",
            " extracting: ../datasets/train/images/image_20_png.rf.591b0f33129e9ec31eefa3207a65b8e6.jpg  \n",
            " extracting: ../datasets/train/images/image_20_png.rf.6940db4ff2cddb4df2b5bcf9a07cdf45.jpg  \n",
            " extracting: ../datasets/train/images/image_20_png.rf.a91ef896f3399bcbfa4ff6f68eb1009e.jpg  \n",
            " extracting: ../datasets/train/images/image_21_png.rf.55b576dfe0b375d4f13c06ea04a25afb.jpg  \n",
            " extracting: ../datasets/train/images/image_21_png.rf.5f21a59b27656ac2eea6940770b664dc.jpg  \n",
            " extracting: ../datasets/train/images/image_22_png.rf.87c192d6d7245e1b9856b1b427c78938.jpg  \n",
            " extracting: ../datasets/train/images/image_22_png.rf.8899a8a3ada616f11ab07c5ad452ba7d.jpg  \n",
            " extracting: ../datasets/train/images/image_22_png.rf.d68b8a7c9ac2a6426ddef86f16b6a147.jpg  \n",
            " extracting: ../datasets/train/images/image_23_png.rf.30aba8ad2871b5e6c12b842d1927ee91.jpg  \n",
            " extracting: ../datasets/train/images/image_23_png.rf.aa56137be95f9ad93a9a49d0535244fe.jpg  \n",
            " extracting: ../datasets/train/images/image_23_png.rf.d93e2c94ce8ae2293b0ba430f7469955.jpg  \n",
            " extracting: ../datasets/train/images/image_24_png.rf.1a0aa233e17f508f7b5e3d1b301472a6.jpg  \n",
            " extracting: ../datasets/train/images/image_24_png.rf.962f4bd6dd5b45d3bd489296d7c05af2.jpg  \n",
            " extracting: ../datasets/train/images/image_24_png.rf.b4df40769da8e704d4f32180240fa2bc.jpg  \n",
            " extracting: ../datasets/train/images/image_25_png.rf.1e350fc968ba902905a297ebfaced62a.jpg  \n",
            " extracting: ../datasets/train/images/image_25_png.rf.62420b65b5d157fd2c03ad186378284a.jpg  \n",
            " extracting: ../datasets/train/images/image_25_png.rf.cfb7ce0002d3f2a70952b55aa1e2fb4c.jpg  \n",
            " extracting: ../datasets/train/images/image_26_png.rf.40e85e56c69d884af4b91957d55886b1.jpg  \n",
            " extracting: ../datasets/train/images/image_26_png.rf.4c0ee4aacedc51fcaeb187779c19f8ad.jpg  \n",
            " extracting: ../datasets/train/images/image_26_png.rf.9dc1e9328140d6f20c635d7d5d022ff2.jpg  \n",
            " extracting: ../datasets/train/images/image_27_png.rf.1b48e8f0223a1de441b05c1e6778717a.jpg  \n",
            " extracting: ../datasets/train/images/image_27_png.rf.334e35fa1643db945e83a476c91062f7.jpg  \n",
            " extracting: ../datasets/train/images/image_27_png.rf.b575312c78d69c791b43ddad3644397e.jpg  \n",
            " extracting: ../datasets/train/images/image_28_png.rf.37a497e7cda9971fcce74c523a0a1b70.jpg  \n",
            " extracting: ../datasets/train/images/image_28_png.rf.49e916ad1e6dcdba234ded9f471674d3.jpg  \n",
            " extracting: ../datasets/train/images/image_28_png.rf.bdf22b41aa43f266b81189028eefb409.jpg  \n",
            " extracting: ../datasets/train/images/image_29_png.rf.1bff72ecbee829fe487a76a232d6eb40.jpg  \n",
            " extracting: ../datasets/train/images/image_29_png.rf.234fee52bcec6a976601bc4fc95b1934.jpg  \n",
            " extracting: ../datasets/train/images/image_29_png.rf.9cc53d908797891e3cff6789ad253423.jpg  \n",
            " extracting: ../datasets/train/images/image_2_png.rf.354f7d24caf5bab1742b670f4b88b77c.jpg  \n",
            " extracting: ../datasets/train/images/image_2_png.rf.86c82fef2537ef8127c76fad3b1103d2.jpg  \n",
            " extracting: ../datasets/train/images/image_2_png.rf.bf2c24f882aea7a0177f97352e049d43.jpg  \n",
            " extracting: ../datasets/train/images/image_31_png.rf.88a1a97ecbbb0c822ebfa7904b1449f7.jpg  \n",
            " extracting: ../datasets/train/images/image_31_png.rf.aa4f675a8684477dce5749c6c6745d2e.jpg  \n",
            " extracting: ../datasets/train/images/image_31_png.rf.b76cc2b2af19fb65a925979d522c6a51.jpg  \n",
            " extracting: ../datasets/train/images/image_32_png.rf.04907261aa08ec530604dcbf973ef20a.jpg  \n",
            " extracting: ../datasets/train/images/image_32_png.rf.ada09e4bc443b1c515217c15e54e5c97.jpg  \n",
            " extracting: ../datasets/train/images/image_32_png.rf.f40f15702aae1fc82fb7a3dab87bd499.jpg  \n",
            " extracting: ../datasets/train/images/image_33_png.rf.12a06a99a865949145831ac9ab645fb1.jpg  \n",
            " extracting: ../datasets/train/images/image_33_png.rf.5430ec498bb7557425fd130523884527.jpg  \n",
            " extracting: ../datasets/train/images/image_33_png.rf.7898a8846a15735412c4ae79e3d5e4ad.jpg  \n",
            " extracting: ../datasets/train/images/image_34_png.rf.49407d77fbf6a81d07ff788c2d41cf32.jpg  \n",
            " extracting: ../datasets/train/images/image_34_png.rf.511c15684c7f31ec4e9aae2f2c3deecd.jpg  \n",
            " extracting: ../datasets/train/images/image_34_png.rf.d44b42b28e0cffadeeee4200bb65de10.jpg  \n",
            " extracting: ../datasets/train/images/image_35_png.rf.16ad28848246212f2c03d745afef3f68.jpg  \n",
            " extracting: ../datasets/train/images/image_35_png.rf.b7e0b0cdc553a192a5817e0bdd8416d2.jpg  \n",
            " extracting: ../datasets/train/images/image_35_png.rf.f0ec389cda579cac47be8959142354ae.jpg  \n",
            " extracting: ../datasets/train/images/image_36_png.rf.0b6e168264aee49d5aac727711a3cf23.jpg  \n",
            " extracting: ../datasets/train/images/image_36_png.rf.6816a28f02b990f31abb28003aafa9df.jpg  \n",
            " extracting: ../datasets/train/images/image_36_png.rf.90acc191c3fe1e30169a024316ed205a.jpg  \n",
            " extracting: ../datasets/train/images/image_37_png.rf.43360639a83831e9bb873b3da4642c86.jpg  \n",
            " extracting: ../datasets/train/images/image_37_png.rf.8a5536cc35f22fbc41576a1dc895b56a.jpg  \n",
            " extracting: ../datasets/train/images/image_37_png.rf.c044ff3e93ab95388c37ae1609bd3dd6.jpg  \n",
            " extracting: ../datasets/train/images/image_38_png.rf.15d81cf746edd112f2337aff02b4d3d0.jpg  \n",
            " extracting: ../datasets/train/images/image_38_png.rf.bd7eaeab9ea01ede13c34b52ffecd0b9.jpg  \n",
            " extracting: ../datasets/train/images/image_38_png.rf.f77573a9ca0821ad4a669a85b5115e0d.jpg  \n",
            " extracting: ../datasets/train/images/image_39_png.rf.73774c64e85d6950464c19ecc8e4b52c.jpg  \n",
            " extracting: ../datasets/train/images/image_39_png.rf.979e7c214bc1deae461ea5eb1b13c4b6.jpg  \n",
            " extracting: ../datasets/train/images/image_39_png.rf.c26657e4380f25b63e824d5572c5c5c3.jpg  \n",
            " extracting: ../datasets/train/images/image_3_png.rf.1d4388c5d7ba07db0dfc80cf4bb8a841.jpg  \n",
            " extracting: ../datasets/train/images/image_3_png.rf.6dc334ea7c46af5fa6d018f0b72efcea.jpg  \n",
            " extracting: ../datasets/train/images/image_3_png.rf.75c987991949ed891eda400703286c2a.jpg  \n",
            " extracting: ../datasets/train/images/image_40_png.rf.143654326406f57c6dbe1e2288cb000b.jpg  \n",
            " extracting: ../datasets/train/images/image_40_png.rf.14516693fee49ae893d906f4116ee3bc.jpg  \n",
            " extracting: ../datasets/train/images/image_40_png.rf.7398e70748d1f05153c1e7d9b3fabaeb.jpg  \n",
            " extracting: ../datasets/train/images/image_41_png.rf.6bdc1ad48ad60dd94ac5fefc34fd4933.jpg  \n",
            " extracting: ../datasets/train/images/image_41_png.rf.70c390119734865dba700cbedee7b3e5.jpg  \n",
            " extracting: ../datasets/train/images/image_41_png.rf.9d1ea06c0ed9f679566cc6233e33879c.jpg  \n",
            " extracting: ../datasets/train/images/image_42_png.rf.0e7d63dd656dd4ff17e8ca47c9d93a28.jpg  \n",
            " extracting: ../datasets/train/images/image_42_png.rf.7bca2b821c7fc863160c6af6598028e9.jpg  \n",
            " extracting: ../datasets/train/images/image_42_png.rf.9c6e5dacf9a386e4190cee3157741115.jpg  \n",
            " extracting: ../datasets/train/images/image_43_png.rf.a71e54ef82be9fce017dd3d8c48e18ee.jpg  \n",
            " extracting: ../datasets/train/images/image_43_png.rf.c8a5f8f5811abdcbf8b7b4075dd915ef.jpg  \n",
            " extracting: ../datasets/train/images/image_43_png.rf.f80b7bc0e8b7767f18fd5c2da546e178.jpg  \n",
            " extracting: ../datasets/train/images/image_44_png.rf.85c62a50af061d2a2c9cf323552523bb.jpg  \n",
            " extracting: ../datasets/train/images/image_44_png.rf.9b2279cbb966868ca76bed142ea709bc.jpg  \n",
            " extracting: ../datasets/train/images/image_44_png.rf.a475425f50fa271a2f908ebcb09352eb.jpg  \n",
            " extracting: ../datasets/train/images/image_46_png.rf.0547c9e86f8b4f6849cf0975e91da380.jpg  \n",
            " extracting: ../datasets/train/images/image_46_png.rf.8c6cc0fd365bb0ec2365d148590a1e88.jpg  \n",
            " extracting: ../datasets/train/images/image_46_png.rf.96099b0b90a1aa49d6d81e39e9657624.jpg  \n",
            " extracting: ../datasets/train/images/image_47_png.rf.41eb4160c4293dd16f4ed224036de336.jpg  \n",
            " extracting: ../datasets/train/images/image_47_png.rf.655f323c19dc6edab3752f517211b034.jpg  \n",
            " extracting: ../datasets/train/images/image_47_png.rf.bbf17262b8951ef26a2e9ead6767f86c.jpg  \n",
            " extracting: ../datasets/train/images/image_48_png.rf.b7f0e0d7e9a719354e6456c8c902fb46.jpg  \n",
            " extracting: ../datasets/train/images/image_48_png.rf.ebc5589d57c4c4a409a3dac71582e328.jpg  \n",
            " extracting: ../datasets/train/images/image_48_png.rf.f8e26b3cd872061133cea55b5c399519.jpg  \n",
            " extracting: ../datasets/train/images/image_49_png.rf.6ccd4860abca9d64425cc43848cf8620.jpg  \n",
            " extracting: ../datasets/train/images/image_49_png.rf.b7d305c7d8597ba03ff6f25cb422245e.jpg  \n",
            " extracting: ../datasets/train/images/image_49_png.rf.c9d51bf351f7fbbe024bcee85386a334.jpg  \n",
            " extracting: ../datasets/train/images/image_4_png.rf.195d0819c2a7da5675c46bdb3d294a28.jpg  \n",
            " extracting: ../datasets/train/images/image_4_png.rf.24a89071afd3f14c4169fd5f85db2cd6.jpg  \n",
            " extracting: ../datasets/train/images/image_4_png.rf.5de0fd60892d35a4fb9d6505f30c4ac2.jpg  \n",
            " extracting: ../datasets/train/images/image_50_png.rf.26e1c94be58072495f0c8861acd22d81.jpg  \n",
            " extracting: ../datasets/train/images/image_50_png.rf.4b3bcf0312a527f315e03c5021541c72.jpg  \n",
            " extracting: ../datasets/train/images/image_50_png.rf.566849060b8ffe49133b60bbbcf82efe.jpg  \n",
            " extracting: ../datasets/train/images/image_51_png.rf.8cb66b4ea3e1496e8e987f255f90995e.jpg  \n",
            " extracting: ../datasets/train/images/image_51_png.rf.b3e3494d1a7f30bedf1b75915b552d9d.jpg  \n",
            " extracting: ../datasets/train/images/image_51_png.rf.c5c45c5e1dc084bc4050608f6e4be2fd.jpg  \n",
            " extracting: ../datasets/train/images/image_52_png.rf.57caafb7f2959169ffbf50886381801b.jpg  \n",
            " extracting: ../datasets/train/images/image_52_png.rf.6b412ec52be78b8ec451634eebf18d3b.jpg  \n",
            " extracting: ../datasets/train/images/image_52_png.rf.baf97682512945f25f4cb85cef6e2d57.jpg  \n",
            " extracting: ../datasets/train/images/image_53_png.rf.1a3a048e610b327343388952e9eeb380.jpg  \n",
            " extracting: ../datasets/train/images/image_53_png.rf.4d130e4b8c7a5acdc699986450d8a02a.jpg  \n",
            " extracting: ../datasets/train/images/image_53_png.rf.6e8ac5da4fcd5fd1102fcb459bd68744.jpg  \n",
            " extracting: ../datasets/train/images/image_54_png.rf.3b2fcf5adbfdf019e6137a7cc380a4f6.jpg  \n",
            " extracting: ../datasets/train/images/image_54_png.rf.ac34dfd4b30d26b7c96f5a33e60a9459.jpg  \n",
            " extracting: ../datasets/train/images/image_54_png.rf.c8b3eafb1679e1b598b26f435228fc64.jpg  \n",
            " extracting: ../datasets/train/images/image_57_png.rf.045b262ff8bb62eb183d954c8140a94c.jpg  \n",
            " extracting: ../datasets/train/images/image_57_png.rf.4c936e888d5f1ef9766061c4ab30633b.jpg  \n",
            " extracting: ../datasets/train/images/image_57_png.rf.84b1ccc14fdfcb51bf4f0ab7ff392c7f.jpg  \n",
            " extracting: ../datasets/train/images/image_58_png.rf.0577adc8ac7946d5d66a779b36aa1dd0.jpg  \n",
            " extracting: ../datasets/train/images/image_58_png.rf.a14c1425a8462c8f80372576b5705f71.jpg  \n",
            " extracting: ../datasets/train/images/image_58_png.rf.cf04a623901f0a053f2904cf8acb413c.jpg  \n",
            " extracting: ../datasets/train/images/image_5_png.rf.aaec4208f2d3ef8f4de3241d3b4bb838.jpg  \n",
            " extracting: ../datasets/train/images/image_5_png.rf.e2a5ec45bf1f3f2240efb776b6d8d03e.jpg  \n",
            " extracting: ../datasets/train/images/image_60_png.rf.1eee46242c36e635e1ac67515247c0c8.jpg  \n",
            " extracting: ../datasets/train/images/image_60_png.rf.2861fe30458b5d643dda16df917130d5.jpg  \n",
            " extracting: ../datasets/train/images/image_60_png.rf.77e92c9d6072fdf986e1b4dd2f3e17f9.jpg  \n",
            " extracting: ../datasets/train/images/image_61_png.rf.20d1656c4cc77f922c968b67773da464.jpg  \n",
            " extracting: ../datasets/train/images/image_61_png.rf.5328de45b2d569e60f551f668f0161f8.jpg  \n",
            " extracting: ../datasets/train/images/image_61_png.rf.eb62ff1d2e5470488ea31b43ff2e66bf.jpg  \n",
            " extracting: ../datasets/train/images/image_62_png.rf.4ed86b53860af9aa0e868b815df0bb1e.jpg  \n",
            " extracting: ../datasets/train/images/image_62_png.rf.5b5864e8a1c0f7da5aba27af91ef57a7.jpg  \n",
            " extracting: ../datasets/train/images/image_62_png.rf.de4a2a28613c54f9afd5e481decaff5a.jpg  \n",
            " extracting: ../datasets/train/images/image_63_png.rf.14bf5d8001aa06283601bcd3a6d76572.jpg  \n",
            " extracting: ../datasets/train/images/image_63_png.rf.24008d00d280ce8073f1ec0bf62746bc.jpg  \n",
            " extracting: ../datasets/train/images/image_63_png.rf.33981e75b8feadd8bc81f5c80870b36b.jpg  \n",
            " extracting: ../datasets/train/images/image_64_png.rf.6a434ca5ebf874bb80d46096a0b2a7dc.jpg  \n",
            " extracting: ../datasets/train/images/image_64_png.rf.9c09ba1cf85736287a836ea271943822.jpg  \n",
            " extracting: ../datasets/train/images/image_64_png.rf.e10812b39039f61382def013f7771890.jpg  \n",
            " extracting: ../datasets/train/images/image_65_png.rf.29347b5033ebb40dcb6f4f259512e081.jpg  \n",
            " extracting: ../datasets/train/images/image_65_png.rf.7d8ea9a8df83d4821f93441baa442c14.jpg  \n",
            " extracting: ../datasets/train/images/image_65_png.rf.d3db86679261553c3cdff93eadccd6d2.jpg  \n",
            " extracting: ../datasets/train/images/image_66_png.rf.492b047cc13211e1ab13654011798b6a.jpg  \n",
            " extracting: ../datasets/train/images/image_66_png.rf.b916be1a05027c78d8adc6dce2cb5530.jpg  \n",
            " extracting: ../datasets/train/images/image_67_png.rf.1dbfec56bc4cc75fc916a6180671f866.jpg  \n",
            " extracting: ../datasets/train/images/image_67_png.rf.6a8bc85a61913d5a2781fdd4fa9bde30.jpg  \n",
            " extracting: ../datasets/train/images/image_67_png.rf.fb39d2b63b31e9f2d2db1fadd1d46e45.jpg  \n",
            " extracting: ../datasets/train/images/image_68_png.rf.257b685c7f9a0443e87c95d7c8ba92a3.jpg  \n",
            " extracting: ../datasets/train/images/image_68_png.rf.628b0e0d18f568dddbab7bf6f213546a.jpg  \n",
            " extracting: ../datasets/train/images/image_68_png.rf.8582060aee8032419298e4a1edb0eea5.jpg  \n",
            " extracting: ../datasets/train/images/image_69_png.rf.29c8a52cbd9280bd6187b1bb5e5dfd78.jpg  \n",
            " extracting: ../datasets/train/images/image_69_png.rf.40d8502fe4b2405586d1193e7929e1c5.jpg  \n",
            " extracting: ../datasets/train/images/image_69_png.rf.4683fc02b192d2941857b7621fd42b64.jpg  \n",
            " extracting: ../datasets/train/images/image_6_png.rf.9ee9ebfeafc9c32fb3b03a6d9858baa2.jpg  \n",
            " extracting: ../datasets/train/images/image_6_png.rf.da5169c43fb49c5ff6c259d10be78912.jpg  \n",
            " extracting: ../datasets/train/images/image_70_png.rf.106300492e392cddc588057e54982be2.jpg  \n",
            " extracting: ../datasets/train/images/image_70_png.rf.cb02313b0ad2210ce1e1d6e94e8ef317.jpg  \n",
            " extracting: ../datasets/train/images/image_70_png.rf.f9401e3372c5e3364a158dcb171d5367.jpg  \n",
            " extracting: ../datasets/train/images/image_71_png.rf.3985a5ee1df1148fa47ee02e116de640.jpg  \n",
            " extracting: ../datasets/train/images/image_71_png.rf.b70eb05a33e4fe155585f643f6ed6743.jpg  \n",
            " extracting: ../datasets/train/images/image_71_png.rf.ff8f4c23825303161d75182d107b268f.jpg  \n",
            " extracting: ../datasets/train/images/image_72_png.rf.445d55322f1f81ddf18f8070b3891ea5.jpg  \n",
            " extracting: ../datasets/train/images/image_72_png.rf.602faa807cb9f83d826304ef4749dae1.jpg  \n",
            " extracting: ../datasets/train/images/image_72_png.rf.8288731c780a0b85bf3dd46450c33f14.jpg  \n",
            " extracting: ../datasets/train/images/image_73_png.rf.20d6bb5788197e12475ec795ca1825f7.jpg  \n",
            " extracting: ../datasets/train/images/image_73_png.rf.3ddab6c7c7c5a7b542bdf85ad060ec61.jpg  \n",
            " extracting: ../datasets/train/images/image_73_png.rf.a6fb5d60adffebcbef9e8585d0697e9f.jpg  \n",
            " extracting: ../datasets/train/images/image_74_png.rf.48199c36d1779e01ff2a4d9d0310c835.jpg  \n",
            " extracting: ../datasets/train/images/image_74_png.rf.c9f0d82b44190dec1308cfdf334856c9.jpg  \n",
            " extracting: ../datasets/train/images/image_74_png.rf.d0a89390d0a8ddf7f4ce09489e3ba6ad.jpg  \n",
            " extracting: ../datasets/train/images/image_7_png.rf.3a01b66c32a5fcc8c2d7a626b9b19e3e.jpg  \n",
            " extracting: ../datasets/train/images/image_7_png.rf.42cb552c89fa13c86691e83762611be8.jpg  \n",
            " extracting: ../datasets/train/images/image_7_png.rf.7822b74e51cfdba484ce73387514a973.jpg  \n",
            " extracting: ../datasets/train/images/image_9_png.rf.45f4d7caf7e4ca16e61dcc35354973e4.jpg  \n",
            " extracting: ../datasets/train/images/image_9_png.rf.727d632d9a7735e8b8c7ee57870c4335.jpg  \n",
            " extracting: ../datasets/train/images/image_9_png.rf.a3c7ae4029b9760c3a2780430bd9f57d.jpg  \n",
            "   creating: ../datasets/train/labels/\n",
            " extracting: ../datasets/train/labels/image_10_png.rf.0382c6c7f359385aae17c1f90fdec1bf.txt  \n",
            " extracting: ../datasets/train/labels/image_10_png.rf.ae94be647f9276193657be4b909ba7af.txt  \n",
            " extracting: ../datasets/train/labels/image_10_png.rf.e3ade468ad6a8b124219bf329fbe309f.txt  \n",
            " extracting: ../datasets/train/labels/image_12_png.rf.00c0fbe4180138594cc1cea7a24f6e52.txt  \n",
            " extracting: ../datasets/train/labels/image_12_png.rf.e1a21d43895d5062a168ec23b261e3e6.txt  \n",
            " extracting: ../datasets/train/labels/image_12_png.rf.ea0858cff3ce37e40cddf153f79e9e63.txt  \n",
            " extracting: ../datasets/train/labels/image_15_png.rf.569a851c3b81985c3bdb68e478b3cc97.txt  \n",
            " extracting: ../datasets/train/labels/image_15_png.rf.6881057eb6f08b340d4615c418eb355a.txt  \n",
            " extracting: ../datasets/train/labels/image_15_png.rf.e81603f2d9005654d71463422dd3345b.txt  \n",
            " extracting: ../datasets/train/labels/image_16_png.rf.8e7208876f9da883796e666868ed0810.txt  \n",
            " extracting: ../datasets/train/labels/image_16_png.rf.e6edd6fe8fb9f7a2d832d86a88435549.txt  \n",
            " extracting: ../datasets/train/labels/image_16_png.rf.f0711d0cc6b84f69bf204674832a2bd0.txt  \n",
            " extracting: ../datasets/train/labels/image_17_png.rf.479168e4bc70413921e0d59be765b352.txt  \n",
            " extracting: ../datasets/train/labels/image_17_png.rf.62519440bbf48e89c15c4c07d24f8f27.txt  \n",
            " extracting: ../datasets/train/labels/image_17_png.rf.f67c993af0c94c3e8d29390bcf9cc03b.txt  \n",
            " extracting: ../datasets/train/labels/image_18_png.rf.19581e30750be2f1352387786e83ec80.txt  \n",
            " extracting: ../datasets/train/labels/image_18_png.rf.59c1606538b87c3625bb8c947c42a087.txt  \n",
            " extracting: ../datasets/train/labels/image_19_png.rf.3a85616bdeb37eb483d27378409290b8.txt  \n",
            " extracting: ../datasets/train/labels/image_19_png.rf.49e3a1ba2f1c1fc7ec9c81ce95ad502b.txt  \n",
            " extracting: ../datasets/train/labels/image_19_png.rf.b1169fb3ffa27cda26095b901e5b68dc.txt  \n",
            " extracting: ../datasets/train/labels/image_1_png.rf.9afbde8fa14cd4d55dc52fede7bbce3a.txt  \n",
            " extracting: ../datasets/train/labels/image_1_png.rf.a50cc6f32db085ad82585cd9d4f1a1b4.txt  \n",
            " extracting: ../datasets/train/labels/image_1_png.rf.a7359637277f047c5fcf873d0a2ca4cc.txt  \n",
            " extracting: ../datasets/train/labels/image_20_png.rf.591b0f33129e9ec31eefa3207a65b8e6.txt  \n",
            " extracting: ../datasets/train/labels/image_20_png.rf.6940db4ff2cddb4df2b5bcf9a07cdf45.txt  \n",
            " extracting: ../datasets/train/labels/image_20_png.rf.a91ef896f3399bcbfa4ff6f68eb1009e.txt  \n",
            " extracting: ../datasets/train/labels/image_21_png.rf.55b576dfe0b375d4f13c06ea04a25afb.txt  \n",
            " extracting: ../datasets/train/labels/image_21_png.rf.5f21a59b27656ac2eea6940770b664dc.txt  \n",
            " extracting: ../datasets/train/labels/image_22_png.rf.87c192d6d7245e1b9856b1b427c78938.txt  \n",
            " extracting: ../datasets/train/labels/image_22_png.rf.8899a8a3ada616f11ab07c5ad452ba7d.txt  \n",
            " extracting: ../datasets/train/labels/image_22_png.rf.d68b8a7c9ac2a6426ddef86f16b6a147.txt  \n",
            " extracting: ../datasets/train/labels/image_23_png.rf.30aba8ad2871b5e6c12b842d1927ee91.txt  \n",
            " extracting: ../datasets/train/labels/image_23_png.rf.aa56137be95f9ad93a9a49d0535244fe.txt  \n",
            " extracting: ../datasets/train/labels/image_23_png.rf.d93e2c94ce8ae2293b0ba430f7469955.txt  \n",
            " extracting: ../datasets/train/labels/image_24_png.rf.1a0aa233e17f508f7b5e3d1b301472a6.txt  \n",
            " extracting: ../datasets/train/labels/image_24_png.rf.962f4bd6dd5b45d3bd489296d7c05af2.txt  \n",
            " extracting: ../datasets/train/labels/image_24_png.rf.b4df40769da8e704d4f32180240fa2bc.txt  \n",
            " extracting: ../datasets/train/labels/image_25_png.rf.1e350fc968ba902905a297ebfaced62a.txt  \n",
            " extracting: ../datasets/train/labels/image_25_png.rf.62420b65b5d157fd2c03ad186378284a.txt  \n",
            " extracting: ../datasets/train/labels/image_25_png.rf.cfb7ce0002d3f2a70952b55aa1e2fb4c.txt  \n",
            " extracting: ../datasets/train/labels/image_26_png.rf.40e85e56c69d884af4b91957d55886b1.txt  \n",
            " extracting: ../datasets/train/labels/image_26_png.rf.4c0ee4aacedc51fcaeb187779c19f8ad.txt  \n",
            " extracting: ../datasets/train/labels/image_26_png.rf.9dc1e9328140d6f20c635d7d5d022ff2.txt  \n",
            " extracting: ../datasets/train/labels/image_27_png.rf.1b48e8f0223a1de441b05c1e6778717a.txt  \n",
            " extracting: ../datasets/train/labels/image_27_png.rf.334e35fa1643db945e83a476c91062f7.txt  \n",
            " extracting: ../datasets/train/labels/image_27_png.rf.b575312c78d69c791b43ddad3644397e.txt  \n",
            " extracting: ../datasets/train/labels/image_28_png.rf.37a497e7cda9971fcce74c523a0a1b70.txt  \n",
            " extracting: ../datasets/train/labels/image_28_png.rf.49e916ad1e6dcdba234ded9f471674d3.txt  \n",
            " extracting: ../datasets/train/labels/image_28_png.rf.bdf22b41aa43f266b81189028eefb409.txt  \n",
            " extracting: ../datasets/train/labels/image_29_png.rf.1bff72ecbee829fe487a76a232d6eb40.txt  \n",
            " extracting: ../datasets/train/labels/image_29_png.rf.234fee52bcec6a976601bc4fc95b1934.txt  \n",
            " extracting: ../datasets/train/labels/image_29_png.rf.9cc53d908797891e3cff6789ad253423.txt  \n",
            " extracting: ../datasets/train/labels/image_2_png.rf.354f7d24caf5bab1742b670f4b88b77c.txt  \n",
            " extracting: ../datasets/train/labels/image_2_png.rf.86c82fef2537ef8127c76fad3b1103d2.txt  \n",
            " extracting: ../datasets/train/labels/image_2_png.rf.bf2c24f882aea7a0177f97352e049d43.txt  \n",
            " extracting: ../datasets/train/labels/image_31_png.rf.88a1a97ecbbb0c822ebfa7904b1449f7.txt  \n",
            " extracting: ../datasets/train/labels/image_31_png.rf.aa4f675a8684477dce5749c6c6745d2e.txt  \n",
            " extracting: ../datasets/train/labels/image_31_png.rf.b76cc2b2af19fb65a925979d522c6a51.txt  \n",
            " extracting: ../datasets/train/labels/image_32_png.rf.04907261aa08ec530604dcbf973ef20a.txt  \n",
            " extracting: ../datasets/train/labels/image_32_png.rf.ada09e4bc443b1c515217c15e54e5c97.txt  \n",
            " extracting: ../datasets/train/labels/image_32_png.rf.f40f15702aae1fc82fb7a3dab87bd499.txt  \n",
            " extracting: ../datasets/train/labels/image_33_png.rf.12a06a99a865949145831ac9ab645fb1.txt  \n",
            " extracting: ../datasets/train/labels/image_33_png.rf.5430ec498bb7557425fd130523884527.txt  \n",
            " extracting: ../datasets/train/labels/image_33_png.rf.7898a8846a15735412c4ae79e3d5e4ad.txt  \n",
            " extracting: ../datasets/train/labels/image_34_png.rf.49407d77fbf6a81d07ff788c2d41cf32.txt  \n",
            " extracting: ../datasets/train/labels/image_34_png.rf.511c15684c7f31ec4e9aae2f2c3deecd.txt  \n",
            " extracting: ../datasets/train/labels/image_34_png.rf.d44b42b28e0cffadeeee4200bb65de10.txt  \n",
            " extracting: ../datasets/train/labels/image_35_png.rf.16ad28848246212f2c03d745afef3f68.txt  \n",
            " extracting: ../datasets/train/labels/image_35_png.rf.b7e0b0cdc553a192a5817e0bdd8416d2.txt  \n",
            " extracting: ../datasets/train/labels/image_35_png.rf.f0ec389cda579cac47be8959142354ae.txt  \n",
            " extracting: ../datasets/train/labels/image_36_png.rf.0b6e168264aee49d5aac727711a3cf23.txt  \n",
            " extracting: ../datasets/train/labels/image_36_png.rf.6816a28f02b990f31abb28003aafa9df.txt  \n",
            " extracting: ../datasets/train/labels/image_36_png.rf.90acc191c3fe1e30169a024316ed205a.txt  \n",
            " extracting: ../datasets/train/labels/image_37_png.rf.43360639a83831e9bb873b3da4642c86.txt  \n",
            " extracting: ../datasets/train/labels/image_37_png.rf.8a5536cc35f22fbc41576a1dc895b56a.txt  \n",
            " extracting: ../datasets/train/labels/image_37_png.rf.c044ff3e93ab95388c37ae1609bd3dd6.txt  \n",
            " extracting: ../datasets/train/labels/image_38_png.rf.15d81cf746edd112f2337aff02b4d3d0.txt  \n",
            " extracting: ../datasets/train/labels/image_38_png.rf.bd7eaeab9ea01ede13c34b52ffecd0b9.txt  \n",
            " extracting: ../datasets/train/labels/image_38_png.rf.f77573a9ca0821ad4a669a85b5115e0d.txt  \n",
            " extracting: ../datasets/train/labels/image_39_png.rf.73774c64e85d6950464c19ecc8e4b52c.txt  \n",
            " extracting: ../datasets/train/labels/image_39_png.rf.979e7c214bc1deae461ea5eb1b13c4b6.txt  \n",
            " extracting: ../datasets/train/labels/image_39_png.rf.c26657e4380f25b63e824d5572c5c5c3.txt  \n",
            " extracting: ../datasets/train/labels/image_3_png.rf.1d4388c5d7ba07db0dfc80cf4bb8a841.txt  \n",
            " extracting: ../datasets/train/labels/image_3_png.rf.6dc334ea7c46af5fa6d018f0b72efcea.txt  \n",
            " extracting: ../datasets/train/labels/image_3_png.rf.75c987991949ed891eda400703286c2a.txt  \n",
            " extracting: ../datasets/train/labels/image_40_png.rf.143654326406f57c6dbe1e2288cb000b.txt  \n",
            " extracting: ../datasets/train/labels/image_40_png.rf.14516693fee49ae893d906f4116ee3bc.txt  \n",
            " extracting: ../datasets/train/labels/image_40_png.rf.7398e70748d1f05153c1e7d9b3fabaeb.txt  \n",
            " extracting: ../datasets/train/labels/image_41_png.rf.6bdc1ad48ad60dd94ac5fefc34fd4933.txt  \n",
            " extracting: ../datasets/train/labels/image_41_png.rf.70c390119734865dba700cbedee7b3e5.txt  \n",
            " extracting: ../datasets/train/labels/image_41_png.rf.9d1ea06c0ed9f679566cc6233e33879c.txt  \n",
            " extracting: ../datasets/train/labels/image_42_png.rf.0e7d63dd656dd4ff17e8ca47c9d93a28.txt  \n",
            " extracting: ../datasets/train/labels/image_42_png.rf.7bca2b821c7fc863160c6af6598028e9.txt  \n",
            " extracting: ../datasets/train/labels/image_42_png.rf.9c6e5dacf9a386e4190cee3157741115.txt  \n",
            " extracting: ../datasets/train/labels/image_43_png.rf.a71e54ef82be9fce017dd3d8c48e18ee.txt  \n",
            " extracting: ../datasets/train/labels/image_43_png.rf.c8a5f8f5811abdcbf8b7b4075dd915ef.txt  \n",
            " extracting: ../datasets/train/labels/image_43_png.rf.f80b7bc0e8b7767f18fd5c2da546e178.txt  \n",
            " extracting: ../datasets/train/labels/image_44_png.rf.85c62a50af061d2a2c9cf323552523bb.txt  \n",
            " extracting: ../datasets/train/labels/image_44_png.rf.9b2279cbb966868ca76bed142ea709bc.txt  \n",
            " extracting: ../datasets/train/labels/image_44_png.rf.a475425f50fa271a2f908ebcb09352eb.txt  \n",
            " extracting: ../datasets/train/labels/image_46_png.rf.0547c9e86f8b4f6849cf0975e91da380.txt  \n",
            " extracting: ../datasets/train/labels/image_46_png.rf.8c6cc0fd365bb0ec2365d148590a1e88.txt  \n",
            " extracting: ../datasets/train/labels/image_46_png.rf.96099b0b90a1aa49d6d81e39e9657624.txt  \n",
            " extracting: ../datasets/train/labels/image_47_png.rf.41eb4160c4293dd16f4ed224036de336.txt  \n",
            " extracting: ../datasets/train/labels/image_47_png.rf.655f323c19dc6edab3752f517211b034.txt  \n",
            " extracting: ../datasets/train/labels/image_47_png.rf.bbf17262b8951ef26a2e9ead6767f86c.txt  \n",
            " extracting: ../datasets/train/labels/image_48_png.rf.b7f0e0d7e9a719354e6456c8c902fb46.txt  \n",
            " extracting: ../datasets/train/labels/image_48_png.rf.ebc5589d57c4c4a409a3dac71582e328.txt  \n",
            " extracting: ../datasets/train/labels/image_48_png.rf.f8e26b3cd872061133cea55b5c399519.txt  \n",
            " extracting: ../datasets/train/labels/image_49_png.rf.6ccd4860abca9d64425cc43848cf8620.txt  \n",
            " extracting: ../datasets/train/labels/image_49_png.rf.b7d305c7d8597ba03ff6f25cb422245e.txt  \n",
            " extracting: ../datasets/train/labels/image_49_png.rf.c9d51bf351f7fbbe024bcee85386a334.txt  \n",
            " extracting: ../datasets/train/labels/image_4_png.rf.195d0819c2a7da5675c46bdb3d294a28.txt  \n",
            " extracting: ../datasets/train/labels/image_4_png.rf.24a89071afd3f14c4169fd5f85db2cd6.txt  \n",
            " extracting: ../datasets/train/labels/image_4_png.rf.5de0fd60892d35a4fb9d6505f30c4ac2.txt  \n",
            " extracting: ../datasets/train/labels/image_50_png.rf.26e1c94be58072495f0c8861acd22d81.txt  \n",
            " extracting: ../datasets/train/labels/image_50_png.rf.4b3bcf0312a527f315e03c5021541c72.txt  \n",
            " extracting: ../datasets/train/labels/image_50_png.rf.566849060b8ffe49133b60bbbcf82efe.txt  \n",
            " extracting: ../datasets/train/labels/image_51_png.rf.8cb66b4ea3e1496e8e987f255f90995e.txt  \n",
            " extracting: ../datasets/train/labels/image_51_png.rf.b3e3494d1a7f30bedf1b75915b552d9d.txt  \n",
            " extracting: ../datasets/train/labels/image_51_png.rf.c5c45c5e1dc084bc4050608f6e4be2fd.txt  \n",
            " extracting: ../datasets/train/labels/image_52_png.rf.57caafb7f2959169ffbf50886381801b.txt  \n",
            " extracting: ../datasets/train/labels/image_52_png.rf.6b412ec52be78b8ec451634eebf18d3b.txt  \n",
            " extracting: ../datasets/train/labels/image_52_png.rf.baf97682512945f25f4cb85cef6e2d57.txt  \n",
            " extracting: ../datasets/train/labels/image_53_png.rf.1a3a048e610b327343388952e9eeb380.txt  \n",
            " extracting: ../datasets/train/labels/image_53_png.rf.4d130e4b8c7a5acdc699986450d8a02a.txt  \n",
            " extracting: ../datasets/train/labels/image_53_png.rf.6e8ac5da4fcd5fd1102fcb459bd68744.txt  \n",
            " extracting: ../datasets/train/labels/image_54_png.rf.3b2fcf5adbfdf019e6137a7cc380a4f6.txt  \n",
            " extracting: ../datasets/train/labels/image_54_png.rf.ac34dfd4b30d26b7c96f5a33e60a9459.txt  \n",
            " extracting: ../datasets/train/labels/image_54_png.rf.c8b3eafb1679e1b598b26f435228fc64.txt  \n",
            " extracting: ../datasets/train/labels/image_57_png.rf.045b262ff8bb62eb183d954c8140a94c.txt  \n",
            " extracting: ../datasets/train/labels/image_57_png.rf.4c936e888d5f1ef9766061c4ab30633b.txt  \n",
            " extracting: ../datasets/train/labels/image_57_png.rf.84b1ccc14fdfcb51bf4f0ab7ff392c7f.txt  \n",
            " extracting: ../datasets/train/labels/image_58_png.rf.0577adc8ac7946d5d66a779b36aa1dd0.txt  \n",
            " extracting: ../datasets/train/labels/image_58_png.rf.a14c1425a8462c8f80372576b5705f71.txt  \n",
            " extracting: ../datasets/train/labels/image_58_png.rf.cf04a623901f0a053f2904cf8acb413c.txt  \n",
            " extracting: ../datasets/train/labels/image_5_png.rf.aaec4208f2d3ef8f4de3241d3b4bb838.txt  \n",
            " extracting: ../datasets/train/labels/image_5_png.rf.e2a5ec45bf1f3f2240efb776b6d8d03e.txt  \n",
            " extracting: ../datasets/train/labels/image_60_png.rf.1eee46242c36e635e1ac67515247c0c8.txt  \n",
            " extracting: ../datasets/train/labels/image_60_png.rf.2861fe30458b5d643dda16df917130d5.txt  \n",
            " extracting: ../datasets/train/labels/image_60_png.rf.77e92c9d6072fdf986e1b4dd2f3e17f9.txt  \n",
            " extracting: ../datasets/train/labels/image_61_png.rf.20d1656c4cc77f922c968b67773da464.txt  \n",
            " extracting: ../datasets/train/labels/image_61_png.rf.5328de45b2d569e60f551f668f0161f8.txt  \n",
            " extracting: ../datasets/train/labels/image_61_png.rf.eb62ff1d2e5470488ea31b43ff2e66bf.txt  \n",
            " extracting: ../datasets/train/labels/image_62_png.rf.4ed86b53860af9aa0e868b815df0bb1e.txt  \n",
            " extracting: ../datasets/train/labels/image_62_png.rf.5b5864e8a1c0f7da5aba27af91ef57a7.txt  \n",
            " extracting: ../datasets/train/labels/image_62_png.rf.de4a2a28613c54f9afd5e481decaff5a.txt  \n",
            " extracting: ../datasets/train/labels/image_63_png.rf.14bf5d8001aa06283601bcd3a6d76572.txt  \n",
            " extracting: ../datasets/train/labels/image_63_png.rf.24008d00d280ce8073f1ec0bf62746bc.txt  \n",
            " extracting: ../datasets/train/labels/image_63_png.rf.33981e75b8feadd8bc81f5c80870b36b.txt  \n",
            " extracting: ../datasets/train/labels/image_64_png.rf.6a434ca5ebf874bb80d46096a0b2a7dc.txt  \n",
            " extracting: ../datasets/train/labels/image_64_png.rf.9c09ba1cf85736287a836ea271943822.txt  \n",
            " extracting: ../datasets/train/labels/image_64_png.rf.e10812b39039f61382def013f7771890.txt  \n",
            " extracting: ../datasets/train/labels/image_65_png.rf.29347b5033ebb40dcb6f4f259512e081.txt  \n",
            " extracting: ../datasets/train/labels/image_65_png.rf.7d8ea9a8df83d4821f93441baa442c14.txt  \n",
            " extracting: ../datasets/train/labels/image_65_png.rf.d3db86679261553c3cdff93eadccd6d2.txt  \n",
            " extracting: ../datasets/train/labels/image_66_png.rf.492b047cc13211e1ab13654011798b6a.txt  \n",
            " extracting: ../datasets/train/labels/image_66_png.rf.b916be1a05027c78d8adc6dce2cb5530.txt  \n",
            " extracting: ../datasets/train/labels/image_67_png.rf.1dbfec56bc4cc75fc916a6180671f866.txt  \n",
            " extracting: ../datasets/train/labels/image_67_png.rf.6a8bc85a61913d5a2781fdd4fa9bde30.txt  \n",
            " extracting: ../datasets/train/labels/image_67_png.rf.fb39d2b63b31e9f2d2db1fadd1d46e45.txt  \n",
            " extracting: ../datasets/train/labels/image_68_png.rf.257b685c7f9a0443e87c95d7c8ba92a3.txt  \n",
            " extracting: ../datasets/train/labels/image_68_png.rf.628b0e0d18f568dddbab7bf6f213546a.txt  \n",
            " extracting: ../datasets/train/labels/image_68_png.rf.8582060aee8032419298e4a1edb0eea5.txt  \n",
            " extracting: ../datasets/train/labels/image_69_png.rf.29c8a52cbd9280bd6187b1bb5e5dfd78.txt  \n",
            " extracting: ../datasets/train/labels/image_69_png.rf.40d8502fe4b2405586d1193e7929e1c5.txt  \n",
            " extracting: ../datasets/train/labels/image_69_png.rf.4683fc02b192d2941857b7621fd42b64.txt  \n",
            " extracting: ../datasets/train/labels/image_6_png.rf.9ee9ebfeafc9c32fb3b03a6d9858baa2.txt  \n",
            " extracting: ../datasets/train/labels/image_6_png.rf.da5169c43fb49c5ff6c259d10be78912.txt  \n",
            " extracting: ../datasets/train/labels/image_70_png.rf.106300492e392cddc588057e54982be2.txt  \n",
            " extracting: ../datasets/train/labels/image_70_png.rf.cb02313b0ad2210ce1e1d6e94e8ef317.txt  \n",
            " extracting: ../datasets/train/labels/image_70_png.rf.f9401e3372c5e3364a158dcb171d5367.txt  \n",
            " extracting: ../datasets/train/labels/image_71_png.rf.3985a5ee1df1148fa47ee02e116de640.txt  \n",
            " extracting: ../datasets/train/labels/image_71_png.rf.b70eb05a33e4fe155585f643f6ed6743.txt  \n",
            " extracting: ../datasets/train/labels/image_71_png.rf.ff8f4c23825303161d75182d107b268f.txt  \n",
            " extracting: ../datasets/train/labels/image_72_png.rf.445d55322f1f81ddf18f8070b3891ea5.txt  \n",
            " extracting: ../datasets/train/labels/image_72_png.rf.602faa807cb9f83d826304ef4749dae1.txt  \n",
            " extracting: ../datasets/train/labels/image_72_png.rf.8288731c780a0b85bf3dd46450c33f14.txt  \n",
            " extracting: ../datasets/train/labels/image_73_png.rf.20d6bb5788197e12475ec795ca1825f7.txt  \n",
            " extracting: ../datasets/train/labels/image_73_png.rf.3ddab6c7c7c5a7b542bdf85ad060ec61.txt  \n",
            " extracting: ../datasets/train/labels/image_73_png.rf.a6fb5d60adffebcbef9e8585d0697e9f.txt  \n",
            " extracting: ../datasets/train/labels/image_74_png.rf.48199c36d1779e01ff2a4d9d0310c835.txt  \n",
            " extracting: ../datasets/train/labels/image_74_png.rf.c9f0d82b44190dec1308cfdf334856c9.txt  \n",
            " extracting: ../datasets/train/labels/image_74_png.rf.d0a89390d0a8ddf7f4ce09489e3ba6ad.txt  \n",
            " extracting: ../datasets/train/labels/image_7_png.rf.3a01b66c32a5fcc8c2d7a626b9b19e3e.txt  \n",
            " extracting: ../datasets/train/labels/image_7_png.rf.42cb552c89fa13c86691e83762611be8.txt  \n",
            " extracting: ../datasets/train/labels/image_7_png.rf.7822b74e51cfdba484ce73387514a973.txt  \n",
            " extracting: ../datasets/train/labels/image_9_png.rf.45f4d7caf7e4ca16e61dcc35354973e4.txt  \n",
            " extracting: ../datasets/train/labels/image_9_png.rf.727d632d9a7735e8b8c7ee57870c4335.txt  \n",
            " extracting: ../datasets/train/labels/image_9_png.rf.a3c7ae4029b9760c3a2780430bd9f57d.txt  \n",
            "   creating: ../datasets/valid/\n",
            "   creating: ../datasets/valid/images/\n",
            " extracting: ../datasets/valid/images/image_11_png.rf.c11683fc23fa194f02d085129182037f.jpg  \n",
            " extracting: ../datasets/valid/images/image_30_png.rf.310232cfad5456803fcc2499828b6967.jpg  \n",
            " extracting: ../datasets/valid/images/image_45_png.rf.24f36c34c248c3b0c488596ced1a7cb1.jpg  \n",
            " extracting: ../datasets/valid/images/image_56_png.rf.ad813d7f19682e3ef7557f1bbef70895.jpg  \n",
            " extracting: ../datasets/valid/images/image_59_png.rf.43cda0b76e1c57efd13acc96eae6d934.jpg  \n",
            " extracting: ../datasets/valid/images/image_75_png.rf.0efd85f356c3ec65e690e1f0f5396513.jpg  \n",
            " extracting: ../datasets/valid/images/image_8_png.rf.fe1916de72a568adb12ae619668d8d96.jpg  \n",
            "   creating: ../datasets/valid/labels/\n",
            " extracting: ../datasets/valid/labels/image_11_png.rf.c11683fc23fa194f02d085129182037f.txt  \n",
            " extracting: ../datasets/valid/labels/image_30_png.rf.310232cfad5456803fcc2499828b6967.txt  \n",
            " extracting: ../datasets/valid/labels/image_45_png.rf.24f36c34c248c3b0c488596ced1a7cb1.txt  \n",
            " extracting: ../datasets/valid/labels/image_56_png.rf.ad813d7f19682e3ef7557f1bbef70895.txt  \n",
            " extracting: ../datasets/valid/labels/image_59_png.rf.43cda0b76e1c57efd13acc96eae6d934.txt  \n",
            " extracting: ../datasets/valid/labels/image_75_png.rf.0efd85f356c3ec65e690e1f0f5396513.txt  \n",
            " extracting: ../datasets/valid/labels/image_8_png.rf.fe1916de72a568adb12ae619668d8d96.txt  \n"
          ]
        }
      ],
      "source": [
        "!curl -L \"https://app.roboflow.com/ds/4TgxV5OKnf?key=V1XP37RPd4\" > roboflow.zip; unzip roboflow.zip -d \"../datasets\"; rm roboflow.zip"
      ]
    },
    {
      "cell_type": "code",
      "execution_count": null,
      "metadata": {
        "colab": {
          "base_uri": "https://localhost:8080/"
        },
        "id": "SQNek2CfHsA_",
        "outputId": "e11bff08-3d5e-4342-ebb0-687c6eb5ce7f"
      },
      "outputs": [
        {
          "name": "stdout",
          "output_type": "stream",
          "text": [
            "Writing ./data/datatraffic.yaml\n"
          ]
        }
      ],
      "source": [
        "%%writefile ./data/datatraffic.yaml\n",
        "\n",
        "\n",
        "train: ../datasets/train/images\n",
        "val: ../datasets/valid/images\n",
        "\n",
        "nc: 2\n",
        "names: ['nylon', 'paper']"
      ]
    },
    {
      "cell_type": "code",
      "execution_count": null,
      "metadata": {
        "colab": {
          "base_uri": "https://localhost:8080/"
        },
        "id": "7Aafo0ZzHxjG",
        "outputId": "4cc05174-faf4-4843-a1e1-ac7fd54538d0"
      },
      "outputs": [
        {
          "name": "stdout",
          "output_type": "stream",
          "text": [
            "Overwriting my_yolov5s.yaml\n"
          ]
        }
      ],
      "source": [
        "%%writefile my_yolov5s.yaml\n",
        "\n",
        "# YOLOv5 🚀 by Ultralytics, GPL-3.0 license\n",
        "\n",
        "# Parameters\n",
        "nc: 2  # number of classes\n",
        "depth_multiple: 0.2  # model depth multiple\n",
        "width_multiple: 0.3  # layer channel multiple\n",
        "anchors:\n",
        "  - [10,13, 16,30, 33,23]  # P3/8\n",
        "  - [30,61, 62,45, 59,119]  # P4/16\n",
        "  - [116,90, 156,198, 373,326]  # P5/32\n",
        "\n",
        "# YOLOv5 backbone\n",
        "backbone:\n",
        "  # [from, number, module, args]\n",
        "  [[-1, 1, Focus, [64, 3]],  # 0-P1/2\n",
        "   [-1, 1, Conv, [128, 3, 2]],  # 1-P2/4\n",
        "   [-1, 3, C3, [128]],\n",
        "   [-1, 1, Conv, [256, 3, 2]],  # 3-P3/8\n",
        "   [-1, 9, C3, [256]],\n",
        "   [-1, 1, Conv, [512, 3, 2]],  # 5-P4/16\n",
        "   [-1, 9, C3, [512]],\n",
        "   [-1, 1, Conv, [1024, 3, 2]],  # 7-P5/32\n",
        "   [-1, 1, SPP, [1024, [5, 9, 13]]],\n",
        "   [-1, 3, C3, [1024, False]],  # 9\n",
        "  ]\n",
        "\n",
        "# YOLOv5 head\n",
        "head:\n",
        "  [[-1, 1, Conv, [512, 1, 1]],\n",
        "   [-1, 1, nn.Upsample, [None, 2, 'nearest']],\n",
        "   [[-1, 6], 1, Concat, [1]],  # cat backbone P4\n",
        "   [-1, 3, C3, [512, False]],  # 13\n",
        "\n",
        "   [-1, 1, Conv, [256, 1, 1]],\n",
        "   [-1, 1, nn.Upsample, [None, 2, 'nearest']],\n",
        "   [[-1, 4], 1, Concat, [1]],  # cat backbone P3\n",
        "   [-1, 3, C3, [256, False]],  # 17 (P3/8-small)\n",
        "\n",
        "   [-1, 1, Conv, [256, 3, 2]],\n",
        "   [[-1, 14], 1, Concat, [1]],  # cat head P4\n",
        "   [-1, 3, C3, [512, False]],  # 20 (P4/16-medium)\n",
        "\n",
        "   [-1, 1, Conv, [512, 3, 2]],\n",
        "   [[-1, 10], 1, Concat, [1]],  # cat head P5\n",
        "   [-1, 3, C3, [1024, False]],  # 23 (P5/32-large)\n",
        "\n",
        "   [[17, 20, 23], 1, Detect, [nc, anchors]],  # Detect(P3, P4, P5)\n",
        "  ]"
      ]
    },
    {
      "cell_type": "code",
      "execution_count": null,
      "metadata": {
        "colab": {
          "base_uri": "https://localhost:8080/"
        },
        "id": "mQYpmCEG6T6R",
        "outputId": "898974f4-aed2-4136-d011-6d76b6a934a5"
      },
      "outputs": [
        {
          "name": "stdout",
          "output_type": "stream",
          "text": [
            "  % Total    % Received % Xferd  Average Speed   Time    Time     Time  Current\n",
            "                                 Dload  Upload   Total   Spent    Left  Speed\n",
            "\r  0     0    0     0    0     0      0      0 --:--:-- --:--:-- --:--:--     0\r100  2537  100  2537    0     0  66763      0 --:--:-- --:--:-- --:--:-- 66763\n",
            "OK\n",
            "deb https://packages.cloud.google.com/apt coral-edgetpu-stable main\n",
            "Hit:1 https://cloud.r-project.org/bin/linux/ubuntu bionic-cran40/ InRelease\n",
            "Get:2 https://packages.cloud.google.com/apt coral-edgetpu-stable InRelease [6,722 B]\n",
            "Hit:3 https://developer.download.nvidia.com/compute/cuda/repos/ubuntu1804/x86_64  InRelease\n",
            "Hit:4 http://ppa.launchpad.net/c2d4u.team/c2d4u4.0+/ubuntu bionic InRelease\n",
            "Ign:5 https://developer.download.nvidia.com/compute/machine-learning/repos/ubuntu1804/x86_64  InRelease\n",
            "Hit:6 http://archive.ubuntu.com/ubuntu bionic InRelease\n",
            "Hit:7 https://developer.download.nvidia.com/compute/machine-learning/repos/ubuntu1804/x86_64  Release\n",
            "Get:8 http://security.ubuntu.com/ubuntu bionic-security InRelease [88.7 kB]\n",
            "Get:9 http://archive.ubuntu.com/ubuntu bionic-updates InRelease [88.7 kB]\n",
            "Get:10 http://archive.ubuntu.com/ubuntu bionic-backports InRelease [74.6 kB]\n",
            "Hit:11 http://ppa.launchpad.net/cran/libgit2/ubuntu bionic InRelease\n",
            "Hit:12 http://ppa.launchpad.net/deadsnakes/ppa/ubuntu bionic InRelease\n",
            "Hit:13 http://ppa.launchpad.net/graphics-drivers/ppa/ubuntu bionic InRelease\n",
            "Fetched 259 kB in 1s (200 kB/s)\n",
            "Reading package lists... Done\n",
            "Reading package lists... Done\n",
            "Building dependency tree       \n",
            "Reading state information... Done\n",
            "edgetpu-compiler is already the newest version (16.0).\n",
            "The following packages were automatically installed and are no longer required:\n",
            "  libnvidia-common-460 nsight-compute-2020.2.0\n",
            "Use 'sudo apt autoremove' to remove them.\n",
            "0 upgraded, 0 newly installed, 0 to remove and 50 not upgraded.\n"
          ]
        }
      ],
      "source": [
        "# ! curl https://packages.cloud.google.com/apt/doc/apt-key.gpg | sudo apt-key add -\n",
        "\n",
        "# ! echo \"deb https://packages.cloud.google.com/apt coral-edgetpu-stable main\" | sudo tee /etc/apt/sources.list.d/coral-edgetpu.list\n",
        "\n",
        "# ! sudo apt-get update\n",
        "\n",
        "# ! sudo apt-get install edgetpu-compiler\t"
      ]
    },
    {
      "cell_type": "code",
      "execution_count": null,
      "metadata": {
        "colab": {
          "base_uri": "https://localhost:8080/"
        },
        "id": "RJbUMCPN74tJ",
        "outputId": "d91d912f-5f21-471f-e143-ffbdc8434ddc"
      },
      "outputs": [
        {
          "name": "stdout",
          "output_type": "stream",
          "text": [
            "Edge TPU Compiler version 16.0.384591198\n",
            "Started a compilation timeout timer of 180 seconds.\n",
            "ERROR: Restored original execution plan after delegate application failure.\n",
            "Compilation failed: Compilation failed due to large activation tensors in model.\n",
            "Compilation child process completed within timeout period.\n",
            "Compilation failed! \n"
          ]
        }
      ],
      "source": [
        "!edgetpu_compiler /content/best-int8.tflite"
      ]
    },
    {
      "cell_type": "code",
      "execution_count": null,
      "metadata": {
        "id": "VSe22vAK8ZFR"
      },
      "outputs": [],
      "source": [
        "!rm -rf /content/best-*"
      ]
    },
    {
      "cell_type": "code",
      "execution_count": null,
      "metadata": {
        "colab": {
          "base_uri": "https://localhost:8080/"
        },
        "id": "x2S6jW9L406w",
        "outputId": "e53386c1-2fdd-49d4-c1f0-083e9b7b77fc"
      },
      "outputs": [
        {
          "name": "stdout",
          "output_type": "stream",
          "text": [
            "\u001b[34m\u001b[1mexport: \u001b[0mdata=data/coco128.yaml, weights=['/content/yolov5/runs/train/exp2/weights/best.pt'], imgsz=[320], batch_size=1, device=cpu, half=False, inplace=False, train=False, optimize=False, int8=False, dynamic=False, simplify=False, opset=12, verbose=False, workspace=4, nms=False, agnostic_nms=False, topk_per_class=100, topk_all=100, iou_thres=0.45, conf_thres=0.25, include=['edgetpu']\n",
            "YOLOv5 🚀 v6.1-176-gaa7a0e9 torch 1.11.0+cu113 CPU\n",
            "\n",
            "Fusing layers... \n",
            "my_YOLOv5s summary: 224 layers, 4673663 parameters, 0 gradients, 11.4 GFLOPs\n",
            "\n",
            "\u001b[34m\u001b[1mPyTorch:\u001b[0m starting from /content/yolov5/runs/train/exp2/weights/best.pt with output shape (1, 6300, 7) (9.2 MB)\n",
            "\u001b[31m\u001b[1mrequirements:\u001b[0m flatbuffers==1.12 not found and is required by YOLOv5, attempting auto-update...\n",
            "\u001b[31mERROR: pip's dependency resolver does not currently take into account all the packages that are installed. This behaviour is the source of the following dependency conflicts.\n",
            "tensorflow 2.8.0 requires tf-estimator-nightly==2.8.0.dev2021122109, which is not installed.\u001b[0m\n",
            "Collecting flatbuffers==1.12\n",
            "  Downloading flatbuffers-1.12-py2.py3-none-any.whl (15 kB)\n",
            "Installing collected packages: flatbuffers\n",
            "  Attempting uninstall: flatbuffers\n",
            "    Found existing installation: flatbuffers 2.0\n",
            "    Uninstalling flatbuffers-2.0:\n",
            "      Successfully uninstalled flatbuffers-2.0\n",
            "Successfully installed flatbuffers-1.12\n",
            "\n",
            "\u001b[31m\u001b[1mrequirements:\u001b[0m 1 package updated per ['flatbuffers==1.12']\n",
            "\u001b[31m\u001b[1mrequirements:\u001b[0m ⚠️ \u001b[1mRestart runtime or rerun command for updates to take effect\u001b[0m\n",
            "\n",
            "\n",
            "\u001b[34m\u001b[1mTensorFlow SavedModel:\u001b[0m starting export with tensorflow 2.8.0...\n",
            "\n",
            "                 from  n    params  module                                  arguments                     \n",
            "  0                -1  1      3520  models.common.Focus                     [3, 32, 3]                    \n",
            "2022-05-07 04:56:27.353044: E tensorflow/stream_executor/cuda/cuda_driver.cc:271] failed call to cuInit: CUDA_ERROR_NO_DEVICE: no CUDA-capable device is detected\n",
            "  1                -1  1     16240  models.common.Conv                      [32, 56, 3, 2]                \n",
            "  2                -1  1     14448  models.common.C3                        [56, 56, 1]                   \n",
            "  3                -1  1     52624  models.common.Conv                      [56, 104, 3, 2]               \n",
            "  4                -1  1    103792  models.common.C3                        [104, 104, 3]                 \n",
            "  5                -1  1    195104  models.common.Conv                      [104, 208, 3, 2]              \n",
            "  6                -1  1    413088  models.common.C3                        [208, 208, 3]                 \n",
            "  7                -1  1    779584  models.common.Conv                      [208, 416, 3, 2]              \n",
            "  8                -1  1    433888  models.common.SPP                       [416, 416, [5, 9, 13]]        \n",
            "  9                -1  1    781248  models.common.C3                        [416, 416, 1, False]          \n",
            " 10                -1  1     86944  models.common.Conv                      [416, 208, 1, 1]              \n",
            " 11                -1  1         0  torch.nn.modules.upsampling.Upsample    [None, 2, 'nearest']          \n",
            " 12           [-1, 6]  1         0  models.common.Concat                    [1]                           \n",
            " 13                -1  1    239200  models.common.C3                        [416, 208, 1, False]          \n",
            " 14                -1  1     21840  models.common.Conv                      [208, 104, 1, 1]              \n",
            " 15                -1  1         0  torch.nn.modules.upsampling.Upsample    [None, 2, 'nearest']          \n",
            " 16           [-1, 4]  1         0  models.common.Concat                    [1]                           \n",
            " 17                -1  1     60112  models.common.C3                        [208, 104, 1, False]          \n",
            " 18                -1  1     97552  models.common.Conv                      [104, 104, 3, 2]              \n",
            " 19          [-1, 14]  1         0  models.common.Concat                    [1]                           \n",
            " 20                -1  1    195936  models.common.C3                        [208, 208, 1, False]          \n",
            " 21                -1  1    389792  models.common.Conv                      [208, 208, 3, 2]              \n",
            " 22          [-1, 10]  1         0  models.common.Concat                    [1]                           \n",
            " 23                -1  1    781248  models.common.C3                        [416, 416, 1, False]          \n",
            " 24      [17, 20, 23]  1     15351  models.yolo.Detect                      [2, [[10, 13, 16, 30, 33, 23], [30, 61, 62, 45, 59, 119], [116, 90, 156, 198, 373, 326]], [104, 208, 416], [320, 320]]\n",
            "Model: \"model\"\n",
            "__________________________________________________________________________________________________\n",
            " Layer (type)                   Output Shape         Param #     Connected to                     \n",
            "==================================================================================================\n",
            " input_1 (InputLayer)           [(1, 320, 320, 3)]   0           []                               \n",
            "                                                                                                  \n",
            " tf_focus (TFFocus)             (1, 160, 160, 32)    3488        ['input_1[0][0]']                \n",
            "                                                                                                  \n",
            " tf_conv_1 (TFConv)             (1, 80, 80, 56)      16184       ['tf_focus[0][0]']               \n",
            "                                                                                                  \n",
            " tfc3 (TFC3)                    (1, 80, 80, 56)      14280       ['tf_conv_1[0][0]']              \n",
            "                                                                                                  \n",
            " tf_conv_7 (TFConv)             (1, 40, 40, 104)     52520       ['tfc3[0][0]']                   \n",
            "                                                                                                  \n",
            " tfc3_1 (TFC3)                  (1, 40, 40, 104)     103272      ['tf_conv_7[0][0]']              \n",
            "                                                                                                  \n",
            " tf_conv_17 (TFConv)            (1, 20, 20, 208)     194896      ['tfc3_1[0][0]']                 \n",
            "                                                                                                  \n",
            " tfc3_2 (TFC3)                  (1, 20, 20, 208)     412048      ['tf_conv_17[0][0]']             \n",
            "                                                                                                  \n",
            " tf_conv_27 (TFConv)            (1, 10, 10, 416)     779168      ['tfc3_2[0][0]']                 \n",
            "                                                                                                  \n",
            " tfspp (TFSPP)                  (1, 10, 10, 416)     433264      ['tf_conv_27[0][0]']             \n",
            "                                                                                                  \n",
            " tfc3_3 (TFC3)                  (1, 10, 10, 416)     780000      ['tfspp[0][0]']                  \n",
            "                                                                                                  \n",
            " tf_conv_35 (TFConv)            (1, 10, 10, 208)     86736       ['tfc3_3[0][0]']                 \n",
            "                                                                                                  \n",
            " tf_upsample (TFUpsample)       (1, 20, 20, 208)     0           ['tf_conv_35[0][0]']             \n",
            "                                                                                                  \n",
            " tf_concat (TFConcat)           (1, 20, 20, 416)     0           ['tf_upsample[0][0]',            \n",
            "                                                                  'tfc3_2[0][0]']                 \n",
            "                                                                                                  \n",
            " tfc3_4 (TFC3)                  (1, 20, 20, 208)     238576      ['tf_concat[0][0]']              \n",
            "                                                                                                  \n",
            " tf_conv_41 (TFConv)            (1, 20, 20, 104)     21736       ['tfc3_4[0][0]']                 \n",
            "                                                                                                  \n",
            " tf_upsample_1 (TFUpsample)     (1, 40, 40, 104)     0           ['tf_conv_41[0][0]']             \n",
            "                                                                                                  \n",
            " tf_concat_1 (TFConcat)         (1, 40, 40, 208)     0           ['tf_upsample_1[0][0]',          \n",
            "                                                                  'tfc3_1[0][0]']                 \n",
            "                                                                                                  \n",
            " tfc3_5 (TFC3)                  (1, 40, 40, 104)     59800       ['tf_concat_1[0][0]']            \n",
            "                                                                                                  \n",
            " tf_conv_47 (TFConv)            (1, 20, 20, 104)     97448       ['tfc3_5[0][0]']                 \n",
            "                                                                                                  \n",
            " tf_concat_2 (TFConcat)         (1, 20, 20, 208)     0           ['tf_conv_47[0][0]',             \n",
            "                                                                  'tf_conv_41[0][0]']             \n",
            "                                                                                                  \n",
            " tfc3_6 (TFC3)                  (1, 20, 20, 208)     195312      ['tf_concat_2[0][0]']            \n",
            "                                                                                                  \n",
            " tf_conv_53 (TFConv)            (1, 10, 10, 208)     389584      ['tfc3_6[0][0]']                 \n",
            "                                                                                                  \n",
            " tf_concat_3 (TFConcat)         (1, 10, 10, 416)     0           ['tf_conv_53[0][0]',             \n",
            "                                                                  'tf_conv_35[0][0]']             \n",
            "                                                                                                  \n",
            " tfc3_7 (TFC3)                  (1, 10, 10, 416)     780000      ['tf_concat_3[0][0]']            \n",
            "                                                                                                  \n",
            " tf_detect (TFDetect)           ((1, 6300, 7),       15351       ['tfc3_5[0][0]',                 \n",
            "                                 [(1, 1600, 3, 7),                'tfc3_6[0][0]',                 \n",
            "                                 (1, 400, 3, 7),                  'tfc3_7[0][0]']                 \n",
            "                                 (1, 100, 3, 7)])                                                 \n",
            "                                                                                                  \n",
            "==================================================================================================\n",
            "Total params: 4,673,663\n",
            "Trainable params: 0\n",
            "Non-trainable params: 4,673,663\n",
            "__________________________________________________________________________________________________\n",
            "2022-05-07 04:56:33.623394: W tensorflow/python/util/util.cc:368] Sets are not currently considered sequences, but this may change in the future, so consider avoiding using them.\n",
            "Assets written to: /content/yolov5/runs/train/exp2/weights/best_saved_model/assets\n",
            "\u001b[34m\u001b[1mTensorFlow SavedModel:\u001b[0m export success, saved as /content/yolov5/runs/train/exp2/weights/best_saved_model (18.0 MB)\n",
            "\n",
            "\u001b[34m\u001b[1mTensorFlow Lite:\u001b[0m starting export with tensorflow 2.8.0...\n",
            "\n",
            "Dataset not found ⚠, missing paths ['/content/datasets/coco128/images/train2017']\n",
            "Downloading https://ultralytics.com/assets/coco128.zip to coco128.zip...\n",
            "100% 6.66M/6.66M [00:00<00:00, 72.6MB/s]\n",
            "Dataset download success ✅ (0.7s), saved to \u001b[1m/content/datasets\u001b[0m\n",
            "Found untraced functions such as tf_conv_layer_call_fn, tf_conv_layer_call_and_return_conditional_losses, tf_conv_2_layer_call_fn, tf_conv_2_layer_call_and_return_conditional_losses, tf_conv_3_layer_call_fn while saving (showing 5 of 220). These functions will not be directly callable after loading.\n",
            "Assets written to: /tmp/tmpvfbfqhln/assets\n",
            "/usr/local/lib/python3.7/dist-packages/tensorflow/lite/python/convert.py:746: UserWarning: Statistics for quantized inputs were expected, but not specified; continuing anyway.\n",
            "  warnings.warn(\"Statistics for quantized inputs were expected, but not \"\n",
            "2022-05-07 04:57:38.468909: W tensorflow/compiler/mlir/lite/python/tf_tfl_flatbuffer_helpers.cc:357] Ignored output_format.\n",
            "2022-05-07 04:57:38.468981: W tensorflow/compiler/mlir/lite/python/tf_tfl_flatbuffer_helpers.cc:360] Ignored drop_control_dependency.\n",
            "Estimated count of arithmetic ops: 3.192 G  ops, equivalently 1.596 G  MACs\n",
            "fully_quantize: 0, inference_type: 6, input_inference_type: 3, output_inference_type: 3\n",
            "Estimated count of arithmetic ops: 3.192 G  ops, equivalently 1.596 G  MACs\n",
            "\u001b[34m\u001b[1mTensorFlow Lite:\u001b[0m export success, saved as /content/yolov5/runs/train/exp2/weights/best-int8.tflite (4.7 MB)\n",
            "/bin/sh: 1: edgetpu_compiler: not found\n",
            "\n",
            "\u001b[34m\u001b[1mEdge TPU:\u001b[0m export requires Edge TPU compiler. Attempting install from https://coral.ai/docs/edgetpu/compiler/\n",
            "  % Total    % Received % Xferd  Average Speed   Time    Time     Time  Current\n",
            "                                 Dload  Upload   Total   Spent    Left  Speed\n",
            "100  2537  100  2537    0     0  84566      0 --:--:-- --:--:-- --:--:-- 84566\n",
            "OK\n",
            "deb https://packages.cloud.google.com/apt coral-edgetpu-stable main\n",
            "Get:1 http://security.ubuntu.com/ubuntu bionic-security InRelease [88.7 kB]\n",
            "Get:2 http://ppa.launchpad.net/c2d4u.team/c2d4u4.0+/ubuntu bionic InRelease [15.9 kB]\n",
            "Hit:3 http://ppa.launchpad.net/cran/libgit2/ubuntu bionic InRelease\n",
            "Get:4 https://cloud.r-project.org/bin/linux/ubuntu bionic-cran40/ InRelease [3,626 B]\n",
            "Hit:5 https://developer.download.nvidia.com/compute/cuda/repos/ubuntu1804/x86_64  InRelease\n",
            "Hit:6 http://ppa.launchpad.net/deadsnakes/ppa/ubuntu bionic InRelease\n",
            "Hit:7 http://ppa.launchpad.net/graphics-drivers/ppa/ubuntu bionic InRelease\n",
            "Hit:8 http://archive.ubuntu.com/ubuntu bionic InRelease\n",
            "Get:9 http://ppa.launchpad.net/c2d4u.team/c2d4u4.0+/ubuntu bionic/main Sources [1,954 kB]\n",
            "Ign:10 https://developer.download.nvidia.com/compute/machine-learning/repos/ubuntu1804/x86_64  InRelease\n",
            "Hit:11 https://developer.download.nvidia.com/compute/machine-learning/repos/ubuntu1804/x86_64  Release\n",
            "Get:12 http://archive.ubuntu.com/ubuntu bionic-updates InRelease [88.7 kB]\n",
            "Get:13 http://ppa.launchpad.net/c2d4u.team/c2d4u4.0+/ubuntu bionic/main amd64 Packages [1,001 kB]\n",
            "Get:14 http://security.ubuntu.com/ubuntu bionic-security/main amd64 Packages [2,734 kB]\n",
            "Get:15 https://packages.cloud.google.com/apt coral-edgetpu-stable InRelease [6,722 B]\n",
            "Get:16 http://security.ubuntu.com/ubuntu bionic-security/universe amd64 Packages [1,498 kB]\n",
            "Get:17 http://archive.ubuntu.com/ubuntu bionic-backports InRelease [74.6 kB]\n",
            "Get:19 https://packages.cloud.google.com/apt coral-edgetpu-stable/main amd64 Packages [2,317 B]\n",
            "Get:20 http://archive.ubuntu.com/ubuntu bionic-updates/universe amd64 Packages [2,272 kB]\n",
            "Get:21 http://archive.ubuntu.com/ubuntu bionic-updates/main amd64 Packages [3,168 kB]\n",
            "Fetched 12.9 MB in 2s (5,257 kB/s)\n",
            "Reading package lists... Done\n",
            "Reading package lists... Done\n",
            "Building dependency tree       \n",
            "Reading state information... Done\n",
            "The following packages were automatically installed and are no longer required:\n",
            "  libnvidia-common-460 nsight-compute-2020.2.0\n",
            "Use 'sudo apt autoremove' to remove them.\n",
            "The following NEW packages will be installed:\n",
            "  edgetpu-compiler\n",
            "0 upgraded, 1 newly installed, 0 to remove and 50 not upgraded.\n",
            "Need to get 7,913 kB of archives.\n",
            "After this operation, 31.2 MB of additional disk space will be used.\n",
            "Get:1 https://packages.cloud.google.com/apt coral-edgetpu-stable/main amd64 edgetpu-compiler amd64 16.0 [7,913 kB]\n",
            "Fetched 7,913 kB in 0s (18.2 MB/s)\n",
            "debconf: unable to initialize frontend: Dialog\n",
            "debconf: (No usable dialog-like program is installed, so the dialog based frontend cannot be used. at /usr/share/perl5/Debconf/FrontEnd/Dialog.pm line 76, <> line 1.)\n",
            "debconf: falling back to frontend: Readline\n",
            "debconf: unable to initialize frontend: Readline\n",
            "debconf: (This frontend requires a controlling tty.)\n",
            "debconf: falling back to frontend: Teletype\n",
            "dpkg-preconfigure: unable to re-open stdin: \n",
            "Selecting previously unselected package edgetpu-compiler.\n",
            "(Reading database ... 155203 files and directories currently installed.)\n",
            "Preparing to unpack .../edgetpu-compiler_16.0_amd64.deb ...\n",
            "Unpacking edgetpu-compiler (16.0) ...\n",
            "Setting up edgetpu-compiler (16.0) ...\n",
            "Processing triggers for libc-bin (2.27-3ubuntu1.3) ...\n",
            "/sbin/ldconfig.real: /usr/local/lib/python3.7/dist-packages/ideep4py/lib/libmkldnn.so.0 is not a symbolic link\n",
            "\n",
            "\n",
            "\u001b[34m\u001b[1mEdge TPU:\u001b[0m starting export with Edge TPU compiler 16.0.384591198...\n",
            "Edge TPU Compiler version 16.0.384591198\n",
            "Started a compilation timeout timer of 180 seconds.\n",
            "\n",
            "Model compiled successfully in 2391 ms.\n",
            "\n",
            "Input model: /content/yolov5/runs/train/exp2/weights/best-int8.tflite\n",
            "Input size: 4.75MiB\n",
            "Output model: /content/yolov5/runs/train/exp2/weights/best-int8_edgetpu.tflite\n",
            "Output size: 5.80MiB\n",
            "On-chip memory used for caching model parameters: 5.42MiB\n",
            "On-chip memory remaining for caching model parameters: 835.75KiB\n",
            "Off-chip memory used for streaming uncached model parameters: 24.75KiB\n",
            "Number of Edge TPU subgraphs: 1\n",
            "Total number of operations: 265\n",
            "Operation log: /content/yolov5/runs/train/exp2/weights/best-int8_edgetpu.log\n",
            "\n",
            "Operator                       Count      Status\n",
            "\n",
            "CONV_2D                        62         Mapped to Edge TPU\n",
            "QUANTIZE                       6          Mapped to Edge TPU\n",
            "MUL                            77         Mapped to Edge TPU\n",
            "RESIZE_NEAREST_NEIGHBOR        2          Mapped to Edge TPU\n",
            "LOGISTIC                       62         Mapped to Edge TPU\n",
            "RESHAPE                        6          Mapped to Edge TPU\n",
            "PAD                            6          Mapped to Edge TPU\n",
            "CONCATENATION                  18         Mapped to Edge TPU\n",
            "MAX_POOL_2D                    3          Mapped to Edge TPU\n",
            "ADD                            10         Mapped to Edge TPU\n",
            "STRIDED_SLICE                  13         Mapped to Edge TPU\n",
            "Compilation child process completed within timeout period.\n",
            "Compilation succeeded! \n",
            "\u001b[34m\u001b[1mEdge TPU:\u001b[0m export success, saved as /content/yolov5/runs/train/exp2/weights/best-int8_edgetpu.tflite (5.8 MB)\n",
            "\n",
            "Export complete (133.56s)\n",
            "Results saved to \u001b[1m/content/yolov5/runs/train/exp2/weights\u001b[0m\n",
            "Detect:          python detect.py --weights /content/yolov5/runs/train/exp2/weights/best-int8_edgetpu.tflite\n",
            "PyTorch Hub:     model = torch.hub.load('ultralytics/yolov5', 'custom', '/content/yolov5/runs/train/exp2/weights/best-int8_edgetpu.tflite')\n",
            "Validate:        python val.py --weights /content/yolov5/runs/train/exp2/weights/best-int8_edgetpu.tflite\n",
            "Visualize:       https://netron.app\n"
          ]
        }
      ],
      "source": [
        "!python export.py --weights /content/yolov5/runs/train/exp2/weights/best.pt --include edgetpu --imgsz 320"
      ]
    },
    {
      "cell_type": "code",
      "execution_count": null,
      "metadata": {
        "colab": {
          "base_uri": "https://localhost:8080/",
          "height": 356
        },
        "id": "2B82Du5N5NgP",
        "outputId": "95e681f5-6f02-428e-93a9-b8ab3030b6c0"
      },
      "outputs": [
        {
          "ename": "ValueError",
          "evalue": "ignored",
          "output_type": "error",
          "traceback": [
            "\u001b[0;31m---------------------------------------------------------------------------\u001b[0m",
            "\u001b[0;31mValueError\u001b[0m                                Traceback (most recent call last)",
            "\u001b[0;32m<ipython-input-9-04ff67416cab>\u001b[0m in \u001b[0;36m<module>\u001b[0;34m()\u001b[0m\n\u001b[1;32m      1\u001b[0m \u001b[0;32mimport\u001b[0m \u001b[0mtensorflow\u001b[0m \u001b[0;32mas\u001b[0m \u001b[0mtf\u001b[0m\u001b[0;34m\u001b[0m\u001b[0;34m\u001b[0m\u001b[0m\n\u001b[1;32m      2\u001b[0m \u001b[0;34m\u001b[0m\u001b[0m\n\u001b[0;32m----> 3\u001b[0;31m \u001b[0minterpreter\u001b[0m \u001b[0;34m=\u001b[0m \u001b[0mtf\u001b[0m\u001b[0;34m.\u001b[0m\u001b[0mlite\u001b[0m\u001b[0;34m.\u001b[0m\u001b[0mInterpreter\u001b[0m\u001b[0;34m(\u001b[0m\u001b[0;34m'/content/best-fp16.tflite'\u001b[0m\u001b[0;34m)\u001b[0m\u001b[0;34m\u001b[0m\u001b[0;34m\u001b[0m\u001b[0m\n\u001b[0m\u001b[1;32m      4\u001b[0m \u001b[0minterpreter\u001b[0m\u001b[0;34m.\u001b[0m\u001b[0mallocate_tensors\u001b[0m\u001b[0;34m(\u001b[0m\u001b[0;34m)\u001b[0m\u001b[0;34m\u001b[0m\u001b[0;34m\u001b[0m\u001b[0m\n",
            "\u001b[0;32m/usr/local/lib/python3.7/dist-packages/tensorflow/lite/python/interpreter.py\u001b[0m in \u001b[0;36m__init__\u001b[0;34m(self, model_path, model_content, experimental_delegates, num_threads, experimental_op_resolver_type, experimental_preserve_all_tensors)\u001b[0m\n\u001b[1;32m    456\u001b[0m           _interpreter_wrapper.CreateWrapperFromFile(\n\u001b[1;32m    457\u001b[0m               \u001b[0mmodel_path\u001b[0m\u001b[0;34m,\u001b[0m \u001b[0mop_resolver_id\u001b[0m\u001b[0;34m,\u001b[0m \u001b[0mcustom_op_registerers_by_name\u001b[0m\u001b[0;34m,\u001b[0m\u001b[0;34m\u001b[0m\u001b[0;34m\u001b[0m\u001b[0m\n\u001b[0;32m--> 458\u001b[0;31m               custom_op_registerers_by_func, experimental_preserve_all_tensors))\n\u001b[0m\u001b[1;32m    459\u001b[0m       \u001b[0;32mif\u001b[0m \u001b[0;32mnot\u001b[0m \u001b[0mself\u001b[0m\u001b[0;34m.\u001b[0m\u001b[0m_interpreter\u001b[0m\u001b[0;34m:\u001b[0m\u001b[0;34m\u001b[0m\u001b[0;34m\u001b[0m\u001b[0m\n\u001b[1;32m    460\u001b[0m         \u001b[0;32mraise\u001b[0m \u001b[0mValueError\u001b[0m\u001b[0;34m(\u001b[0m\u001b[0;34m'Failed to open {}'\u001b[0m\u001b[0;34m.\u001b[0m\u001b[0mformat\u001b[0m\u001b[0;34m(\u001b[0m\u001b[0mmodel_path\u001b[0m\u001b[0;34m)\u001b[0m\u001b[0;34m)\u001b[0m\u001b[0;34m\u001b[0m\u001b[0;34m\u001b[0m\u001b[0m\n",
            "\u001b[0;31mValueError\u001b[0m: Could not open '/content/best-fp16.tflite'."
          ]
        }
      ],
      "source": [
        "import tensorflow as tf\n",
        "\n",
        "interpreter = tf.lite.Interpreter('/content/best-fp16.tflite')\n",
        "interpreter.allocate_tensors()"
      ]
    },
    {
      "cell_type": "code",
      "execution_count": null,
      "metadata": {
        "colab": {
          "base_uri": "https://localhost:8080/"
        },
        "id": "BhIlLn5XBtyl",
        "outputId": "f75df445-2dea-4885-f3e1-afdbe739814b"
      },
      "outputs": [
        {
          "name": "stdout",
          "output_type": "stream",
          "text": [
            "\u001b[34m\u001b[1mdetect: \u001b[0mweights=['/content/best-int8.tflite'], source=/content/datasets/test/images/IMG_0002_jpg.rf.8981aa4cdb82b5a12834ed2fba4f91d6.jpg, data=data/coco128.yaml, imgsz=[320, 320], conf_thres=0.25, iou_thres=0.45, max_det=1000, device=, view_img=False, save_txt=False, save_conf=False, save_crop=False, nosave=False, classes=None, agnostic_nms=False, augment=False, visualize=False, update=False, project=runs/detect, name=exp, exist_ok=False, line_thickness=3, hide_labels=False, hide_conf=False, half=False, dnn=False\n",
            "YOLOv5 🚀 v6.1-174-gc4cb7c6 torch 1.11.0+cu113 CPU\n",
            "\n",
            "Loading /content/best-int8.tflite for TensorFlow Lite inference...\n",
            "[tensor([[ 61.13942, 173.22836, 115.48558, 247.95435,   0.97435,   3.00000],\n",
            "        [139.26204, 125.67549, 180.02165, 173.22838,   0.96376,   0.00000],\n",
            "        [157.94353,  78.12260, 202.09978, 132.46875,   0.95317,   3.00000],\n",
            "        [ 44.15625, 113.78727,  98.50241, 185.11661,   0.95317,   2.00000],\n",
            "        [130.77042, 185.11658, 208.89304, 263.23920,   0.94302,   2.00000],\n",
            "        [ 96.80409,  50.94952, 147.75362, 118.88221,   0.92274,   2.00000]])]\n",
            "image 1/1 /content/datasets/test/images/IMG_0002_jpg.rf.8981aa4cdb82b5a12834ed2fba4f91d6.jpg: 320x320 1 person, 3 cars, 2 motorcycles, Done. (6.542s)\n",
            "Speed: 1.4ms pre-process, 6542.0ms inference, 2.0ms NMS per image at shape (1, 3, 320, 320)\n",
            "Results saved to \u001b[1mruns/detect/exp11\u001b[0m\n"
          ]
        }
      ],
      "source": [
        "!python detect.py --weight /content/best-int8.tflite --source /content/datasets/test/images/IMG_0002_jpg.rf.8981aa4cdb82b5a12834ed2fba4f91d6.jpg  --imgsz 320"
      ]
    },
    {
      "cell_type": "code",
      "execution_count": null,
      "metadata": {
        "id": "Awx3MAiD-TFO"
      },
      "outputs": [],
      "source": [
        "import numpy as np\n",
        "from PIL import Image\n"
      ]
    },
    {
      "cell_type": "code",
      "execution_count": null,
      "metadata": {
        "id": "4WEJnfo1EWGc"
      },
      "outputs": [],
      "source": [
        "!pip list"
      ]
    },
    {
      "cell_type": "code",
      "execution_count": null,
      "metadata": {
        "colab": {
          "base_uri": "https://localhost:8080/"
        },
        "id": "VC6by4Hp-XnA",
        "outputId": "fe823709-042b-451d-b25d-988518781bae"
      },
      "outputs": [
        {
          "data": {
            "text/plain": [
              "{'dtype': numpy.uint8,\n",
              " 'index': 0,\n",
              " 'name': 'serving_default_input_1:0',\n",
              " 'quantization': (0.003921568859368563, 0),\n",
              " 'quantization_parameters': {'quantized_dimension': 0,\n",
              "  'scales': array([0.00392157], dtype=float32),\n",
              "  'zero_points': array([0], dtype=int32)},\n",
              " 'shape': array([  1, 320, 320,   3], dtype=int32),\n",
              " 'shape_signature': array([  1, 320, 320,   3], dtype=int32),\n",
              " 'sparsity_parameters': {}}"
            ]
          },
          "execution_count": 20,
          "metadata": {},
          "output_type": "execute_result"
        }
      ],
      "source": [
        "input_details"
      ]
    },
    {
      "cell_type": "code",
      "execution_count": null,
      "metadata": {
        "id": "yYjuW-9ElTCt"
      },
      "outputs": [],
      "source": [
        "import torch \n",
        "\n",
        "prediction = torch.rand(1,6300,9)"
      ]
    },
    {
      "cell_type": "code",
      "execution_count": null,
      "metadata": {
        "colab": {
          "base_uri": "https://localhost:8080/"
        },
        "id": "1kXOCJK0lRe8",
        "outputId": "71749dd8-d21b-442a-8c8a-a029a039556a"
      },
      "outputs": [
        {
          "data": {
            "text/plain": [
              "torch.Size([1, 6300])"
            ]
          },
          "execution_count": 122,
          "metadata": {},
          "output_type": "execute_result"
        }
      ],
      "source": [
        "prediction[..., 4].shape"
      ]
    },
    {
      "cell_type": "code",
      "execution_count": null,
      "metadata": {
        "id": "fNgBPn33-hQD"
      },
      "outputs": [],
      "source": [
        "import time\n",
        "import torch\n",
        "import torchvision\n",
        "\n",
        "def box_area(box):\n",
        "    # box = xyxy(4,n)\n",
        "    return (box[2] - box[0]) * (box[3] - box[1])\n",
        "\n",
        "\n",
        "def box_iou(box1, box2):\n",
        "    # https://github.com/pytorch/vision/blob/master/torchvision/ops/boxes.py\n",
        "    \"\"\"\n",
        "    Return intersection-over-union (Jaccard index) of boxes.\n",
        "    Both sets of boxes are expected to be in (x1, y1, x2, y2) format.\n",
        "    Arguments:\n",
        "        box1 (Tensor[N, 4])\n",
        "        box2 (Tensor[M, 4])\n",
        "    Returns:\n",
        "        iou (Tensor[N, M]): the NxM matrix containing the pairwise\n",
        "            IoU values for every element in boxes1 and boxes2\n",
        "    \"\"\"\n",
        "\n",
        "    # inter(N,M) = (rb(N,M,2) - lt(N,M,2)).clamp(0).prod(2)\n",
        "    (a1, a2), (b1, b2) = box1[:, None].chunk(2, 2), box2.chunk(2, 1)\n",
        "    inter = (torch.min(a2, b2) - torch.max(a1, b1)).clamp(0).prod(2)\n",
        "\n",
        "    # IoU = inter / (area1 + area2 - inter)\n",
        "    return inter / (box_area(box1.T)[:, None] + box_area(box2.T) - inter)\n",
        "\n",
        "def xywh2xyxy(x):\n",
        "    # Convert nx4 boxes from [x, y, w, h] to [x1, y1, x2, y2] where xy1=top-left, xy2=bottom-right\n",
        "    y = x.clone() if isinstance(x, torch.Tensor) else np.copy(x)\n",
        "    y[:, 0] = x[:, 0] - x[:, 2] / 2  # top left x\n",
        "    y[:, 1] = x[:, 1] - x[:, 3] / 2  # top left y\n",
        "    y[:, 2] = x[:, 0] + x[:, 2] / 2  # bottom right x\n",
        "    y[:, 3] = x[:, 1] + x[:, 3] / 2  # bottom right y\n",
        "    return y\n",
        "\n",
        "def non_max_suppression(prediction,\n",
        "                        conf_thres=0.25,\n",
        "                        iou_thres=0.45,\n",
        "                        classes=None,\n",
        "                        agnostic=False,\n",
        "                        multi_label=False,\n",
        "                        labels=(),\n",
        "                        max_det=300):\n",
        "    \"\"\"Non-Maximum Suppression (NMS) on inference results to reject overlapping bounding boxes\n",
        "\n",
        "    Returns:\n",
        "         list of detections, on (n,6) tensor per image [xyxy, conf, cls]\n",
        "    \"\"\"\n",
        "\n",
        "    bs = prediction.shape[0]  # batch size\n",
        "    nc = prediction.shape[2] - 5  # number of classes\n",
        "    xc = prediction[..., 4] > conf_thres  # candidates\n",
        "\n",
        "    # Checks\n",
        "    assert 0 <= conf_thres <= 1, f'Invalid Confidence threshold {conf_thres}, valid values are between 0.0 and 1.0'\n",
        "    assert 0 <= iou_thres <= 1, f'Invalid IoU {iou_thres}, valid values are between 0.0 and 1.0'\n",
        "\n",
        "    # Settings\n",
        "    # min_wh = 2  # (pixels) minimum box width and height\n",
        "    max_wh = 7680  # (pixels) maximum box width and height\n",
        "    max_nms = 30000  # maximum number of boxes into torchvision.ops.nms()\n",
        "    time_limit = 0.1 + 0.03 * bs  # seconds to quit after\n",
        "    redundant = True  # require redundant detections\n",
        "    multi_label &= nc > 1  # multiple labels per box (adds 0.5ms/img)\n",
        "    merge = False  # use merge-NMS\n",
        "\n",
        "    t = time.time()\n",
        "    output = [torch.zeros((0, 6))] * bs\n",
        "    for xi, x in enumerate(prediction):  # image index, image inference\n",
        "        # Apply constraints\n",
        "        # x[((x[..., 2:4] < min_wh) | (x[..., 2:4] > max_wh)).any(1), 4] = 0  # width-height\n",
        "        x = x[xc[xi]]  # confidence\n",
        "\n",
        "        # Cat apriori labels if autolabelling\n",
        "        if labels and len(labels[xi]):\n",
        "            lb = labels[xi]\n",
        "            v = torch.zeros((len(lb), nc + 5), device=x.device)\n",
        "            v[:, :4] = lb[:, 1:5]  # box\n",
        "            v[:, 4] = 1.0  # conf\n",
        "            v[range(len(lb)), lb[:, 0].long() + 5] = 1.0  # cls\n",
        "            x = torch.cat((x, v), 0)\n",
        "\n",
        "        # If none remain process next image\n",
        "        if not x.shape[0]:\n",
        "            continue\n",
        "\n",
        "        # Compute conf\n",
        "        x[:, 5:] *= x[:, 4:5]  # conf = obj_conf * cls_conf\n",
        "\n",
        "        # Box (center x, center y, width, height) to (x1, y1, x2, y2)\n",
        "        box = xywh2xyxy(x[:, :4])\n",
        "\n",
        "        # Detections matrix nx6 (xyxy, conf, cls)\n",
        "        if multi_label:\n",
        "            i, j = (x[:, 5:] > conf_thres).nonzero(as_tuple=False).T\n",
        "            x = torch.cat((box[i], x[i, j + 5, None], j[:, None].float()), 1)\n",
        "        else:  # best class only\n",
        "            conf, j = x[:, 5:].max(1, keepdim=True)\n",
        "            x = torch.cat((box, conf, j.float()), 1)[conf.view(-1) > conf_thres]\n",
        "\n",
        "        # Filter by class\n",
        "        if classes is not None:\n",
        "            x = x[(x[:, 5:6] == torch.tensor(classes, device=x.device)).any(1)]\n",
        "\n",
        "        # Apply finite constraint\n",
        "        # if not torch.isfinite(x).all():\n",
        "        #     x = x[torch.isfinite(x).all(1)]\n",
        "\n",
        "        # Check shape\n",
        "        n = x.shape[0]  # number of boxes\n",
        "        if not n:  # no boxes\n",
        "            continue\n",
        "        elif n > max_nms:  # excess boxes\n",
        "            x = x[x[:, 4].argsort(descending=True)[:max_nms]]  # sort by confidence\n",
        "\n",
        "        # Batched NMS\n",
        "        c = x[:, 5:6] * (0 if agnostic else max_wh)  # classes\n",
        "        boxes, scores = x[:, :4] + c, x[:, 4]  # boxes (offset by class), scores\n",
        "        i = torchvision.ops.nms(boxes, scores, iou_thres)  # NMS\n",
        "        if i.shape[0] > max_det:  # limit detections\n",
        "            i = i[:max_det]\n",
        "        if merge and (1 < n < 3E3):  # Merge NMS (boxes merged using weighted mean)\n",
        "            # update boxes as boxes(i,4) = weights(i,n) * boxes(n,4)\n",
        "            iou = box_iou(boxes[i], boxes) > iou_thres  # iou matrix\n",
        "            weights = iou * scores[None]  # box weights\n",
        "            x[i, :4] = torch.mm(weights, x[:, :4]).float() / weights.sum(1, keepdim=True)  # merged boxes\n",
        "            if redundant:\n",
        "                i = i[iou.sum(1) > 1]  # require redundancy\n",
        "\n",
        "        output[xi] = x[i]\n",
        "        if (time.time() - t) > time_limit:\n",
        "            LOGGER.warning(f'WARNING: NMS time limit {time_limit:.3f}s exceeded')\n",
        "            break  # time limit exceeded\n",
        "\n",
        "    return output"
      ]
    },
    {
      "cell_type": "code",
      "execution_count": null,
      "metadata": {
        "id": "_sc8QNCZ_rQK"
      },
      "outputs": [],
      "source": []
    },
    {
      "cell_type": "code",
      "execution_count": null,
      "metadata": {
        "id": "Lm55Mwzl_8gt"
      },
      "outputs": [],
      "source": [
        "import torch "
      ]
    },
    {
      "cell_type": "code",
      "execution_count": null,
      "metadata": {
        "id": "BI5GVIlbHhLv"
      },
      "outputs": [],
      "source": [
        "interpreter = tf.lite.Interpreter('/content/yolov5/runs/train/exp2/weights/best-int8.tflite')\n",
        "interpreter.allocate_tensors()"
      ]
    },
    {
      "cell_type": "code",
      "execution_count": null,
      "metadata": {
        "id": "BUV9ssBM-QqY"
      },
      "outputs": [],
      "source": [
        "input_details = interpreter.get_input_details()\n",
        "output_details = interpreter.get_output_details()\n",
        "\n"
      ]
    },
    {
      "cell_type": "code",
      "execution_count": null,
      "metadata": {
        "id": "J556bJAKAOux"
      },
      "outputs": [],
      "source": []
    },
    {
      "cell_type": "code",
      "execution_count": null,
      "metadata": {
        "id": "kP16cooxKUoN"
      },
      "outputs": [],
      "source": [
        "scale, zero_point = input_details[0]['quantization']\n"
      ]
    },
    {
      "cell_type": "code",
      "execution_count": null,
      "metadata": {
        "id": "Ia5c8cONLWk0"
      },
      "outputs": [],
      "source": [
        "import numpy as np\n",
        "from PIL import Image\n",
        "img_orgin = np.asarray(Image.open(\"/content/datasets/valid/images/503_png.rf.86318ad8a538281b3fd84a520c1433a0.jpg\"))\n",
        "\n",
        "# img /= 255 \n",
        "img = np.uint8((img_orgin[None] /255) / scale + zero_point)\n",
        "# img = img / 255"
      ]
    },
    {
      "cell_type": "code",
      "execution_count": null,
      "metadata": {
        "colab": {
          "base_uri": "https://localhost:8080/",
          "height": 337
        },
        "id": "W6y9I01yNeKF",
        "outputId": "3f2f2146-b696-4e5b-8e98-7a4d7457eedd"
      },
      "outputs": [
        {
          "data": {
            "image/png": "[encoded data removed]",
            "text/plain": [
              "<PIL.JpegImagePlugin.JpegImageFile image mode=RGB size=320x320 at 0x7FEE98E910D0>"
            ]
          },
          "execution_count": 45,
          "metadata": {},
          "output_type": "execute_result"
        }
      ],
      "source": [
        "Image.open(\"/content/datasets/valid/images/503_png.rf.86318ad8a538281b3fd84a520c1433a0.jpg\")"
      ]
    },
    {
      "cell_type": "code",
      "execution_count": null,
      "metadata": {
        "id": "YepXOxOuLd3w"
      },
      "outputs": [],
      "source": [
        "\n",
        "# np.uint8((img[None] /255) / scale + )"
      ]
    },
    {
      "cell_type": "code",
      "execution_count": null,
      "metadata": {
        "id": "Yka9P8WMIEKW"
      },
      "outputs": [],
      "source": [
        "interpreter.set_tensor(input_details[0]['index'], img)\n",
        "interpreter.invoke()"
      ]
    },
    {
      "cell_type": "code",
      "execution_count": null,
      "metadata": {
        "colab": {
          "base_uri": "https://localhost:8080/"
        },
        "id": "knK2ItraIEHQ",
        "outputId": "d91ecd0b-da0e-4056-a315-3cc557d95a6a"
      },
      "outputs": [
        {
          "name": "stdout",
          "output_type": "stream",
          "text": [
            "(1, 6300, 7)\n"
          ]
        }
      ],
      "source": [
        "output_data = interpreter.get_tensor(output_details[0]['index'])\n",
        "scale, zero_point = output_details[0]['quantization']\n",
        "output_data = (output_data.astype(np.float32) - zero_point) * scale\n",
        "print(output_data.shape)"
      ]
    },
    {
      "cell_type": "code",
      "execution_count": null,
      "metadata": {
        "id": "xjlSVsMPmkUs"
      },
      "outputs": [],
      "source": [
        "def classFilter(classdata):\n",
        "    classes = []  # create a list\n",
        "    for i in range(classdata.shape[0]):         # loop through all predictions\n",
        "        classes.append(classdata[i].argmax())   # get the best classification location\n",
        "    return classes  # return classes (int)\n",
        "\n",
        "def YOLOdetect(output_data):  # input = interpreter, output is boxes(xyxy), classes, scores\n",
        "    output_data = output_data[0]                # x(1, 25200, 7) to x(25200, 7)\n",
        "    boxes = np.squeeze(output_data[..., :4])    # boxes  [25200, 4]\n",
        "    scores = np.squeeze( output_data[..., 4:5]) # confidences  [25200, 1]\n",
        "    classes = classFilter(output_data[..., 5:]) # get classes\n",
        "    x, y, w, h = boxes[..., 0], boxes[..., 1], boxes[..., 2], boxes[..., 3] #xywh\n",
        "    xyxy = [x - w / 2, y - h / 2, x + w / 2, y + h / 2]  # xywh to xyxy   [4, 25200]\n",
        "\n",
        "    return xyxy, classes, scores  # output is boxes(x,y,x,y), classes(int), scores(float) [predictions length]"
      ]
    },
    {
      "cell_type": "code",
      "execution_count": null,
      "metadata": {
        "id": "-AAraXsTmoHA"
      },
      "outputs": [],
      "source": [
        "xyxy, classes, scores = YOLOdetect(output_data)"
      ]
    },
    {
      "cell_type": "code",
      "execution_count": null,
      "metadata": {
        "id": "_K9dw8AHuOSC"
      },
      "outputs": [],
      "source": []
    },
    {
      "cell_type": "code",
      "execution_count": null,
      "metadata": {
        "colab": {
          "base_uri": "https://localhost:8080/"
        },
        "id": "svmgUzQwmuM-",
        "outputId": "e82c4a0c-b34d-4373-fbc7-da5389d5860c"
      },
      "outputs": [
        {
          "data": {
            "text/plain": [
              "(4, 6300, 6300)"
            ]
          },
          "execution_count": 41,
          "metadata": {},
          "output_type": "execute_result"
        }
      ],
      "source": [
        "len(xyxy), len(classes), len(scores) "
      ]
    },
    {
      "cell_type": "code",
      "execution_count": null,
      "metadata": {
        "id": "xMepBa3km6Pn"
      },
      "outputs": [],
      "source": [
        "# scores."
      ]
    },
    {
      "cell_type": "code",
      "execution_count": null,
      "metadata": {
        "id": "-8lDXVyzp90J"
      },
      "outputs": [],
      "source": [
        "boxes = np.stack(xyxy, -1)\n",
        "# boxes.shape"
      ]
    },
    {
      "cell_type": "code",
      "execution_count": null,
      "metadata": {
        "colab": {
          "base_uri": "https://localhost:8080/",
          "height": 165
        },
        "id": "o_x5YlQPIEEC",
        "outputId": "0b01e545-cd07-4b65-e37e-5df3131b8734"
      },
      "outputs": [
        {
          "ename": "NameError",
          "evalue": "ignored",
          "output_type": "error",
          "traceback": [
            "\u001b[0;31m---------------------------------------------------------------------------\u001b[0m",
            "\u001b[0;31mNameError\u001b[0m                                 Traceback (most recent call last)",
            "\u001b[0;32m<ipython-input-49-5af4c70679dd>\u001b[0m in \u001b[0;36m<module>\u001b[0;34m()\u001b[0m\n\u001b[0;32m----> 1\u001b[0;31m \u001b[0mnon_max_suppression\u001b[0m\u001b[0;34m(\u001b[0m\u001b[0mtorch\u001b[0m\u001b[0;34m.\u001b[0m\u001b[0mfrom_numpy\u001b[0m\u001b[0;34m(\u001b[0m\u001b[0moutput_data\u001b[0m\u001b[0;34m)\u001b[0m\u001b[0;34m)\u001b[0m\u001b[0;34m\u001b[0m\u001b[0;34m\u001b[0m\u001b[0m\n\u001b[0m",
            "\u001b[0;31mNameError\u001b[0m: name 'non_max_suppression' is not defined"
          ]
        }
      ],
      "source": [
        "non_max_suppression(torch.from_numpy(output_data))"
      ]
    },
    {
      "cell_type": "code",
      "execution_count": null,
      "metadata": {
        "id": "mVweYVJlIEBA"
      },
      "outputs": [],
      "source": [
        "[tensor([[ 61.13942, 173.22836, 115.48558, 247.95435,   0.97435,   3.00000],\n",
        "        [139.26204, 125.67549, 180.02165, 173.22838,   0.96376,   0.00000],\n",
        "        [157.94353,  78.12260, 202.09978, 132.46875,   0.95317,   3.00000],\n",
        "        [ 44.15625, 113.78727,  98.50241, 185.11661,   0.95317,   2.00000],\n",
        "        [130.77042, 185.11658, 208.89304, 263.23920,   0.94302,   2.00000],\n",
        "        [ 96.80409,  50.94952, 147.75362, 118.88221,   0.92274,   2.00000]])]"
      ]
    },
    {
      "cell_type": "code",
      "execution_count": null,
      "metadata": {
        "id": "ttY3Y_PHID95"
      },
      "outputs": [],
      "source": [
        "import cv2\n",
        "for i in range(len(scores)):\n",
        "    if ((scores[i] > 0.1) and (scores[i] <= 1.0)):\n",
        "        H = img_orgin.shape[0]\n",
        "        W = img_orgin.shape[1]\n",
        "        xmin = int(max(1,(xyxy[0][i] * W)))\n",
        "        ymin = int(max(1,(xyxy[1][i] * H)))\n",
        "        xmax = int(min(H,(xyxy[2][i] * W)))\n",
        "        ymax = int(min(W,(xyxy[3][i] * H)))\n",
        "\n",
        "        cv2.rectangle(img_orgin, (xmin,ymin), (xmax,ymax), (10, 255, 0), 2)"
      ]
    },
    {
      "cell_type": "code",
      "execution_count": null,
      "metadata": {
        "colab": {
          "base_uri": "https://localhost:8080/",
          "height": 337
        },
        "id": "8rAJkISrID6x",
        "outputId": "84127b01-3813-4634-d8bd-044635eecd83"
      },
      "outputs": [
        {
          "data": {
            "image/png": "[encoded data removed]",
            "text/plain": [
              "<PIL.Image.Image image mode=RGB size=320x320 at 0x7FCF3967C710>"
            ]
          },
          "execution_count": 45,
          "metadata": {},
          "output_type": "execute_result"
        }
      ],
      "source": [
        "Image.fromarray(img_orgin)"
      ]
    },
    {
      "cell_type": "code",
      "execution_count": null,
      "metadata": {
        "id": "Y7OOpZmBpRPu"
      },
      "outputs": [],
      "source": [
        "import tensorflow as tf"
      ]
    },
    {
      "cell_type": "code",
      "execution_count": null,
      "metadata": {
        "id": "jrB4MKopID4F"
      },
      "outputs": [],
      "source": [
        "selected_indices = tf.image.non_max_suppression(\n",
        "      boxes, scores, 50, 0.5)"
      ]
    },
    {
      "cell_type": "code",
      "execution_count": null,
      "metadata": {
        "colab": {
          "base_uri": "https://localhost:8080/"
        },
        "id": "unBLmyIuID1W",
        "outputId": "027d921e-92b9-4bd1-c48d-f0caf1cc9edf"
      },
      "outputs": [
        {
          "data": {
            "text/plain": [
              "TensorShape([100])"
            ]
          },
          "execution_count": 59,
          "metadata": {},
          "output_type": "execute_result"
        }
      ],
      "source": [
        "selected_indices.shape"
      ]
    },
    {
      "cell_type": "code",
      "execution_count": null,
      "metadata": {
        "id": "rh2OXOm91Ql3"
      },
      "outputs": [],
      "source": [
        "def classFilter(classdata):\n",
        "\n",
        "    # print(classdata.shape)\n",
        "    # classes = []  # create a list\n",
        "    # for i in range(classdata.shape[0]):         # loop through all predictions\n",
        "    #     classes.append(classdata[i].argmax())   # get the best classification location\n",
        "    # return classes  # return classes (int)\n",
        "    print(classdata)\n",
        "    print(tf.math.argmax(classdata, -1))\n",
        "    return tf.math.argmax(classdata, -1)\n",
        "\n",
        "def YOLOdetect(output_data):  # input = interpreter, output is boxes(xyxy), classes, scores\n",
        "    output_data = output_data[0]                # x(1, 25200, 7) to x(25200, 7)\n",
        "    # print(output_data[..., :4].shape)\n",
        "    boxes = tf.squeeze(output_data[..., :4])  # boxes  [25200, 4]\n",
        "    # print(boxes.shape)\n",
        "    scores = tf.squeeze(output_data[..., 4:5]) # confidences  [25200, 1]\n",
        "    classes = classFilter(output_data[..., 5:]) # get classes\n",
        "    # Convert nx4 boxes from [x, y, w, h] to [x1, y1, x2, y2] where xy1=top-left, xy2=bottom-right\n",
        "    x, y, w, h = boxes[..., 0], boxes[..., 1], boxes[..., 2], boxes[..., 3] #xywh\n",
        "    xyxy = [x - w / 2, y - h / 2, x + w / 2, y + h / 2]  # xywh to xyxy   [4, 25200]\n",
        "\n",
        "    return xyxy, classes, scores  # output is boxes(x,y,x,y), classes(int), scores(float) [predictions length]"
      ]
    },
    {
      "cell_type": "code",
      "execution_count": null,
      "metadata": {
        "id": "GImvf_Rf4rRW"
      },
      "outputs": [],
      "source": [
        "import tensorflow as tf"
      ]
    },
    {
      "cell_type": "code",
      "execution_count": null,
      "metadata": {
        "id": "X43fMwKI1Qii"
      },
      "outputs": [],
      "source": [
        "class NMS(tf.Module):\n",
        "    @tf.function(input_signature=[tf.TensorSpec(shape=[1, 6300, 7], dtype=tf.float32)])\n",
        "    def __call__(self, out):\n",
        "        # print(out.shape)\n",
        "        xyxy, classes, scores = self.YOLOdetect(out)\n",
        "\n",
        "        boxes = tf.stack(xyxy, -1)\n",
        "\n",
        "        # print(classes)\n",
        "        selected_indices = tf.image.non_max_suppression(\n",
        "            boxes, scores, 50, 0.5)\n",
        "        \n",
        "        # ptin\n",
        "        \n",
        "        selected_boxes = tf.gather(boxes, selected_indices)\n",
        "        selected_scores = tf.gather(scores, selected_indices)\n",
        "        selected_classes = tf.gather(classes, selected_indices)\n",
        "\n",
        "        return selected_boxes, selected_scores, selected_classes\n",
        "    \n",
        "    def classFilter(self, classdata):\n",
        "\n",
        "        # print(classdata.shape)\n",
        "        # classes = []  # create a list\n",
        "        # for i in range(classdata.shape[0]):         # loop through all predictions\n",
        "        #     classes.append(classdata[i].argmax())   # get the best classification location\n",
        "        # # return classes  # return classes (int)\n",
        "        # print(classdata)\n",
        "        # print(tf.math.argmax(classdata, -1))\n",
        "        return tf.math.argmax(classdata, -1)\n",
        "    \n",
        "    \n",
        "    def YOLOdetect(self, output_data):  # input = interpreter, output is boxes(xyxy), classes, scores\n",
        "        output_data = output_data[0]                # x(1, 25200, 7) to x(25200, 7)\n",
        "        # print(output_data[..., :4].shape)\n",
        "        boxes = tf.squeeze(output_data[..., :4])  # boxes  [25200, 4]\n",
        "        # print(boxes.shape)\n",
        "        scores = tf.squeeze(output_data[..., 4:5]) # confidences  [25200, 1]\n",
        "        # print(output_data[..., 5:])\n",
        "        classes = self.classFilter(output_data[..., 5:]) # get classes\n",
        "        # Convert nx4 boxes from [x, y, w, h] to [x1, y1, x2, y2] where xy1=top-left, xy2=bottom-right\n",
        "        x, y, w, h = boxes[..., 0], boxes[..., 1], boxes[..., 2], boxes[..., 3] #xywh\n",
        "        xyxy = [x - w / 2, y - h / 2, x + w / 2, y + h / 2]  # xywh to xyxy   [4, 25200]\n",
        "\n",
        "        return xyxy, classes, scores  # output is boxes(x,y,x,y), classes(int), scores(float) [pr\n"
      ]
    },
    {
      "cell_type": "code",
      "execution_count": null,
      "metadata": {
        "colab": {
          "base_uri": "https://localhost:8080/"
        },
        "id": "3eZ7yV_n6cab",
        "outputId": "767df470-ba2b-469a-d95e-7865f76cceb4"
      },
      "outputs": [
        {
          "data": {
            "text/plain": [
              "(<tf.Tensor: shape=(50, 4), dtype=float32, numpy=\n",
              " array([[ 0.3817913 ,  0.35822397,  0.5420494 ,  0.7353018 ],\n",
              "        [ 0.7494422 ,  0.20739281,  0.9097003 ,  0.697594  ],\n",
              "        [ 0.6504593 ,  0.23096016,  1.0275371 ,  0.6551727 ],\n",
              "        [ 0.35351047,  0.2733814 ,  0.53262246,  0.6316054 ],\n",
              "        [ 0.78243655,  0.15083113,  0.91441375,  0.5467628 ],\n",
              "        [-0.01885389, -0.00942695,  0.05656167,  0.04713473],\n",
              "        [-0.01885389, -0.00471347,  0.13197725,  0.04242126],\n",
              "        [ 0.04242126, -0.00471347,  0.22153324,  0.04242126],\n",
              "        [ 0.08012904,  0.00471347,  0.24038713,  0.03299431],\n",
              "        [ 0.5090551 , -0.00471347,  0.7164479 ,  0.04242126],\n",
              "        [ 0.72116137,  0.        ,  0.8625655 ,  0.03770778],\n",
              "        [ 0.876706  ,  0.        ,  1.0086832 ,  0.03770778],\n",
              "        [ 0.9332676 , -0.00942695,  0.9898293 ,  0.02828084],\n",
              "        [ 0.00942694, -0.01414042,  0.08484251,  0.07070209],\n",
              "        [-0.01414042, -0.01414042,  0.14611766,  0.08955599],\n",
              "        [ 0.8955599 ,  0.00942695,  0.9898293 ,  0.06598862],\n",
              "        [ 0.9521215 ,  0.00471347,  1.0086832 ,  0.07070209],\n",
              "        [-0.03299432, -0.00471347,  0.20267934,  0.1366907 ],\n",
              "        [ 0.81543076,  0.12255029,  0.9191272 ,  0.31108922],\n",
              "        [ 0.8484251 ,  0.1743985 ,  0.9238407 ,  0.259241  ],\n",
              "        [ 0.8484251 ,  0.20739281,  0.9238407 ,  0.28280836],\n",
              "        [ 0.82957125,  0.16968504,  0.94269454,  0.35822394],\n",
              "        [ 0.82957125,  0.20267935,  0.94269454,  0.53262246],\n",
              "        [ 0.8012904 ,  0.2922353 ,  0.9144137 ,  0.6316054 ],\n",
              "        [ 0.4336395 ,  0.42892605,  0.5656167 ,  0.7588691 ],\n",
              "        [ 0.3817913 ,  0.4524934 ,  0.4854877 ,  0.77300954],\n",
              "        [ 0.38650477,  0.49020118,  0.53733593,  0.8295712 ],\n",
              "        [ 0.4006452 ,  0.60332453,  0.4854877 ,  0.81071734],\n",
              "        [ 0.44306645,  0.60332453,  0.518482  ,  0.81071734],\n",
              "        [ 0.7730096 ,  0.8295712 ,  0.8861329 ,  0.9049868 ],\n",
              "        [ 0.2922353 ,  0.867279  ,  0.44306648,  0.9049868 ],\n",
              "        [ 0.3676509 ,  0.8625655 ,  0.42421255,  0.9097003 ],\n",
              "        [ 0.39593172,  0.89555985,  0.527909  ,  0.93326765],\n",
              "        [ 0.6363188 ,  0.8814194 ,  0.74001527,  0.9474081 ],\n",
              "        [ 0.777723  ,  0.87670594,  0.8625656 ,  0.95212156],\n",
              "        [ 0.81071734,  0.8908464 ,  0.86727905,  0.9379811 ],\n",
              "        [ 0.83428466,  0.8814194 ,  0.9002733 ,  0.9474081 ],\n",
              "        [ 0.81071734,  0.8531386 ,  0.90498674,  0.9756889 ],\n",
              "        [ 0.87670594,  0.86727905,  0.95212156,  0.96154845],\n",
              "        [ 0.8578521 ,  0.8531386 ,  0.9709754 ,  0.9945428 ],\n",
              "        [ 0.9097003 ,  0.8201443 ,  0.99454284,  1.0086832 ],\n",
              "        [ 0.00471347,  0.88613296,  0.07070209,  0.98040235],\n",
              "        [ 0.2451006 ,  0.9285542 ,  0.39593172,  0.95683503],\n",
              "        [ 0.43363953,  0.8908464 ,  0.5844706 ,  0.97568893],\n",
              "        [ 0.76358265,  0.9002733 ,  0.87670594,  0.966262  ],\n",
              "        [ 0.79186344,  0.8814194 ,  0.94269454,  0.9851159 ],\n",
              "        [ 0.01414042,  0.9285541 ,  0.08012904,  0.9945428 ],\n",
              "        [ 0.02828084,  0.91912717,  0.10369641,  1.0039697 ],\n",
              "        [ 0.00942694,  0.92384064,  0.16025808,  0.99925625],\n",
              "        [ 0.14611766,  0.94269454,  0.34408352,  0.98040235]],\n",
              "       dtype=float32)>, <tf.Tensor: shape=(50,), dtype=float32, numpy=\n",
              " array([0.87670594, 0.70702094, 0.04713473, 0.03770778, 0.01885389,\n",
              "        0.00942695, 0.00942695, 0.00942695, 0.00942695, 0.00942695,\n",
              "        0.00942695, 0.00942695, 0.00942695, 0.00942695, 0.00942695,\n",
              "        0.00942695, 0.00942695, 0.00942695, 0.00942695, 0.00942695,\n",
              "        0.00942695, 0.00942695, 0.00942695, 0.00942695, 0.00942695,\n",
              "        0.00942695, 0.00942695, 0.00942695, 0.00942695, 0.00942695,\n",
              "        0.00942695, 0.00942695, 0.00942695, 0.00942695, 0.00942695,\n",
              "        0.00942695, 0.00942695, 0.00942695, 0.00942695, 0.00942695,\n",
              "        0.00942695, 0.00942695, 0.00942695, 0.00942695, 0.00942695,\n",
              "        0.00942695, 0.00942695, 0.00942695, 0.00942695, 0.00942695],\n",
              "       dtype=float32)>, <tf.Tensor: shape=(50,), dtype=int64, numpy=\n",
              " array([1, 0, 0, 1, 0, 1, 1, 1, 1, 0, 1, 1, 1, 1, 0, 1, 1, 0, 1, 1, 1, 1,\n",
              "        0, 0, 1, 1, 1, 1, 1, 1, 0, 1, 1, 1, 1, 1, 1, 1, 1, 1, 1, 1, 0, 0,\n",
              "        1, 1, 1, 1, 1, 0])>)"
            ]
          },
          "execution_count": 44,
          "metadata": {},
          "output_type": "execute_result"
        }
      ],
      "source": [
        "nms(output_data)"
      ]
    },
    {
      "cell_type": "code",
      "execution_count": null,
      "metadata": {
        "colab": {
          "base_uri": "https://localhost:8080/"
        },
        "id": "tHpjdEt91Qgf",
        "outputId": "53d8dc26-0236-415b-cff6-26a8d9fcbb63"
      },
      "outputs": [
        {
          "name": "stdout",
          "output_type": "stream",
          "text": [
            "(None, 4)\n"
          ]
        }
      ],
      "source": [
        "nms = NMS()\n",
        "concrete_func = nms.__call__.get_concrete_function()"
      ]
    },
    {
      "cell_type": "code",
      "execution_count": null,
      "metadata": {
        "id": "xiOxIYbc42CZ"
      },
      "outputs": [],
      "source": [
        "# nms.build([1,6300,4])"
      ]
    },
    {
      "cell_type": "code",
      "execution_count": null,
      "metadata": {
        "colab": {
          "base_uri": "https://localhost:8080/"
        },
        "id": "ZOz515Lo37Lp",
        "outputId": "6c56b313-aba9-45f8-c18e-d7b6a26b33ee"
      },
      "outputs": [
        {
          "name": "stdout",
          "output_type": "stream",
          "text": [
            "INFO:tensorflow:Assets written to: /tmp/tmpvrklvvg3/assets\n"
          ]
        }
      ],
      "source": [
        "converter = tf.lite.TFLiteConverter.from_concrete_functions([concrete_func],\n",
        "                                                            nms)\n",
        "tflite_model = converter.convert()\n",
        "\n",
        "# Save the model.\n",
        "with open('nms.tflite', 'wb') as f:\n",
        "  f.write(tflite_model)"
      ]
    },
    {
      "cell_type": "code",
      "execution_count": null,
      "metadata": {
        "id": "hSOcFcoV3-W0"
      },
      "outputs": [],
      "source": [
        "\n",
        "\n",
        "\n",
        "\n",
        "\n",
        "\n",
        "\n",
        "\n"
      ]
    },
    {
      "cell_type": "code",
      "execution_count": null,
      "metadata": {
        "id": "nVLe23CFDl42"
      },
      "outputs": [],
      "source": []
    },
    {
      "cell_type": "code",
      "execution_count": null,
      "metadata": {
        "id": "vGaww2QGDmBn"
      },
      "outputs": [],
      "source": [
        "interpreter = tf.lite.Interpreter(\"/content/yolov5/model.tflite\"\n",
        ")\n",
        "interpreter.allocate_tensors()"
      ]
    },
    {
      "cell_type": "code",
      "execution_count": null,
      "metadata": {
        "id": "Rta8cabfDmBp"
      },
      "outputs": [],
      "source": [
        "input_details = interpreter.get_input_details()\n",
        "output_details = interpreter.get_output_details()\n",
        "\n"
      ]
    },
    {
      "cell_type": "code",
      "execution_count": null,
      "metadata": {
        "id": "bG3gOOe-ECk4"
      },
      "outputs": [],
      "source": [
        "interpreter.set_tensor(input_details[0]['index'], output_data)\n",
        "interpreter.invoke()"
      ]
    },
    {
      "cell_type": "code",
      "execution_count": null,
      "metadata": {
        "id": "kxp99FW9HkKd"
      },
      "outputs": [],
      "source": []
    },
    {
      "cell_type": "code",
      "execution_count": null,
      "metadata": {
        "id": "zRtyvShWECk6"
      },
      "outputs": [],
      "source": [
        "output_bboxes = interpreter.get_tensor(output_details[1]['index'])\n",
        "output_scores = interpreter.get_tensor(output_details[0]['index'])\n",
        "output_classes = interpreter.get_tensor(output_details[2]['index'])\n",
        "# scale, zero_point = output_details[0]['quantization']\n",
        "# output_data = (output_data.astype(np.float32) - zero_point) * scale\n",
        "# print(output_data.shape)"
      ]
    },
    {
      "cell_type": "code",
      "execution_count": null,
      "metadata": {
        "colab": {
          "base_uri": "https://localhost:8080/"
        },
        "id": "bKwYq4gNDr_e",
        "outputId": "776e5a49-5b34-427b-dd72-3d7db826f426"
      },
      "outputs": [
        {
          "data": {
            "text/plain": [
              "array([0.9765325 , 0.965918  , 0.965918  , 0.965918  , 0.965918  ,\n",
              "       0.95530355, 0.0636869 , 0.02122897, 0.01061448, 0.01061448,\n",
              "       0.01061448, 0.01061448, 0.01061448, 0.01061448, 0.01061448,\n",
              "       0.01061448, 0.01061448, 0.01061448, 0.01061448, 0.01061448,\n",
              "       0.01061448, 0.01061448, 0.01061448, 0.01061448, 0.01061448,\n",
              "       0.        , 0.        , 0.        , 0.        , 0.        ,\n",
              "       0.        , 0.        , 0.        , 0.        , 0.        ,\n",
              "       0.        , 0.        , 0.        , 0.        , 0.        ,\n",
              "       0.        , 0.        , 0.        , 0.        , 0.        ,\n",
              "       0.        , 0.        , 0.        , 0.        , 0.        ],\n",
              "      dtype=float32)"
            ]
          },
          "execution_count": 75,
          "metadata": {},
          "output_type": "execute_result"
        }
      ],
      "source": [
        "output_scores"
      ]
    },
    {
      "cell_type": "code",
      "execution_count": null,
      "metadata": {
        "colab": {
          "base_uri": "https://localhost:8080/"
        },
        "id": "0c-kvBp4FonT",
        "outputId": "fb9d6931-2ec5-483b-8aef-634d48e29b3b"
      },
      "outputs": [
        {
          "data": {
            "text/plain": [
              "(50, 4)"
            ]
          },
          "execution_count": 63,
          "metadata": {},
          "output_type": "execute_result"
        }
      ],
      "source": [
        "output_bboxes.shape"
      ]
    },
    {
      "cell_type": "code",
      "execution_count": null,
      "metadata": {
        "colab": {
          "base_uri": "https://localhost:8080/"
        },
        "id": "IY3hL_ph1QeQ",
        "outputId": "f7087850-bcd8-4b87-be72-16ae7a7b0cfa"
      },
      "outputs": [
        {
          "data": {
            "text/plain": [
              "(<tf.Tensor: shape=(50, 4), dtype=float32, numpy=\n",
              " array([[ 0.19106069,  0.5413387 ,  0.36089244,  0.7748573 ],\n",
              "        [ 0.14329553,  0.35558522,  0.3025128 ,  0.57848936],\n",
              "        [ 0.49357352,  0.24413311,  0.6315618 ,  0.41396487],\n",
              "        [ 0.43519384,  0.3927359 ,  0.56256765,  0.5413387 ],\n",
              "        [ 0.2918983 ,  0.16983172,  0.47234452,  0.3821214 ],\n",
              "        [ 0.4086576 ,  0.57848936,  0.6527907 ,  0.8226225 ],\n",
              "        [ 0.67932695,  0.7058631 ,  0.9977614 ,  1.0136832 ],\n",
              "        [ 0.34497073,  0.5094952 ,  0.73770666,  0.8491587 ],\n",
              "        [ 0.95530355,  0.83854425,  0.9977615 ,  0.987147  ],\n",
              "        [ 0.97122526,  0.8810021 ,  1.0030687 ,  1.0083759 ],\n",
              "        [ 0.9606108 ,  0.8969239 ,  0.99245423,  1.0136832 ],\n",
              "        [ 0.9499963 ,  0.9287673 ,  1.0030687 ,  1.0242977 ],\n",
              "        [ 0.76955   ,  0.10614484,  0.8650804 ,  0.29720554],\n",
              "        [ 0.812008  ,  0.61564004,  1.0136832 ,  1.0402194 ],\n",
              "        [ 0.90223116,  0.6687125 ,  1.008376  ,  0.987147  ],\n",
              "        [ 0.5731821 ,  0.8173153 ,  1.0189904 ,  1.008376  ],\n",
              "        [ 0.7483211 ,  0.00530723,  0.99245423,  0.24944037],\n",
              "        [ 0.07430139,  0.01592171,  0.64748347,  0.51480246],\n",
              "        [ 0.22290418, -0.10083759,  0.85977316,  0.6740197 ],\n",
              "        [ 0.8013935 ,  0.07960862,  0.9818398 ,  0.45111555],\n",
              "        [ 0.1645245 ,  0.13798828,  0.5572604 ,  0.47765177],\n",
              "        [-0.00530724,  0.26536208,  0.38742864,  0.6687125 ],\n",
              "        [-0.02653623,  0.05837968,  0.9818398 ,  0.83323693],\n",
              "        [-0.13798828,  0.3661997 ,  0.62625456,  0.9287673 ],\n",
              "        [ 0.74301386,  0.6527907 ,  0.97653246,  0.9393818 ],\n",
              "        [ 0.01592172,  0.01061448,  0.04776517,  0.03184345],\n",
              "        [ 0.00530724, -0.00530724,  0.05837966,  0.04776518],\n",
              "        [-0.00530724,  0.00530724,  0.06899414,  0.05837966],\n",
              "        [ 0.02122897,  0.02653621,  0.04245793,  0.03715069],\n",
              "        [ 0.05307242,  0.02653621,  0.07430138,  0.03715069],\n",
              "        [ 0.03184345, -0.00530724,  0.09553035,  0.04776518],\n",
              "        [ 0.01061448,  0.01061448,  0.11675932,  0.05307242],\n",
              "        [ 0.07960863,  0.03184345,  0.09022311,  0.03184345],\n",
              "        [ 0.11145208,  0.03184345,  0.12206656,  0.03184345],\n",
              "        [ 0.08491588,  0.01061448,  0.14860277,  0.05307242],\n",
              "        [ 0.13798828,  0.03184345,  0.13798828,  0.03184345],\n",
              "        [ 0.09553035,  0.02122897,  0.18044622,  0.04245793],\n",
              "        [ 0.16983174,  0.03184345,  0.16983174,  0.03184345],\n",
              "        [ 0.1273738 ,  0.01061448,  0.1910607 ,  0.05307242],\n",
              "        [ 0.1910607 ,  0.03184345,  0.1910607 ,  0.03184345],\n",
              "        [ 0.13798828,  0.02122897,  0.22290416,  0.04245793],\n",
              "        [ 0.22290416,  0.03184345,  0.22290416,  0.03184345],\n",
              "        [ 0.18044622,  0.01061448,  0.24413313,  0.05307242],\n",
              "        [ 0.17513898,  0.02122897,  0.24944037,  0.04245793],\n",
              "        [ 0.24413313,  0.03184345,  0.24413313,  0.03184345],\n",
              "        [ 0.26536208,  0.03184345,  0.26536208,  0.03184345],\n",
              "        [ 0.23351863,  0.01061448,  0.29720554,  0.05307242],\n",
              "        [ 0.2175969 ,  0.02122897,  0.29189828,  0.04245793],\n",
              "        [ 0.29720554,  0.03184345,  0.29720554,  0.03184345],\n",
              "        [ 0.26005486,  0.01061448,  0.31312725,  0.05307242]],\n",
              "       dtype=float32)>, <tf.Tensor: shape=(50,), dtype=float32, numpy=\n",
              " array([0.9765325 , 0.965918  , 0.965918  , 0.965918  , 0.965918  ,\n",
              "        0.95530355, 0.0636869 , 0.02122897, 0.01061448, 0.01061448,\n",
              "        0.01061448, 0.01061448, 0.01061448, 0.01061448, 0.01061448,\n",
              "        0.01061448, 0.01061448, 0.01061448, 0.01061448, 0.01061448,\n",
              "        0.01061448, 0.01061448, 0.01061448, 0.01061448, 0.01061448,\n",
              "        0.        , 0.        , 0.        , 0.        , 0.        ,\n",
              "        0.        , 0.        , 0.        , 0.        , 0.        ,\n",
              "        0.        , 0.        , 0.        , 0.        , 0.        ,\n",
              "        0.        , 0.        , 0.        , 0.        , 0.        ,\n",
              "        0.        , 0.        , 0.        , 0.        , 0.        ],\n",
              "       dtype=float32)>, <tf.Tensor: shape=(50,), dtype=int64, numpy=\n",
              " array([3, 2, 3, 0, 2, 2, 1, 2, 1, 1, 1, 1, 3, 1, 1, 1, 1, 2, 2, 1, 2, 2,\n",
              "        0, 2, 1, 1, 1, 1, 1, 1, 1, 1, 1, 0, 0, 0, 0, 0, 0, 0, 0, 0, 0, 0,\n",
              "        0, 0, 0, 0, 0, 0])>)"
            ]
          },
          "execution_count": 70,
          "metadata": {},
          "output_type": "execute_result"
        }
      ],
      "source": [
        "nms(output_data)"
      ]
    },
    {
      "cell_type": "code",
      "execution_count": null,
      "metadata": {
        "colab": {
          "base_uri": "https://localhost:8080/"
        },
        "id": "EZlZrRZ61Qb8",
        "outputId": "332eb502-e50b-4197-f511-b475ccd0d495"
      },
      "outputs": [
        {
          "name": "stdout",
          "output_type": "stream",
          "text": [
            "Edge TPU Compiler version 16.0.384591198\n",
            "Started a compilation timeout timer of 180 seconds.\n",
            "\n",
            "Model compiled successfully in 1 ms.\n",
            "\n",
            "Input model: model.tflite\n",
            "Input size: 4.79KiB\n",
            "Output model: model_edgetpu.tflite\n",
            "Output size: 3.90KiB\n",
            "On-chip memory used for caching model parameters: 0.00B\n",
            "On-chip memory remaining for caching model parameters: 0.00B\n",
            "Off-chip memory used for streaming uncached model parameters: 0.00B\n",
            "Number of Edge TPU subgraphs: 0\n",
            "Total number of operations: 21\n",
            "Operation log: model_edgetpu.log\n",
            "\n",
            "Model successfully compiled but not all operations are supported by the Edge TPU. A percentage of the model will instead run on the CPU, which is slower. If possible, consider updating your model to use only operations supported by the Edge TPU. For details, visit g.co/coral/model-reqs.\n",
            "Number of operations that will run on Edge TPU: 0\n",
            "Number of operations that will run on CPU: 21\n",
            "See the operation log file for individual operation details.\n",
            "Compilation child process completed within timeout period.\n",
            "Compilation succeeded! \n"
          ]
        }
      ],
      "source": [
        "!edgetpu_compiler model.tflite"
      ]
    },
    {
      "cell_type": "code",
      "execution_count": null,
      "metadata": {
        "id": "ehSuM37E1QZq"
      },
      "outputs": [],
      "source": []
    },
    {
      "cell_type": "code",
      "execution_count": null,
      "metadata": {
        "id": "JrObL_JK1QXg"
      },
      "outputs": [],
      "source": []
    },
    {
      "cell_type": "code",
      "execution_count": null,
      "metadata": {
        "id": "RJ-bChio1QVh"
      },
      "outputs": [],
      "source": []
    },
    {
      "cell_type": "code",
      "execution_count": null,
      "metadata": {
        "id": "hY5U9dZA1QTE"
      },
      "outputs": [],
      "source": []
    },
    {
      "cell_type": "code",
      "execution_count": null,
      "metadata": {
        "id": "2dSbVSlj1QRF"
      },
      "outputs": [],
      "source": []
    },
    {
      "cell_type": "code",
      "execution_count": null,
      "metadata": {
        "id": "61AyY4iQ1QO0"
      },
      "outputs": [],
      "source": []
    },
    {
      "cell_type": "code",
      "execution_count": null,
      "metadata": {
        "id": "vwQWNIiG1QMZ"
      },
      "outputs": [],
      "source": []
    },
    {
      "cell_type": "code",
      "execution_count": null,
      "metadata": {
        "id": "DMFAm3SK1QKS"
      },
      "outputs": [],
      "source": []
    },
    {
      "cell_type": "code",
      "execution_count": null,
      "metadata": {
        "id": "FP38wTQV1QIc"
      },
      "outputs": [],
      "source": []
    },
    {
      "cell_type": "code",
      "execution_count": null,
      "metadata": {
        "colab": {
          "base_uri": "https://localhost:8080/"
        },
        "id": "Tav0HOJzqqKt",
        "outputId": "3ac50262-7291-4e24-a30e-50dce1c6e419"
      },
      "outputs": [
        {
          "data": {
            "text/plain": [
              "(6300,)"
            ]
          },
          "execution_count": 67,
          "metadata": {},
          "output_type": "execute_result"
        }
      ],
      "source": [
        "scores.shape"
      ]
    },
    {
      "cell_type": "code",
      "execution_count": null,
      "metadata": {
        "colab": {
          "base_uri": "https://localhost:8080/"
        },
        "id": "nRyNVSP9qrfF",
        "outputId": "be077136-2644-465b-acc4-1aee3483a00a"
      },
      "outputs": [
        {
          "name": "stdout",
          "output_type": "stream",
          "text": [
            "--2022-05-06 09:28:13--  https://www.piwheels.org/simple/tensorflow/tensorflow-1.14.0-cp37-none-linux_armv7l.whl\n",
            "Resolving www.piwheels.org (www.piwheels.org)... 93.93.129.174, 46.235.225.189, 2a00:1098:0:82:1000:3b:1:1, ...\n",
            "Connecting to www.piwheels.org (www.piwheels.org)|93.93.129.174|:443... connected.\n",
            "HTTP request sent, awaiting response... 200 OK\n",
            "Length: 79571696 (76M)\n",
            "Saving to: ‘tensorflow-1.14.0-cp37-none-linux_armv7l.whl’\n",
            "\n",
            "tensorflow-1.14.0-c 100%[===================>]  75.88M  17.2MB/s    in 4.2s    \n",
            "\n",
            "2022-05-06 09:28:17 (18.0 MB/s) - ‘tensorflow-1.14.0-cp37-none-linux_armv7l.whl’ saved [79571696/79571696]\n",
            "\n"
          ]
        }
      ],
      "source": [
        "!wget https://www.piwheels.org/simple/tensorflow/tensorflow-1.14.0-cp37-none-linux_armv7l.whl "
      ]
    },
    {
      "cell_type": "code",
      "execution_count": null,
      "metadata": {
        "id": "OFqE3M0Bqdgw"
      },
      "outputs": [],
      "source": [
        "selected_scores = tf.gather(scores, selected_indices)"
      ]
    },
    {
      "cell_type": "code",
      "execution_count": null,
      "metadata": {
        "colab": {
          "base_uri": "https://localhost:8080/"
        },
        "id": "y-d0L-VsqyGn",
        "outputId": "0f53033f-3386-4a7a-dc37-9a50b1c3d21b"
      },
      "outputs": [
        {
          "data": {
            "text/plain": [
              "<tf.Tensor: shape=(100,), dtype=float32, numpy=\n",
              "array([0.9765325 , 0.965918  , 0.965918  , 0.965918  , 0.965918  ,\n",
              "       0.95530355, 0.0636869 , 0.02122897, 0.01061448, 0.01061448,\n",
              "       0.01061448, 0.01061448, 0.01061448, 0.01061448, 0.01061448,\n",
              "       0.01061448, 0.01061448, 0.01061448, 0.01061448, 0.01061448,\n",
              "       0.01061448, 0.01061448, 0.01061448, 0.01061448, 0.01061448,\n",
              "       0.        , 0.        , 0.        , 0.        , 0.        ,\n",
              "       0.        , 0.        , 0.        , 0.        , 0.        ,\n",
              "       0.        , 0.        , 0.        , 0.        , 0.        ,\n",
              "       0.        , 0.        , 0.        , 0.        , 0.        ,\n",
              "       0.        , 0.        , 0.        , 0.        , 0.        ,\n",
              "       0.        , 0.        , 0.        , 0.        , 0.        ,\n",
              "       0.        , 0.        , 0.        , 0.        , 0.        ,\n",
              "       0.        , 0.        , 0.        , 0.        , 0.        ,\n",
              "       0.        , 0.        , 0.        , 0.        , 0.        ,\n",
              "       0.        , 0.        , 0.        , 0.        , 0.        ,\n",
              "       0.        , 0.        , 0.        , 0.        , 0.        ,\n",
              "       0.        , 0.        , 0.        , 0.        , 0.        ,\n",
              "       0.        , 0.        , 0.        , 0.        , 0.        ,\n",
              "       0.        , 0.        , 0.        , 0.        , 0.        ,\n",
              "       0.        , 0.        , 0.        , 0.        , 0.        ],\n",
              "      dtype=float32)>"
            ]
          },
          "execution_count": 70,
          "metadata": {},
          "output_type": "execute_result"
        }
      ],
      "source": [
        "selected_scores.to"
      ]
    },
    {
      "cell_type": "code",
      "execution_count": null,
      "metadata": {
        "colab": {
          "base_uri": "https://localhost:8080/"
        },
        "id": "SBORcBpWqe3v",
        "outputId": "b292993f-cdeb-4925-f4d4-2ecf38285724"
      },
      "outputs": [
        {
          "data": {
            "text/plain": [
              "<tf.Tensor: shape=(100, 4), dtype=float32, numpy=\n",
              "array([[ 0.19106069,  0.5413387 ,  0.36089244,  0.7748573 ],\n",
              "       [ 0.14329553,  0.35558522,  0.3025128 ,  0.57848936],\n",
              "       [ 0.49357352,  0.24413311,  0.6315618 ,  0.41396487],\n",
              "       [ 0.43519384,  0.3927359 ,  0.56256765,  0.5413387 ],\n",
              "       [ 0.2918983 ,  0.16983172,  0.47234452,  0.3821214 ],\n",
              "       [ 0.4086576 ,  0.57848936,  0.6527907 ,  0.8226225 ],\n",
              "       [ 0.67932695,  0.7058631 ,  0.9977614 ,  1.0136832 ],\n",
              "       [ 0.34497073,  0.5094952 ,  0.73770666,  0.8491587 ],\n",
              "       [ 0.95530355,  0.83854425,  0.9977615 ,  0.987147  ],\n",
              "       [ 0.97122526,  0.8810021 ,  1.0030687 ,  1.0083759 ],\n",
              "       [ 0.9606108 ,  0.8969239 ,  0.99245423,  1.0136832 ],\n",
              "       [ 0.9499963 ,  0.9287673 ,  1.0030687 ,  1.0242977 ],\n",
              "       [ 0.76955   ,  0.10614484,  0.8650804 ,  0.29720554],\n",
              "       [ 0.812008  ,  0.61564004,  1.0136832 ,  1.0402194 ],\n",
              "       [ 0.90223116,  0.6687125 ,  1.008376  ,  0.987147  ],\n",
              "       [ 0.5731821 ,  0.8173153 ,  1.0189904 ,  1.008376  ],\n",
              "       [ 0.7483211 ,  0.00530723,  0.99245423,  0.24944037],\n",
              "       [ 0.07430139,  0.01592171,  0.64748347,  0.51480246],\n",
              "       [ 0.22290418, -0.10083759,  0.85977316,  0.6740197 ],\n",
              "       [ 0.8013935 ,  0.07960862,  0.9818398 ,  0.45111555],\n",
              "       [ 0.1645245 ,  0.13798828,  0.5572604 ,  0.47765177],\n",
              "       [-0.00530724,  0.26536208,  0.38742864,  0.6687125 ],\n",
              "       [-0.02653623,  0.05837968,  0.9818398 ,  0.83323693],\n",
              "       [-0.13798828,  0.3661997 ,  0.62625456,  0.9287673 ],\n",
              "       [ 0.74301386,  0.6527907 ,  0.97653246,  0.9393818 ],\n",
              "       [ 0.01592172,  0.01061448,  0.04776517,  0.03184345],\n",
              "       [ 0.00530724, -0.00530724,  0.05837966,  0.04776518],\n",
              "       [-0.00530724,  0.00530724,  0.06899414,  0.05837966],\n",
              "       [ 0.02122897,  0.02653621,  0.04245793,  0.03715069],\n",
              "       [ 0.05307242,  0.02653621,  0.07430138,  0.03715069],\n",
              "       [ 0.03184345, -0.00530724,  0.09553035,  0.04776518],\n",
              "       [ 0.01061448,  0.01061448,  0.11675932,  0.05307242],\n",
              "       [ 0.07960863,  0.03184345,  0.09022311,  0.03184345],\n",
              "       [ 0.11145208,  0.03184345,  0.12206656,  0.03184345],\n",
              "       [ 0.08491588,  0.01061448,  0.14860277,  0.05307242],\n",
              "       [ 0.13798828,  0.03184345,  0.13798828,  0.03184345],\n",
              "       [ 0.09553035,  0.02122897,  0.18044622,  0.04245793],\n",
              "       [ 0.16983174,  0.03184345,  0.16983174,  0.03184345],\n",
              "       [ 0.1273738 ,  0.01061448,  0.1910607 ,  0.05307242],\n",
              "       [ 0.1910607 ,  0.03184345,  0.1910607 ,  0.03184345],\n",
              "       [ 0.13798828,  0.02122897,  0.22290416,  0.04245793],\n",
              "       [ 0.22290416,  0.03184345,  0.22290416,  0.03184345],\n",
              "       [ 0.18044622,  0.01061448,  0.24413313,  0.05307242],\n",
              "       [ 0.17513898,  0.02122897,  0.24944037,  0.04245793],\n",
              "       [ 0.24413313,  0.03184345,  0.24413313,  0.03184345],\n",
              "       [ 0.26536208,  0.03184345,  0.26536208,  0.03184345],\n",
              "       [ 0.23351863,  0.01061448,  0.29720554,  0.05307242],\n",
              "       [ 0.2175969 ,  0.02122897,  0.29189828,  0.04245793],\n",
              "       [ 0.29720554,  0.03184345,  0.29720554,  0.03184345],\n",
              "       [ 0.26005486,  0.01061448,  0.31312725,  0.05307242],\n",
              "       [ 0.24944036,  0.02122897,  0.32374173,  0.04245793],\n",
              "       [ 0.3184345 ,  0.03184345,  0.3184345 ,  0.03184345],\n",
              "       [ 0.28128383,  0.01061448,  0.33435622,  0.05307242],\n",
              "       [ 0.33966348,  0.03184345,  0.33966348,  0.03184345],\n",
              "       [ 0.31312728,  0.01061448,  0.36619967,  0.05307242],\n",
              "       [ 0.3025128 ,  0.02122897,  0.37681416,  0.04245793],\n",
              "       [ 0.37150693,  0.03184345,  0.37150693,  0.03184345],\n",
              "       [ 0.33435625,  0.01061448,  0.38742864,  0.05307242],\n",
              "       [ 0.38742867,  0.03184345,  0.39804313,  0.03184345],\n",
              "       [ 0.3661997 ,  0.01061448,  0.4192721 ,  0.05307242],\n",
              "       [ 0.40865764,  0.03184345,  0.4192721 ,  0.03184345],\n",
              "       [ 0.38742867,  0.01061448,  0.44050106,  0.05307242],\n",
              "       [ 0.4405011 ,  0.03184345,  0.45111555,  0.03184345],\n",
              "       [ 0.41927212,  0.01061448,  0.47234452,  0.05307242],\n",
              "       [ 0.46173006,  0.03184345,  0.47234452,  0.03184345],\n",
              "       [ 0.41927212,  0.02122897,  0.4935735 ,  0.04245793],\n",
              "       [ 0.48826626,  0.03184345,  0.48826626,  0.03184345],\n",
              "       [ 0.46173006,  0.01061448,  0.51480246,  0.05307242],\n",
              "       [ 0.45111558,  0.02122897,  0.525417  ,  0.04245793],\n",
              "       [ 0.5201097 ,  0.03184345,  0.5201097 ,  0.03184345],\n",
              "       [ 0.482959  ,  0.01592172,  0.5360314 ,  0.04776517],\n",
              "       [ 0.47234452,  0.02653621,  0.5466459 ,  0.03715069],\n",
              "       [ 0.55195314,  0.03184345,  0.55195314,  0.03184345],\n",
              "       [ 0.50418794,  0.01592172,  0.5572604 ,  0.04776517],\n",
              "       [ 0.5731821 ,  0.03184345,  0.5731821 ,  0.03184345],\n",
              "       [ 0.5360314 ,  0.01592172,  0.5891039 ,  0.04776517],\n",
              "       [ 0.525417  ,  0.02653621,  0.59971833,  0.03715069],\n",
              "       [ 0.5944111 ,  0.03184345,  0.5944111 ,  0.03184345],\n",
              "       [ 0.5519532 ,  0.01592172,  0.61564004,  0.04776517],\n",
              "       [ 0.62625456,  0.03184345,  0.62625456,  0.03184345],\n",
              "       [ 0.57318217,  0.01061448,  0.636869  ,  0.05307242],\n",
              "       [ 0.5678749 ,  0.02122897,  0.6421763 ,  0.04245793],\n",
              "       [ 0.63156176,  0.03184345,  0.6421763 ,  0.03184345],\n",
              "       [ 0.6050256 ,  0.01061448,  0.66871244,  0.05307242],\n",
              "       [ 0.66340524,  0.03184345,  0.67401975,  0.03184345],\n",
              "       [ 0.62625456,  0.        ,  0.6899414 ,  0.0636869 ],\n",
              "       [ 0.6050256 ,  0.01592172,  0.7111704 ,  0.04776517],\n",
              "       [ 0.68463415,  0.03184345,  0.69524866,  0.03184345],\n",
              "       [ 0.6527907 ,  0.        ,  0.7270921 ,  0.0636869 ],\n",
              "       [ 0.69524866,  0.02122897,  0.7270921 ,  0.04245793],\n",
              "       [ 0.6740197 , -0.01592173,  0.7695501 ,  0.07960863],\n",
              "       [ 0.7111704 , -0.00530724,  0.79608625,  0.06899414],\n",
              "       [ 0.7005559 , -0.02122897,  0.82792974,  0.08491587],\n",
              "       [ 0.7589356 , -0.01061448,  0.85446596,  0.07430138],\n",
              "       [ 0.78016454, -0.02122897,  0.89692384,  0.08491587],\n",
              "       [ 0.82792974, -0.00530724,  0.9340745 ,  0.06899414],\n",
              "       [ 0.8491587 ,  0.        ,  0.9553035 ,  0.04245793],\n",
              "       [ 0.84385145, -0.01592173,  1.0030687 ,  0.03715069],\n",
              "       [ 0.9128456 ,  0.00530724,  0.9977615 ,  0.03715069],\n",
              "       [ 0.9181528 , -0.00530724,  1.0136832 ,  0.04776518]],\n",
              "      dtype=float32)>"
            ]
          },
          "execution_count": 69,
          "metadata": {},
          "output_type": "execute_result"
        }
      ],
      "source": [
        "selected_boxes"
      ]
    },
    {
      "cell_type": "code",
      "execution_count": null,
      "metadata": {
        "colab": {
          "background_save": true,
          "base_uri": "https://localhost:8080/"
        },
        "id": "XJytOy8SH-x5",
        "outputId": "6375b979-3a7c-454e-eb2e-dd12b20fa2db"
      },
      "outputs": [
        {
          "name": "stdout",
          "output_type": "stream",
          "text": [
            "\u001b[34m\u001b[1mtrain: \u001b[0mweights=, cfg=my_yolov5s.yaml, data=./data/datatraffic.yaml, hyp=data/hyps/hyp.scratch-low.yaml, epochs=100, batch_size=32, imgsz=100, rect=False, resume=False, nosave=False, noval=False, noautoanchor=False, noplots=False, evolve=None, bucket=, cache=None, image_weights=False, device=, multi_scale=False, single_cls=False, optimizer=SGD, sync_bn=False, workers=8, project=runs/train, name=exp, exist_ok=False, quad=False, cos_lr=False, label_smoothing=0.0, patience=100, freeze=[0], save_period=-1, local_rank=-1, entity=None, upload_dataset=False, bbox_interval=-1, artifact_alias=latest\n",
            "\u001b[34m\u001b[1mgithub: \u001b[0mup to date with https://github.com/ultralytics/yolov5 ✅\n",
            "YOLOv5 🚀 v6.1-178-g4870064 torch 1.11.0+cu113 CUDA:0 (Tesla T4, 15110MiB)\n",
            "\n",
            "\u001b[34m\u001b[1mhyperparameters: \u001b[0mlr0=0.01, lrf=0.01, momentum=0.937, weight_decay=0.0005, warmup_epochs=3.0, warmup_momentum=0.8, warmup_bias_lr=0.1, box=0.05, cls=0.5, cls_pw=1.0, obj=1.0, obj_pw=1.0, iou_t=0.2, anchor_t=4.0, fl_gamma=0.0, hsv_h=0.015, hsv_s=0.7, hsv_v=0.4, degrees=0.0, translate=0.1, scale=0.5, shear=0.0, perspective=0.0, flipud=0.0, fliplr=0.5, mosaic=1.0, mixup=0.0, copy_paste=0.0\n",
            "\u001b[34m\u001b[1mWeights & Biases: \u001b[0mrun 'pip install wandb' to automatically track and visualize YOLOv5 🚀 runs (RECOMMENDED)\n",
            "\u001b[34m\u001b[1mTensorBoard: \u001b[0mStart with 'tensorboard --logdir runs/train', view at http://localhost:6006/\n",
            "\n",
            "                 from  n    params  module                                  arguments                     \n",
            "  0                -1  1      2640  models.common.Focus                     [3, 24, 3]                    \n",
            "  1                -1  1      8720  models.common.Conv                      [24, 40, 3, 2]                \n",
            "  2                -1  1      7440  models.common.C3                        [40, 40, 1]                   \n",
            "  3                -1  1     28960  models.common.Conv                      [40, 80, 3, 2]                \n",
            "  4                -1  2     45440  models.common.C3                        [80, 80, 2]                   \n",
            "  5                -1  1    115520  models.common.Conv                      [80, 160, 3, 2]               \n",
            "  6                -1  2    180480  models.common.C3                        [160, 160, 2]                 \n",
            "  7                -1  1    449904  models.common.Conv                      [160, 312, 3, 2]              \n",
            "  8                -1  1    244296  models.common.SPP                       [312, 312, [5, 9, 13]]        \n",
            "  9                -1  1    439920  models.common.C3                        [312, 312, 1, False]          \n",
            " 10                -1  1     50240  models.common.Conv                      [312, 160, 1, 1]              \n",
            " 11                -1  1         0  torch.nn.modules.upsampling.Upsample    [None, 2, 'nearest']          \n",
            " 12           [-1, 6]  1         0  models.common.Concat                    [1]                           \n",
            " 13                -1  1    141760  models.common.C3                        [320, 160, 1, False]          \n",
            " 14                -1  1     12960  models.common.Conv                      [160, 80, 1, 1]               \n",
            " 15                -1  1         0  torch.nn.modules.upsampling.Upsample    [None, 2, 'nearest']          \n",
            " 16           [-1, 4]  1         0  models.common.Concat                    [1]                           \n",
            " 17                -1  1     35680  models.common.C3                        [160, 80, 1, False]           \n",
            " 18                -1  1     57760  models.common.Conv                      [80, 80, 3, 2]                \n",
            " 19          [-1, 14]  1         0  models.common.Concat                    [1]                           \n",
            " 20                -1  1    116160  models.common.C3                        [160, 160, 1, False]          \n",
            " 21                -1  1    230720  models.common.Conv                      [160, 160, 3, 2]              \n",
            " 22          [-1, 10]  1         0  models.common.Concat                    [1]                           \n",
            " 23                -1  1    442416  models.common.C3                        [320, 312, 1, False]          \n",
            " 24      [17, 20, 23]  1     11655  models.yolo.Detect                      [2, [[10, 13, 16, 30, 33, 23], [30, 61, 62, 45, 59, 119], [116, 90, 156, 198, 373, 326]], [80, 160, 312]]\n",
            "my_YOLOv5s summary: 265 layers, 2622671 parameters, 2622671 gradients, 6.3 GFLOPs\n",
            "\n",
            "WARNING: --img-size 100 must be multiple of max stride 32, updating to 128\n",
            "Scaled weight_decay = 0.0005\n",
            "\u001b[34m\u001b[1moptimizer:\u001b[0m SGD with parameter groups 55 weight (no decay), 58 weight, 58 bias\n",
            "\u001b[34m\u001b[1malbumentations: \u001b[0mversion 1.0.3 required by YOLOv5, but version 0.1.12 is currently installed\n",
            "\u001b[34m\u001b[1mtrain: \u001b[0mScanning '/content/yolov5/../datasets/train/labels.cache' images and labels... 190 found, 0 missing, 0 empty, 0 corrupt: 100% 190/190 [00:00<?, ?it/s]\n",
            "\u001b[34m\u001b[1mval: \u001b[0mScanning '/content/yolov5/../datasets/valid/labels.cache' images and labels... 7 found, 0 missing, 1 empty, 0 corrupt: 100% 7/7 [00:00<?, ?it/s]\n",
            "Plotting labels to runs/train/exp2/labels.jpg... \n",
            "\n",
            "\u001b[34m\u001b[1mAutoAnchor: \u001b[0m5.89 anchors/target, 1.000 Best Possible Recall (BPR). Current anchors are a good fit to dataset ✅\n",
            "Image sizes 128 train, 128 val\n",
            "Using 2 dataloader workers\n",
            "Logging results to \u001b[1mruns/train/exp2\u001b[0m\n",
            "Starting training for 100 epochs...\n",
            "\n",
            "     Epoch   gpu_mem       box       obj       cls    labels  img_size\n",
            "      0/99    0.203G    0.1149   0.01232   0.02779        68       128: 100% 6/6 [00:02<00:00,  2.27it/s]\n",
            "               Class     Images     Labels          P          R     mAP@.5 mAP@.5:.95: 100% 1/1 [00:00<00:00, 19.35it/s]\n",
            "                 all          7          9    0.00091      0.167   0.000827   0.000165\n",
            "\n",
            "     Epoch   gpu_mem       box       obj       cls    labels  img_size\n",
            "      1/99    0.206G    0.1157   0.01256   0.02766        73       128: 100% 6/6 [00:00<00:00,  7.39it/s]\n",
            "               Class     Images     Labels          P          R     mAP@.5 mAP@.5:.95: 100% 1/1 [00:00<00:00, 19.45it/s]\n",
            "                 all          7          9    0.00091      0.167   0.000888   0.000178\n",
            "\n",
            "     Epoch   gpu_mem       box       obj       cls    labels  img_size\n",
            "      2/99    0.206G    0.1148   0.01249   0.02757        58       128: 100% 6/6 [00:00<00:00,  7.44it/s]\n",
            "               Class     Images     Labels          P          R     mAP@.5 mAP@.5:.95: 100% 1/1 [00:00<00:00, 19.02it/s]\n",
            "                 all          7          9   0.000898      0.167   0.000787   0.000157\n",
            "\n",
            "     Epoch   gpu_mem       box       obj       cls    labels  img_size\n",
            "      3/99    0.206G     0.113   0.01259    0.0275        60       128: 100% 6/6 [00:00<00:00,  7.21it/s]\n",
            "               Class     Images     Labels          P          R     mAP@.5 mAP@.5:.95: 100% 1/1 [00:00<00:00, 19.20it/s]\n",
            "                 all          7          9   0.000894      0.167   0.000846   0.000169\n",
            "\n",
            "     Epoch   gpu_mem       box       obj       cls    labels  img_size\n",
            "      4/99    0.206G    0.1113   0.01253   0.02727        56       128: 100% 6/6 [00:00<00:00,  7.06it/s]\n",
            "               Class     Images     Labels          P          R     mAP@.5 mAP@.5:.95: 100% 1/1 [00:00<00:00, 20.35it/s]\n",
            "                 all          7          9     0.0014      0.333    0.00129   0.000206\n",
            "\n",
            "     Epoch   gpu_mem       box       obj       cls    labels  img_size\n",
            "      5/99    0.206G    0.1091   0.01294   0.02736        59       128: 100% 6/6 [00:00<00:00,  7.38it/s]\n",
            "               Class     Images     Labels          P          R     mAP@.5 mAP@.5:.95: 100% 1/1 [00:00<00:00, 18.56it/s]\n",
            "                 all          7          9     0.0014      0.333    0.00139    0.00032\n",
            "\n",
            "     Epoch   gpu_mem       box       obj       cls    labels  img_size\n",
            "      6/99    0.206G    0.1091   0.01264   0.02745        86       128: 100% 6/6 [00:00<00:00,  7.54it/s]\n",
            "               Class     Images     Labels          P          R     mAP@.5 mAP@.5:.95: 100% 1/1 [00:00<00:00, 20.51it/s]\n",
            "                 all          7          9     0.0014      0.333    0.00109   0.000257\n",
            "\n",
            "     Epoch   gpu_mem       box       obj       cls    labels  img_size\n",
            "      7/99    0.206G    0.1102   0.01411   0.02752        86       128: 100% 6/6 [00:00<00:00,  7.53it/s]\n",
            "               Class     Images     Labels          P          R     mAP@.5 mAP@.5:.95: 100% 1/1 [00:00<00:00, 19.86it/s]\n",
            "                 all          7          9    0.00238      0.667     0.0022   0.000563\n",
            "\n",
            "     Epoch   gpu_mem       box       obj       cls    labels  img_size\n",
            "      8/99    0.206G     0.108   0.01261   0.02721        57       128: 100% 6/6 [00:00<00:00,  7.69it/s]\n",
            "               Class     Images     Labels          P          R     mAP@.5 mAP@.5:.95: 100% 1/1 [00:00<00:00, 18.29it/s]\n",
            "                 all          7          9    0.00243      0.583    0.00247   0.000594\n",
            "\n",
            "     Epoch   gpu_mem       box       obj       cls    labels  img_size\n",
            "      9/99    0.206G    0.1078   0.01502   0.02719        86       128: 100% 6/6 [00:00<00:00,  7.94it/s]\n",
            "               Class     Images     Labels          P          R     mAP@.5 mAP@.5:.95: 100% 1/1 [00:00<00:00, 19.41it/s]\n",
            "                 all          7          9    0.00242      0.583    0.00231    0.00074\n",
            "\n",
            "     Epoch   gpu_mem       box       obj       cls    labels  img_size\n",
            "     10/99    0.206G    0.1064   0.01402   0.02702        69       128: 100% 6/6 [00:00<00:00,  8.14it/s]\n",
            "               Class     Images     Labels          P          R     mAP@.5 mAP@.5:.95: 100% 1/1 [00:00<00:00, 19.48it/s]\n",
            "                 all          7          9    0.00287       0.75    0.00395    0.00105\n",
            "\n",
            "     Epoch   gpu_mem       box       obj       cls    labels  img_size\n",
            "     11/99    0.206G    0.1045    0.0155   0.02693        75       128: 100% 6/6 [00:00<00:00,  7.72it/s]\n",
            "               Class     Images     Labels          P          R     mAP@.5 mAP@.5:.95: 100% 1/1 [00:00<00:00, 19.64it/s]\n",
            "                 all          7          9   0.000921        0.5    0.00173   0.000336\n",
            "\n",
            "     Epoch   gpu_mem       box       obj       cls    labels  img_size\n",
            "     12/99    0.206G    0.1023   0.01386   0.02668        76       128: 100% 6/6 [00:00<00:00,  8.03it/s]\n",
            "               Class     Images     Labels          P          R     mAP@.5 mAP@.5:.95: 100% 1/1 [00:00<00:00, 18.25it/s]\n",
            "                 all          7          9    0.00286       0.75    0.00322    0.00134\n",
            "\n",
            "     Epoch   gpu_mem       box       obj       cls    labels  img_size\n",
            "     13/99    0.206G    0.1011   0.01595   0.02686        73       128: 100% 6/6 [00:00<00:00,  7.93it/s]\n",
            "               Class     Images     Labels          P          R     mAP@.5 mAP@.5:.95: 100% 1/1 [00:00<00:00, 20.11it/s]\n",
            "                 all          7          9    0.00286       0.75    0.00308    0.00143\n",
            "\n",
            "     Epoch   gpu_mem       box       obj       cls    labels  img_size\n",
            "     14/99    0.206G   0.09898   0.01637   0.02658        74       128: 100% 6/6 [00:00<00:00,  7.79it/s]\n",
            "               Class     Images     Labels          P          R     mAP@.5 mAP@.5:.95: 100% 1/1 [00:00<00:00, 18.10it/s]\n",
            "                 all          7          9    0.00315       0.75    0.00335    0.00154\n",
            "\n",
            "     Epoch   gpu_mem       box       obj       cls    labels  img_size\n",
            "     15/99    0.206G   0.09704   0.01642   0.02651        79       128: 100% 6/6 [00:00<00:00,  7.90it/s]\n",
            "               Class     Images     Labels          P          R     mAP@.5 mAP@.5:.95: 100% 1/1 [00:00<00:00, 18.95it/s]\n",
            "                 all          7          9    0.00286       0.75    0.00478      0.002\n",
            "\n",
            "     Epoch   gpu_mem       box       obj       cls    labels  img_size\n",
            "     16/99    0.206G    0.0954   0.01656   0.02602        66       128: 100% 6/6 [00:00<00:00,  7.63it/s]\n",
            "               Class     Images     Labels          P          R     mAP@.5 mAP@.5:.95: 100% 1/1 [00:00<00:00, 17.53it/s]\n",
            "                 all          7          9      0.003       0.75    0.00655    0.00216\n",
            "\n",
            "     Epoch   gpu_mem       box       obj       cls    labels  img_size\n",
            "     17/99    0.206G    0.0934   0.01627   0.02549        66       128: 100% 6/6 [00:00<00:00,  7.93it/s]\n",
            "               Class     Images     Labels          P          R     mAP@.5 mAP@.5:.95: 100% 1/1 [00:00<00:00, 18.16it/s]\n",
            "                 all          7          9    0.00286       0.75    0.00564    0.00166\n",
            "\n",
            "     Epoch   gpu_mem       box       obj       cls    labels  img_size\n",
            "     18/99    0.206G    0.0912   0.01663   0.02543        50       128: 100% 6/6 [00:00<00:00,  7.80it/s]\n",
            "               Class     Images     Labels          P          R     mAP@.5 mAP@.5:.95: 100% 1/1 [00:00<00:00, 19.75it/s]\n",
            "                 all          7          9    0.00105        0.5    0.00154   0.000476\n",
            "\n",
            "     Epoch   gpu_mem       box       obj       cls    labels  img_size\n",
            "     19/99    0.206G   0.08783   0.01694   0.02552        65       128: 100% 6/6 [00:00<00:00,  7.88it/s]\n",
            "               Class     Images     Labels          P          R     mAP@.5 mAP@.5:.95: 100% 1/1 [00:00<00:00, 19.84it/s]\n",
            "                 all          7          9   0.000916        0.5    0.00139   0.000235\n",
            "\n",
            "     Epoch   gpu_mem       box       obj       cls    labels  img_size\n",
            "     20/99    0.206G   0.08965   0.01624   0.02467        76       128: 100% 6/6 [00:00<00:00,  8.02it/s]\n",
            "               Class     Images     Labels          P          R     mAP@.5 mAP@.5:.95: 100% 1/1 [00:00<00:00, 19.82it/s]\n",
            "                 all          7          9    0.00179      0.333    0.00245   0.000773\n",
            "\n",
            "     Epoch   gpu_mem       box       obj       cls    labels  img_size\n",
            "     21/99    0.206G   0.08715   0.01705   0.02368        69       128: 100% 6/6 [00:00<00:00,  8.07it/s]\n",
            "               Class     Images     Labels          P          R     mAP@.5 mAP@.5:.95: 100% 1/1 [00:00<00:00, 17.94it/s]\n",
            "                 all          7          9      0.617      0.167     0.0639    0.00924\n",
            "\n",
            "     Epoch   gpu_mem       box       obj       cls    labels  img_size\n",
            "     22/99    0.206G   0.08432   0.01779    0.0232        88       128: 100% 6/6 [00:00<00:00,  7.31it/s]\n",
            "               Class     Images     Labels          P          R     mAP@.5 mAP@.5:.95: 100% 1/1 [00:00<00:00, 17.55it/s]\n",
            "                 all          7          9      0.812      0.333      0.315      0.077\n",
            "\n",
            "     Epoch   gpu_mem       box       obj       cls    labels  img_size\n",
            "     23/99    0.206G   0.08091   0.01584   0.02178        81       128: 100% 6/6 [00:00<00:00,  7.60it/s]\n",
            "               Class     Images     Labels          P          R     mAP@.5 mAP@.5:.95: 100% 1/1 [00:00<00:00, 17.72it/s]\n",
            "                 all          7          9        0.7      0.333      0.176     0.0393\n",
            "\n",
            "     Epoch   gpu_mem       box       obj       cls    labels  img_size\n",
            "     24/99    0.206G   0.07714   0.01587   0.02189        73       128: 100% 6/6 [00:00<00:00,  7.78it/s]\n",
            "               Class     Images     Labels          P          R     mAP@.5 mAP@.5:.95: 100% 1/1 [00:00<00:00, 17.16it/s]\n",
            "                 all          7          9      0.699      0.333      0.178      0.061\n",
            "\n",
            "     Epoch   gpu_mem       box       obj       cls    labels  img_size\n",
            "     25/99    0.206G   0.07827   0.01427   0.02076        69       128: 100% 6/6 [00:00<00:00,  6.41it/s]\n",
            "               Class     Images     Labels          P          R     mAP@.5 mAP@.5:.95: 100% 1/1 [00:00<00:00, 16.86it/s]\n",
            "                 all          7          9      0.749      0.333       0.21     0.0496\n",
            "\n",
            "     Epoch   gpu_mem       box       obj       cls    labels  img_size\n",
            "     26/99    0.206G   0.07822   0.01441    0.0207        72       128: 100% 6/6 [00:00<00:00,  7.95it/s]\n",
            "               Class     Images     Labels          P          R     mAP@.5 mAP@.5:.95: 100% 1/1 [00:00<00:00, 19.23it/s]\n",
            "                 all          7          9        0.8        0.5      0.331     0.0906\n",
            "\n",
            "     Epoch   gpu_mem       box       obj       cls    labels  img_size\n",
            "     27/99    0.206G   0.07626   0.01369   0.02069        74       128: 100% 6/6 [00:00<00:00,  7.98it/s]\n",
            "               Class     Images     Labels          P          R     mAP@.5 mAP@.5:.95: 100% 1/1 [00:00<00:00, 19.29it/s]\n",
            "                 all          7          9      0.685      0.493      0.192     0.0853\n",
            "\n",
            "     Epoch   gpu_mem       box       obj       cls    labels  img_size\n",
            "     28/99    0.206G   0.07272   0.01459   0.02037        62       128: 100% 6/6 [00:00<00:00,  7.83it/s]\n",
            "               Class     Images     Labels          P          R     mAP@.5 mAP@.5:.95: 100% 1/1 [00:00<00:00, 19.20it/s]\n",
            "                 all          7          9      0.687        0.5      0.292     0.0566\n",
            "\n",
            "     Epoch   gpu_mem       box       obj       cls    labels  img_size\n",
            "     29/99    0.206G   0.07397   0.01405   0.01887        63       128: 100% 6/6 [00:00<00:00,  7.53it/s]\n",
            "               Class     Images     Labels          P          R     mAP@.5 mAP@.5:.95: 100% 1/1 [00:00<00:00, 17.66it/s]\n",
            "                 all          7          9      0.993      0.333      0.471      0.173\n",
            "\n",
            "     Epoch   gpu_mem       box       obj       cls    labels  img_size\n",
            "     30/99    0.206G   0.06969   0.01417   0.01831        78       128: 100% 6/6 [00:00<00:00,  7.95it/s]\n",
            "               Class     Images     Labels          P          R     mAP@.5 mAP@.5:.95: 100% 1/1 [00:00<00:00, 18.99it/s]\n",
            "                 all          7          9      0.833      0.333      0.405     0.0706\n",
            "\n",
            "     Epoch   gpu_mem       box       obj       cls    labels  img_size\n",
            "     31/99    0.206G   0.07131   0.01327   0.01881        71       128: 100% 6/6 [00:00<00:00,  8.14it/s]\n",
            "               Class     Images     Labels          P          R     mAP@.5 mAP@.5:.95: 100% 1/1 [00:00<00:00, 19.34it/s]\n",
            "                 all          7          9      0.714        0.5      0.337     0.0916\n",
            "\n",
            "     Epoch   gpu_mem       box       obj       cls    labels  img_size\n",
            "     32/99    0.206G   0.06741   0.01279   0.01826        72       128: 100% 6/6 [00:00<00:00,  7.92it/s]\n",
            "               Class     Images     Labels          P          R     mAP@.5 mAP@.5:.95: 100% 1/1 [00:00<00:00, 16.73it/s]\n",
            "                 all          7          9      0.873        0.5      0.423      0.118\n",
            "\n",
            "     Epoch   gpu_mem       box       obj       cls    labels  img_size\n",
            "     33/99    0.206G   0.06836   0.01397   0.01741        70       128: 100% 6/6 [00:00<00:00,  7.99it/s]\n",
            "               Class     Images     Labels          P          R     mAP@.5 mAP@.5:.95: 100% 1/1 [00:00<00:00, 18.71it/s]\n",
            "                 all          7          9      0.411      0.667      0.617      0.141\n",
            "\n",
            "     Epoch   gpu_mem       box       obj       cls    labels  img_size\n",
            "     34/99    0.206G   0.06794   0.01338   0.01642        72       128: 100% 6/6 [00:00<00:00,  7.57it/s]\n",
            "               Class     Images     Labels          P          R     mAP@.5 mAP@.5:.95: 100% 1/1 [00:00<00:00, 18.89it/s]\n",
            "                 all          7          9      0.996      0.333      0.488      0.097\n",
            "\n",
            "     Epoch   gpu_mem       box       obj       cls    labels  img_size\n",
            "     35/99    0.206G   0.06552   0.01351   0.01539        73       128: 100% 6/6 [00:00<00:00,  8.11it/s]\n",
            "               Class     Images     Labels          P          R     mAP@.5 mAP@.5:.95: 100% 1/1 [00:00<00:00, 18.12it/s]\n",
            "                 all          7          9      0.875        0.5      0.588      0.131\n",
            "\n",
            "     Epoch   gpu_mem       box       obj       cls    labels  img_size\n",
            "     36/99    0.206G   0.06614   0.01272   0.01464        79       128: 100% 6/6 [00:00<00:00,  8.02it/s]\n",
            "               Class     Images     Labels          P          R     mAP@.5 mAP@.5:.95: 100% 1/1 [00:00<00:00, 17.08it/s]\n",
            "                 all          7          9      0.798        0.5      0.406      0.114\n",
            "\n",
            "     Epoch   gpu_mem       box       obj       cls    labels  img_size\n",
            "     37/99    0.206G    0.0632   0.01203   0.01267        57       128: 100% 6/6 [00:00<00:00,  8.14it/s]\n",
            "               Class     Images     Labels          P          R     mAP@.5 mAP@.5:.95: 100% 1/1 [00:00<00:00, 17.89it/s]\n",
            "                 all          7          9      0.999        0.5      0.745       0.27\n",
            "\n",
            "     Epoch   gpu_mem       box       obj       cls    labels  img_size\n",
            "     38/99    0.206G   0.06841   0.01274   0.01466        72       128: 100% 6/6 [00:00<00:00,  8.26it/s]\n",
            "               Class     Images     Labels          P          R     mAP@.5 mAP@.5:.95: 100% 1/1 [00:00<00:00, 18.52it/s]\n",
            "                 all          7          9      0.583      0.167     0.0582     0.0128\n",
            "\n",
            "     Epoch   gpu_mem       box       obj       cls    labels  img_size\n",
            "     39/99    0.206G   0.05953   0.01265   0.01307        74       128: 100% 6/6 [00:00<00:00,  8.06it/s]\n",
            "               Class     Images     Labels          P          R     mAP@.5 mAP@.5:.95: 100% 1/1 [00:00<00:00, 18.32it/s]\n",
            "                 all          7          9      0.799      0.498      0.359      0.102\n",
            "\n",
            "     Epoch   gpu_mem       box       obj       cls    labels  img_size\n",
            "     40/99    0.206G    0.0608   0.01235   0.01127        82       128: 100% 6/6 [00:00<00:00,  7.61it/s]\n",
            "               Class     Images     Labels          P          R     mAP@.5 mAP@.5:.95: 100% 1/1 [00:00<00:00, 18.88it/s]\n",
            "                 all          7          9        0.7      0.333      0.235     0.0659\n",
            "\n",
            "     Epoch   gpu_mem       box       obj       cls    labels  img_size\n",
            "     41/99    0.206G   0.06253   0.01217   0.01103        85       128: 100% 6/6 [00:00<00:00,  8.06it/s]\n",
            "               Class     Images     Labels          P          R     mAP@.5 mAP@.5:.95: 100% 1/1 [00:00<00:00, 19.16it/s]\n",
            "                 all          7          9      0.835       0.75      0.802      0.403\n",
            "\n",
            "     Epoch   gpu_mem       box       obj       cls    labels  img_size\n",
            "     42/99    0.206G   0.06109   0.01202   0.01217        69       128: 100% 6/6 [00:00<00:00,  8.08it/s]\n",
            "               Class     Images     Labels          P          R     mAP@.5 mAP@.5:.95: 100% 1/1 [00:00<00:00, 17.71it/s]\n",
            "                 all          7          9      0.384      0.583      0.268     0.0839\n",
            "\n",
            "     Epoch   gpu_mem       box       obj       cls    labels  img_size\n",
            "     43/99    0.206G   0.06389   0.01109   0.01006        65       128: 100% 6/6 [00:00<00:00,  8.31it/s]\n",
            "               Class     Images     Labels          P          R     mAP@.5 mAP@.5:.95: 100% 1/1 [00:00<00:00, 18.85it/s]\n",
            "                 all          7          9      0.801      0.749      0.688      0.266\n",
            "\n",
            "     Epoch   gpu_mem       box       obj       cls    labels  img_size\n",
            "     44/99    0.206G   0.06033   0.01136  0.009815        73       128: 100% 6/6 [00:00<00:00,  8.08it/s]\n",
            "               Class     Images     Labels          P          R     mAP@.5 mAP@.5:.95: 100% 1/1 [00:00<00:00, 15.00it/s]\n",
            "                 all          7          9      0.801      0.666      0.725      0.307\n",
            "\n",
            "     Epoch   gpu_mem       box       obj       cls    labels  img_size\n",
            "     45/99    0.206G   0.05974   0.01205  0.009673        79       128: 100% 6/6 [00:00<00:00,  7.45it/s]\n",
            "               Class     Images     Labels          P          R     mAP@.5 mAP@.5:.95: 100% 1/1 [00:00<00:00, 17.17it/s]\n",
            "                 all          7          9      0.874      0.629      0.709      0.121\n",
            "\n",
            "     Epoch   gpu_mem       box       obj       cls    labels  img_size\n",
            "     46/99    0.206G   0.06049   0.01108  0.009142        72       128: 100% 6/6 [00:00<00:00,  8.12it/s]\n",
            "               Class     Images     Labels          P          R     mAP@.5 mAP@.5:.95: 100% 1/1 [00:00<00:00, 18.06it/s]\n",
            "                 all          7          9      0.649        0.5      0.416      0.106\n",
            "\n",
            "     Epoch   gpu_mem       box       obj       cls    labels  img_size\n",
            "     47/99    0.206G   0.06205   0.01101  0.009217        75       128: 100% 6/6 [00:00<00:00,  7.93it/s]\n",
            "               Class     Images     Labels          P          R     mAP@.5 mAP@.5:.95: 100% 1/1 [00:00<00:00, 18.08it/s]\n",
            "                 all          7          9     0.0878       0.25     0.0255    0.00659\n",
            "\n",
            "     Epoch   gpu_mem       box       obj       cls    labels  img_size\n",
            "     48/99    0.206G   0.05664   0.01139  0.009284        62       128: 100% 6/6 [00:00<00:00,  8.25it/s]\n",
            "               Class     Images     Labels          P          R     mAP@.5 mAP@.5:.95: 100% 1/1 [00:00<00:00, 18.13it/s]\n",
            "                 all          7          9        0.5        0.5      0.563      0.312\n",
            "\n",
            "     Epoch   gpu_mem       box       obj       cls    labels  img_size\n",
            "     49/99    0.206G    0.0581   0.01122  0.008917        82       128: 100% 6/6 [00:00<00:00,  7.69it/s]\n",
            "               Class     Images     Labels          P          R     mAP@.5 mAP@.5:.95: 100% 1/1 [00:00<00:00, 18.64it/s]\n",
            "                 all          7          9          1        0.5      0.558      0.175\n",
            "\n",
            "     Epoch   gpu_mem       box       obj       cls    labels  img_size\n",
            "     50/99    0.206G   0.05673   0.01111  0.007594        64       128: 100% 6/6 [00:00<00:00,  8.08it/s]\n",
            "               Class     Images     Labels          P          R     mAP@.5 mAP@.5:.95: 100% 1/1 [00:00<00:00, 19.04it/s]\n",
            "                 all          7          9      0.841       0.75      0.772      0.335\n",
            "\n",
            "     Epoch   gpu_mem       box       obj       cls    labels  img_size\n",
            "     51/99    0.206G   0.05366   0.01064  0.007214        60       128: 100% 6/6 [00:00<00:00,  8.06it/s]\n",
            "               Class     Images     Labels          P          R     mAP@.5 mAP@.5:.95: 100% 1/1 [00:00<00:00, 19.16it/s]\n",
            "                 all          7          9      0.636       0.75      0.704      0.304\n",
            "\n",
            "     Epoch   gpu_mem       box       obj       cls    labels  img_size\n",
            "     52/99    0.206G   0.05395   0.01103  0.007263        83       128: 100% 6/6 [00:00<00:00,  8.14it/s]\n",
            "               Class     Images     Labels          P          R     mAP@.5 mAP@.5:.95: 100% 1/1 [00:00<00:00, 16.61it/s]\n",
            "                 all          7          9      0.866      0.667      0.756      0.273\n",
            "\n",
            "     Epoch   gpu_mem       box       obj       cls    labels  img_size\n",
            "     53/99    0.206G   0.05574   0.01085  0.008978        73       128: 100% 6/6 [00:00<00:00,  8.15it/s]\n",
            "               Class     Images     Labels          P          R     mAP@.5 mAP@.5:.95: 100% 1/1 [00:00<00:00, 17.92it/s]\n",
            "                 all          7          9      0.757      0.749      0.759      0.396\n",
            "\n",
            "     Epoch   gpu_mem       box       obj       cls    labels  img_size\n",
            "     54/99    0.206G   0.05381   0.01109  0.008027        70       128: 100% 6/6 [00:00<00:00,  8.08it/s]\n",
            "               Class     Images     Labels          P          R     mAP@.5 mAP@.5:.95: 100% 1/1 [00:00<00:00, 19.43it/s]\n",
            "                 all          7          9      0.718       0.75      0.756      0.403\n",
            "\n",
            "     Epoch   gpu_mem       box       obj       cls    labels  img_size\n",
            "     55/99    0.206G   0.05441   0.01103  0.007698        69       128: 100% 6/6 [00:00<00:00,  7.93it/s]\n",
            "               Class     Images     Labels          P          R     mAP@.5 mAP@.5:.95: 100% 1/1 [00:00<00:00, 16.00it/s]\n",
            "                 all          7          9      0.833      0.333      0.293     0.0675\n",
            "\n",
            "     Epoch   gpu_mem       box       obj       cls    labels  img_size\n",
            "     56/99    0.206G   0.05468   0.01113  0.007408        86       128: 100% 6/6 [00:00<00:00,  8.02it/s]\n",
            "               Class     Images     Labels          P          R     mAP@.5 mAP@.5:.95: 100% 1/1 [00:00<00:00, 19.36it/s]\n",
            "                 all          7          9      0.939      0.833       0.83      0.469\n",
            "\n",
            "     Epoch   gpu_mem       box       obj       cls    labels  img_size\n",
            "     57/99    0.206G   0.05179   0.01113  0.008678        73       128: 100% 6/6 [00:00<00:00,  7.57it/s]\n",
            "               Class     Images     Labels          P          R     mAP@.5 mAP@.5:.95: 100% 1/1 [00:00<00:00, 18.76it/s]\n",
            "                 all          7          9      0.894      0.833       0.83      0.459\n",
            "\n",
            "     Epoch   gpu_mem       box       obj       cls    labels  img_size\n",
            "     58/99    0.206G    0.0549    0.0104  0.008172        70       128: 100% 6/6 [00:00<00:00,  8.05it/s]\n",
            "               Class     Images     Labels          P          R     mAP@.5 mAP@.5:.95: 100% 1/1 [00:00<00:00, 18.66it/s]\n",
            "                 all          7          9       0.82      0.748       0.75      0.246\n",
            "\n",
            "     Epoch   gpu_mem       box       obj       cls    labels  img_size\n",
            "     59/99    0.206G   0.05428   0.01089  0.006688        76       128: 100% 6/6 [00:00<00:00,  8.27it/s]\n",
            "               Class     Images     Labels          P          R     mAP@.5 mAP@.5:.95: 100% 1/1 [00:00<00:00, 19.20it/s]\n",
            "                 all          7          9      0.829      0.833      0.814      0.531\n",
            "\n",
            "     Epoch   gpu_mem       box       obj       cls    labels  img_size\n",
            "     60/99    0.206G   0.05202   0.01063  0.006899        65       128: 100% 6/6 [00:00<00:00,  8.07it/s]\n",
            "               Class     Images     Labels          P          R     mAP@.5 mAP@.5:.95: 100% 1/1 [00:00<00:00, 19.02it/s]\n",
            "                 all          7          9      0.923      0.833      0.831      0.486\n",
            "\n",
            "     Epoch   gpu_mem       box       obj       cls    labels  img_size\n",
            "     61/99    0.206G   0.05121   0.01117  0.006742        85       128: 100% 6/6 [00:00<00:00,  8.00it/s]\n",
            "               Class     Images     Labels          P          R     mAP@.5 mAP@.5:.95: 100% 1/1 [00:00<00:00, 19.00it/s]\n",
            "                 all          7          9       0.92      0.833      0.832      0.506\n",
            "\n",
            "     Epoch   gpu_mem       box       obj       cls    labels  img_size\n",
            "     62/99    0.206G   0.05034    0.0104   0.00731        57       128: 100% 6/6 [00:00<00:00,  8.12it/s]\n",
            "               Class     Images     Labels          P          R     mAP@.5 mAP@.5:.95: 100% 1/1 [00:00<00:00, 18.99it/s]\n",
            "                 all          7          9      0.827      0.833      0.798      0.559\n",
            "\n",
            "     Epoch   gpu_mem       box       obj       cls    labels  img_size\n",
            "     63/99    0.206G   0.04894   0.01148  0.006224        82       128: 100% 6/6 [00:00<00:00,  8.08it/s]\n",
            "               Class     Images     Labels          P          R     mAP@.5 mAP@.5:.95: 100% 1/1 [00:00<00:00, 17.63it/s]\n",
            "                 all          7          9      0.902      0.833      0.831      0.507\n",
            "\n",
            "     Epoch   gpu_mem       box       obj       cls    labels  img_size\n",
            "     64/99    0.206G   0.05121    0.0107  0.006631        88       128: 100% 6/6 [00:00<00:00,  8.03it/s]\n",
            "               Class     Images     Labels          P          R     mAP@.5 mAP@.5:.95: 100% 1/1 [00:00<00:00, 19.45it/s]\n",
            "                 all          7          9      0.676      0.833      0.776      0.417\n",
            "\n",
            "     Epoch   gpu_mem       box       obj       cls    labels  img_size\n",
            "     65/99    0.206G   0.05176   0.01023  0.005327        70       128: 100% 6/6 [00:00<00:00,  8.15it/s]\n",
            "               Class     Images     Labels          P          R     mAP@.5 mAP@.5:.95: 100% 1/1 [00:00<00:00, 20.02it/s]\n",
            "                 all          7          9      0.828      0.833      0.764       0.32\n",
            "\n",
            "     Epoch   gpu_mem       box       obj       cls    labels  img_size\n",
            "     66/99    0.206G    0.0511   0.01161  0.006809        67       128: 100% 6/6 [00:00<00:00,  7.73it/s]\n",
            "               Class     Images     Labels          P          R     mAP@.5 mAP@.5:.95: 100% 1/1 [00:00<00:00, 17.35it/s]\n",
            "                 all          7          9      0.768      0.833      0.776      0.415\n",
            "\n",
            "     Epoch   gpu_mem       box       obj       cls    labels  img_size\n",
            "     67/99    0.206G   0.04892   0.01088  0.005923        68       128: 100% 6/6 [00:00<00:00,  8.14it/s]\n",
            "               Class     Images     Labels          P          R     mAP@.5 mAP@.5:.95: 100% 1/1 [00:00<00:00, 18.90it/s]\n",
            "                 all          7          9       0.93      0.833      0.831      0.569\n",
            "\n",
            "     Epoch   gpu_mem       box       obj       cls    labels  img_size\n",
            "     68/99    0.206G   0.04788   0.01033  0.007101        80       128: 100% 6/6 [00:00<00:00,  8.09it/s]\n",
            "               Class     Images     Labels          P          R     mAP@.5 mAP@.5:.95: 100% 1/1 [00:00<00:00, 19.11it/s]\n",
            "                 all          7          9       0.97      0.833      0.831       0.61\n",
            "\n",
            "     Epoch   gpu_mem       box       obj       cls    labels  img_size\n",
            "     69/99    0.206G   0.04741   0.01009  0.004978        60       128: 100% 6/6 [00:00<00:00,  8.34it/s]\n",
            "               Class     Images     Labels          P          R     mAP@.5 mAP@.5:.95: 100% 1/1 [00:00<00:00, 19.61it/s]\n",
            "                 all          7          9      0.951      0.833      0.832      0.592\n",
            "\n",
            "     Epoch   gpu_mem       box       obj       cls    labels  img_size\n",
            "     70/99    0.206G   0.04836   0.01019  0.005087        61       128: 100% 6/6 [00:00<00:00,  7.68it/s]\n",
            "               Class     Images     Labels          P          R     mAP@.5 mAP@.5:.95: 100% 1/1 [00:00<00:00, 14.61it/s]\n",
            "                 all          7          9      0.943      0.833      0.831      0.508\n",
            "\n",
            "     Epoch   gpu_mem       box       obj       cls    labels  img_size\n",
            "     71/99    0.206G   0.04893  0.009657  0.006604        69       128: 100% 6/6 [00:00<00:00,  8.12it/s]\n",
            "               Class     Images     Labels          P          R     mAP@.5 mAP@.5:.95: 100% 1/1 [00:00<00:00, 16.77it/s]\n",
            "                 all          7          9      0.966      0.833      0.831      0.399\n",
            "\n",
            "     Epoch   gpu_mem       box       obj       cls    labels  img_size\n",
            "     72/99    0.206G   0.04641   0.01004  0.005043        58       128: 100% 6/6 [00:00<00:00,  8.10it/s]\n",
            "               Class     Images     Labels          P          R     mAP@.5 mAP@.5:.95: 100% 1/1 [00:00<00:00, 19.28it/s]\n",
            "                 all          7          9      0.935      0.833      0.833      0.498\n",
            "\n",
            "     Epoch   gpu_mem       box       obj       cls    labels  img_size\n",
            "     73/99    0.206G   0.04765   0.01005  0.005434        67       128: 100% 6/6 [00:00<00:00,  8.01it/s]\n",
            "               Class     Images     Labels          P          R     mAP@.5 mAP@.5:.95: 100% 1/1 [00:00<00:00, 18.38it/s]\n",
            "                 all          7          9      0.983      0.833      0.833      0.576\n",
            "\n",
            "     Epoch   gpu_mem       box       obj       cls    labels  img_size\n",
            "     74/99    0.206G   0.04663    0.0109   0.00584        65       128: 100% 6/6 [00:00<00:00,  7.97it/s]\n",
            "               Class     Images     Labels          P          R     mAP@.5 mAP@.5:.95: 100% 1/1 [00:00<00:00, 19.48it/s]\n",
            "                 all          7          9      0.967      0.833      0.845      0.601\n",
            "\n",
            "     Epoch   gpu_mem       box       obj       cls    labels  img_size\n",
            "     75/99    0.206G   0.04783   0.01038  0.005941        78       128: 100% 6/6 [00:00<00:00,  7.56it/s]\n",
            "               Class     Images     Labels          P          R     mAP@.5 mAP@.5:.95: 100% 1/1 [00:00<00:00, 17.43it/s]\n",
            "                 all          7          9      0.963      0.833      0.839      0.572\n",
            "\n",
            "     Epoch   gpu_mem       box       obj       cls    labels  img_size\n",
            "     76/99    0.206G   0.04828   0.01045  0.006973        77       128: 100% 6/6 [00:00<00:00,  7.84it/s]\n",
            "               Class     Images     Labels          P          R     mAP@.5 mAP@.5:.95: 100% 1/1 [00:00<00:00, 18.39it/s]\n",
            "                 all          7          9      0.976      0.833      0.838      0.509\n",
            "\n",
            "     Epoch   gpu_mem       box       obj       cls    labels  img_size\n",
            "     77/99    0.206G   0.04971   0.01015  0.004989        64       128: 100% 6/6 [00:00<00:00,  7.90it/s]\n",
            "               Class     Images     Labels          P          R     mAP@.5 mAP@.5:.95: 100% 1/1 [00:00<00:00, 18.57it/s]\n",
            "                 all          7          9       0.96      0.833      0.834      0.578\n",
            "\n",
            "     Epoch   gpu_mem       box       obj       cls    labels  img_size\n",
            "     78/99    0.206G   0.04647   0.01002  0.006888        63       128: 100% 6/6 [00:00<00:00,  7.86it/s]\n",
            "               Class     Images     Labels          P          R     mAP@.5 mAP@.5:.95: 100% 1/1 [00:00<00:00, 18.69it/s]\n",
            "                 all          7          9      0.947      0.833      0.837      0.467\n",
            "\n",
            "     Epoch   gpu_mem       box       obj       cls    labels  img_size\n",
            "     79/99    0.206G   0.04708   0.01021  0.005158        65       128: 100% 6/6 [00:00<00:00,  8.00it/s]\n",
            "               Class     Images     Labels          P          R     mAP@.5 mAP@.5:.95: 100% 1/1 [00:00<00:00, 18.65it/s]\n",
            "                 all          7          9       0.97      0.833      0.834      0.514\n",
            "\n",
            "     Epoch   gpu_mem       box       obj       cls    labels  img_size\n",
            "     80/99    0.206G   0.04628   0.01016  0.005337        85       128: 100% 6/6 [00:00<00:00,  7.47it/s]\n",
            "               Class     Images     Labels          P          R     mAP@.5 mAP@.5:.95: 100% 1/1 [00:00<00:00, 17.38it/s]\n",
            "                 all          7          9      0.957      0.833      0.844      0.566\n",
            "\n",
            "     Epoch   gpu_mem       box       obj       cls    labels  img_size\n",
            "     81/99    0.206G   0.04554   0.01064  0.006066        71       128: 100% 6/6 [00:00<00:00,  7.69it/s]\n",
            "               Class     Images     Labels          P          R     mAP@.5 mAP@.5:.95: 100% 1/1 [00:00<00:00, 18.69it/s]\n",
            "                 all          7          9      0.941      0.833       0.85      0.539\n",
            "\n",
            "     Epoch   gpu_mem       box       obj       cls    labels  img_size\n",
            "     82/99    0.206G   0.04566   0.01021  0.005877        78       128: 100% 6/6 [00:00<00:00,  7.99it/s]\n",
            "               Class     Images     Labels          P          R     mAP@.5 mAP@.5:.95: 100% 1/1 [00:00<00:00, 19.24it/s]\n",
            "                 all          7          9      0.954      0.833      0.864      0.468\n",
            "\n",
            "     Epoch   gpu_mem       box       obj       cls    labels  img_size\n",
            "     83/99    0.206G   0.04354    0.0102  0.004706        72       128: 100% 6/6 [00:00<00:00,  7.59it/s]\n",
            "               Class     Images     Labels          P          R     mAP@.5 mAP@.5:.95: 100% 1/1 [00:00<00:00, 19.04it/s]\n",
            "                 all          7          9      0.986      0.833      0.844      0.566\n",
            "\n",
            "     Epoch   gpu_mem       box       obj       cls    labels  img_size\n",
            "     84/99    0.206G   0.04336  0.009722  0.004886        61       128: 100% 6/6 [00:00<00:00,  8.00it/s]\n",
            "               Class     Images     Labels          P          R     mAP@.5 mAP@.5:.95: 100% 1/1 [00:00<00:00, 17.85it/s]\n",
            "                 all          7          9       0.98      0.833      0.865      0.518\n",
            "\n",
            "     Epoch   gpu_mem       box       obj       cls    labels  img_size\n",
            "     85/99    0.206G    0.0435  0.009658  0.004565        70       128: 100% 6/6 [00:00<00:00,  7.65it/s]\n",
            "               Class     Images     Labels          P          R     mAP@.5 mAP@.5:.95: 100% 1/1 [00:00<00:00, 17.42it/s]\n",
            "                 all          7          9      0.976      0.833      0.855      0.505\n",
            "\n",
            "     Epoch   gpu_mem       box       obj       cls    labels  img_size\n",
            "     86/99    0.206G   0.04672   0.01032  0.005676        89       128: 100% 6/6 [00:00<00:00,  7.91it/s]\n",
            "               Class     Images     Labels          P          R     mAP@.5 mAP@.5:.95: 100% 1/1 [00:00<00:00, 19.22it/s]\n",
            "                 all          7          9      0.965      0.833       0.85      0.472\n",
            "\n",
            "     Epoch   gpu_mem       box       obj       cls    labels  img_size\n",
            "     87/99    0.206G   0.04446   0.01018  0.004864        76       128: 100% 6/6 [00:00<00:00,  7.61it/s]\n",
            "               Class     Images     Labels          P          R     mAP@.5 mAP@.5:.95: 100% 1/1 [00:00<00:00, 18.22it/s]\n",
            "                 all          7          9      0.957      0.833      0.856      0.442\n",
            "\n",
            "     Epoch   gpu_mem       box       obj       cls    labels  img_size\n",
            "     88/99    0.206G   0.04483  0.009848  0.004634        47       128: 100% 6/6 [00:00<00:00,  7.89it/s]\n",
            "               Class     Images     Labels          P          R     mAP@.5 mAP@.5:.95: 100% 1/1 [00:00<00:00, 19.31it/s]\n",
            "                 all          7          9      0.959      0.833      0.857      0.478\n",
            "\n",
            "     Epoch   gpu_mem       box       obj       cls    labels  img_size\n",
            "     89/99    0.206G   0.04269   0.01028  0.004498        89       128: 100% 6/6 [00:00<00:00,  7.98it/s]\n",
            "               Class     Images     Labels          P          R     mAP@.5 mAP@.5:.95: 100% 1/1 [00:00<00:00, 19.19it/s]\n",
            "                 all          7          9      0.966      0.833      0.837       0.45\n",
            "\n",
            "     Epoch   gpu_mem       box       obj       cls    labels  img_size\n",
            "     90/99    0.206G   0.04311  0.009578  0.004109        54       128: 100% 6/6 [00:00<00:00,  8.10it/s]\n",
            "               Class     Images     Labels          P          R     mAP@.5 mAP@.5:.95: 100% 1/1 [00:00<00:00, 18.98it/s]\n",
            "                 all          7          9      0.973      0.833      0.856      0.488\n",
            "\n",
            "     Epoch   gpu_mem       box       obj       cls    labels  img_size\n",
            "     91/99    0.206G   0.04522  0.009988  0.004478        75       128: 100% 6/6 [00:00<00:00,  7.63it/s]\n",
            "               Class     Images     Labels          P          R     mAP@.5 mAP@.5:.95: 100% 1/1 [00:00<00:00, 19.32it/s]\n",
            "                 all          7          9      0.973      0.833      0.874      0.599\n",
            "\n",
            "     Epoch   gpu_mem       box       obj       cls    labels  img_size\n",
            "     92/99    0.206G   0.04426  0.009922  0.005204        78       128: 100% 6/6 [00:00<00:00,  7.85it/s]\n",
            "               Class     Images     Labels          P          R     mAP@.5 mAP@.5:.95: 100% 1/1 [00:00<00:00, 19.37it/s]\n",
            "                 all          7          9       0.97      0.833      0.855      0.605\n",
            "\n",
            "     Epoch   gpu_mem       box       obj       cls    labels  img_size\n",
            "     93/99    0.206G   0.04239   0.01008   0.00503        68       128: 100% 6/6 [00:00<00:00,  6.73it/s]\n",
            "               Class     Images     Labels          P          R     mAP@.5 mAP@.5:.95: 100% 1/1 [00:00<00:00, 19.41it/s]\n",
            "                 all          7          9      0.977      0.833      0.853      0.639\n",
            "\n",
            "     Epoch   gpu_mem       box       obj       cls    labels  img_size\n",
            "     94/99    0.206G   0.04154  0.009464   0.00476        70       128: 100% 6/6 [00:00<00:00,  7.84it/s]\n",
            "               Class     Images     Labels          P          R     mAP@.5 mAP@.5:.95: 100% 1/1 [00:00<00:00, 18.82it/s]\n",
            "                 all          7          9      0.977      0.833      0.845      0.523\n",
            "\n",
            "     Epoch   gpu_mem       box       obj       cls    labels  img_size\n",
            "     95/99    0.206G   0.04215   0.01022  0.004744        62       128: 100% 6/6 [00:00<00:00,  7.44it/s]\n",
            "               Class     Images     Labels          P          R     mAP@.5 mAP@.5:.95: 100% 1/1 [00:00<00:00, 18.60it/s]\n",
            "                 all          7          9      0.981      0.833      0.844      0.563\n",
            "\n",
            "     Epoch   gpu_mem       box       obj       cls    labels  img_size\n",
            "     96/99    0.206G   0.04153   0.01043   0.00538        71       128: 100% 6/6 [00:00<00:00,  8.02it/s]\n",
            "               Class     Images     Labels          P          R     mAP@.5 mAP@.5:.95: 100% 1/1 [00:00<00:00, 18.38it/s]\n",
            "                 all          7          9      0.969      0.833      0.843       0.58\n",
            "\n",
            "     Epoch   gpu_mem       box       obj       cls    labels  img_size\n",
            "     97/99    0.206G   0.04354  0.009693  0.005465        65       128: 100% 6/6 [00:00<00:00,  8.12it/s]\n",
            "               Class     Images     Labels          P          R     mAP@.5 mAP@.5:.95: 100% 1/1 [00:00<00:00, 19.28it/s]\n",
            "                 all          7          9      0.976      0.833      0.848      0.616\n",
            "\n",
            "     Epoch   gpu_mem       box       obj       cls    labels  img_size\n",
            "     98/99    0.206G    0.0421   0.01006  0.004577        51       128: 100% 6/6 [00:00<00:00,  8.03it/s]\n",
            "               Class     Images     Labels          P          R     mAP@.5 mAP@.5:.95: 100% 1/1 [00:00<00:00, 19.26it/s]\n",
            "                 all          7          9      0.976      0.833      0.843      0.607\n",
            "\n",
            "     Epoch   gpu_mem       box       obj       cls    labels  img_size\n",
            "     99/99    0.206G   0.04179  0.009846  0.005406        66       128: 100% 6/6 [00:00<00:00,  7.97it/s]\n",
            "               Class     Images     Labels          P          R     mAP@.5 mAP@.5:.95: 100% 1/1 [00:00<00:00, 16.59it/s]\n",
            "                 all          7          9      0.973      0.833      0.849      0.564\n",
            "\n",
            "100 epochs completed in 0.032 hours.\n",
            "Optimizer stripped from runs/train/exp2/weights/last.pt, 5.4MB\n",
            "Optimizer stripped from runs/train/exp2/weights/best.pt, 5.4MB\n",
            "\n",
            "Validating runs/train/exp2/weights/best.pt...\n",
            "Fusing layers... \n",
            "my_YOLOv5s summary: 210 layers, 2616955 parameters, 0 gradients, 6.3 GFLOPs\n",
            "               Class     Images     Labels          P          R     mAP@.5 mAP@.5:.95: 100% 1/1 [00:00<00:00,  6.15it/s]\n",
            "                 all          7          9      0.977      0.833      0.855       0.64\n",
            "               nylon          7          3      0.955          1      0.995       0.83\n",
            "               paper          7          6          1      0.667      0.716       0.45\n",
            "Results saved to \u001b[1mruns/train/exp2\u001b[0m\n"
          ]
        }
      ],
      "source": [
        "# Train YOLOv5s on COCO128 for 3 epochs\n",
        "!python train.py --img 100 --batch 32 --epochs 100 --data ./data/datatraffic.yaml --cfg my_yolov5s.yaml --weights \"\""
      ]
    },
    {
      "cell_type": "code",
      "execution_count": null,
      "metadata": {
        "id": "4a19qbbFIO4Z"
      },
      "outputs": [],
      "source": []
    }
  ],
  "metadata": {
    "accelerator": "GPU",
    "colab": {
      "provenance": [],
      "include_colab_link": true
    },
    "kernelspec": {
      "display_name": "Python 3",
      "name": "python3"
    },
    "language_info": {
      "name": "python"
    }
  },
  "nbformat": 4,
  "nbformat_minor": 0
}