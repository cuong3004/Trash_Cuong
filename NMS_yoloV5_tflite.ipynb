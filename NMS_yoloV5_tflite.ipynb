{
  "nbformat": 4,
  "nbformat_minor": 0,
  "metadata": {
    "colab": {
      "provenance": [],
      "authorship_tag": "ABX9TyM7g/3+SuKdViUw8DIqyc3u",
      "include_colab_link": true
    },
    "kernelspec": {
      "name": "python3",
      "display_name": "Python 3"
    },
    "language_info": {
      "name": "python"
    }
  },
  "cells": [
    {
      "cell_type": "markdown",
      "metadata": {
        "id": "view-in-github",
        "colab_type": "text"
      },
      "source": [
        "<a href=\"https://colab.research.google.com/github/cuong3004/Trash_Cuong/blob/main/NMS_yoloV5_tflite.ipynb\" target=\"_parent\"><img src=\"https://colab.research.google.com/assets/colab-badge.svg\" alt=\"Open In Colab\"/></a>"
      ]
    },
    {
      "cell_type": "code",
      "execution_count": null,
      "metadata": {
        "id": "GHSaSwV2oKqX"
      },
      "outputs": [],
      "source": [
        "import tensorflow as tf"
      ]
    },
    {
      "cell_type": "code",
      "source": [
        "class NMS(tf.Module):\n",
        "    @tf.function(input_signature=[tf.TensorSpec(shape=[1, 2268, 7], dtype=tf.float32)])\n",
        "    def __call__(self, out):\n",
        "        # print(out.shape)\n",
        "        # xyxy, classes, scores = self.YOLOdetect(out)\n",
        "        # print(classes.dtype)\n",
        "        # print(scores.dtype)\n",
        "        # return xyxy, classes, scores\n",
        "\n",
        "        xyxy, classes, scores = self.YOLOdetect(out)\n",
        "\n",
        "        boxes = tf.stack(xyxy, -1)\n",
        "\n",
        "        # print(classes)\n",
        "        selected_indices = tf.image.non_max_suppression(\n",
        "            boxes, scores, 50, 0.5)\n",
        "        \n",
        "        # ptin\n",
        "        \n",
        "        selected_boxes = tf.gather(boxes, selected_indices)\n",
        "        selected_classes = tf.gather(classes, selected_indices)\n",
        "        selected_scores = tf.gather(scores, selected_indices)\n",
        "        \n",
        "\n",
        "        print(selected_boxes.dtype, selected_classes.dtype, selected_scores.dtype)\n",
        "        print(selected_boxes.shape)\n",
        "\n",
        "        return selected_boxes, selected_classes, selected_scores\n",
        "        \n",
        "    \n",
        "    def classFilter(self, classdata):\n",
        "\n",
        "        # print(classdata.shape)\n",
        "        # classes = []  # create a list\n",
        "        # for i in range(classdata.shape[0]):         # loop through all predictions\n",
        "        #     classes.append(classdata[i].argmax())   # get the best classification location\n",
        "        # # return classes  # return classes (int)\n",
        "        # print(classdata)\n",
        "        # print(tf.math.argmax(classdata, -1))\n",
        "        # return tf.math.argmax(classdata, -1)\n",
        "\n",
        "        classes = tf.argmax(classdata, -1)\n",
        "        classes = tf.cast(classes, tf.float32)\n",
        "        return classes\n",
        "        \n",
        "    \n",
        "    \n",
        "    def YOLOdetect(self, output_data):  # input = interpreter, output is boxes(xyxy), classes, scores\n",
        "        output_data = output_data[0]                # x(1, 25200, 7) to x(25200, 7)\n",
        "        # print(output_data[..., :4].shape)\n",
        "        boxes = tf.squeeze(output_data[..., :4])  # boxes  [25200, 4]\n",
        "        # print(boxes.shape)\n",
        "        scores = tf.squeeze(output_data[..., 4:5]) # confidences  [25200, 1]\n",
        "        # print(output_data[..., 5:])\n",
        "        classes = self.classFilter(output_data[..., 5:]) # get classes\n",
        "        # Convert nx4 boxes from [x, y, w, h] to [x1, y1, x2, y2] where xy1=top-left, xy2=bottom-right\n",
        "        x, y, w, h = boxes[..., 0], boxes[..., 1], boxes[..., 2], boxes[..., 3] #xywh\n",
        "        xyxy = [x - w / 2, y - h / 2, x + w / 2, y + h / 2]  # xywh to xyxy   [4, 25200]\n",
        "\n",
        "         # check data type float32\n",
        "\n",
        "        return xyxy, classes, scores  # output is boxes(x,y,x,y), classes(int), scores(float) [pr\n"
      ],
      "metadata": {
        "id": "k5od74l5oPaK"
      },
      "execution_count": null,
      "outputs": []
    },
    {
      "cell_type": "code",
      "source": [
        "nms = NMS()\n",
        "concrete_func = nms.__call__.get_concrete_function()"
      ],
      "metadata": {
        "id": "peWwackwoWV1",
        "colab": {
          "base_uri": "https://localhost:8080/"
        },
        "outputId": "c79fc64e-28a8-4153-9159-cd8bd3f72609"
      },
      "execution_count": null,
      "outputs": [
        {
          "output_type": "stream",
          "name": "stdout",
          "text": [
            "<dtype: 'float32'> <dtype: 'float32'> <dtype: 'float32'>\n",
            "(None, 4)\n"
          ]
        }
      ]
    },
    {
      "cell_type": "code",
      "source": [
        "converter = tf.lite.TFLiteConverter.from_concrete_functions([concrete_func],\n",
        "                                                            nms)\n",
        "tflite_model = converter.convert()\n",
        "\n",
        "# Save the model.\n",
        "with open('nms.tflite', 'wb') as f:\n",
        "  f.write(tflite_model)"
      ],
      "metadata": {
        "colab": {
          "base_uri": "https://localhost:8080/"
        },
        "id": "mmuvDxDOobxb",
        "outputId": "2dfbf0d8-f26f-419e-90f7-f64c8c9d7245"
      },
      "execution_count": null,
      "outputs": [
        {
          "output_type": "stream",
          "name": "stdout",
          "text": [
            "<dtype: 'float32'> <dtype: 'float32'> <dtype: 'float32'>\n",
            "(None, 4)\n",
            "INFO:tensorflow:Assets written to: /tmp/tmp7h58k617/assets\n"
          ]
        },
        {
          "output_type": "stream",
          "name": "stderr",
          "text": [
            "INFO:tensorflow:Assets written to: /tmp/tmp7h58k617/assets\n",
            "WARNING:absl:Buffer deduplication procedure will be skipped when flatbuffer library is not properly loaded\n"
          ]
        }
      ]
    },
    {
      "cell_type": "code",
      "source": [],
      "metadata": {
        "id": "AYPZOtHXofAH"
      },
      "execution_count": null,
      "outputs": []
    }
  ]
}