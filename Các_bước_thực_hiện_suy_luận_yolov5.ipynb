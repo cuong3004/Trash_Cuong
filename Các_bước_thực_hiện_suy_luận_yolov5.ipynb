{
  "cells": [
    {
      "cell_type": "markdown",
      "metadata": {
        "id": "view-in-github",
        "colab_type": "text"
      },
      "source": [
        "<a href=\"https://colab.research.google.com/github/cuong3004/Trash_Cuong/blob/main/C%C3%A1c_b%C6%B0%E1%BB%9Bc_th%E1%BB%B1c_hi%E1%BB%87n_suy_lu%E1%BA%ADn_yolov5.ipynb\" target=\"_parent\"><img src=\"https://colab.research.google.com/assets/colab-badge.svg\" alt=\"Open In Colab\"/></a>"
      ]
    },
    {
      "cell_type": "markdown",
      "source": [
        "## Load model yolov5"
      ],
      "metadata": {
        "id": "qnYPrOvuBLUV"
      }
    },
    {
      "cell_type": "markdown",
      "source": [
        "```java\n",
        "Interpreter.Options options=new Interpreter.Options();\n",
        "GpuDelegate gpuDelegate=new GpuDelegate();\n",
        "options.addDelegate(gpuDelegate);\n",
        "options.setNumThreads(4); // set it according to your phone\n",
        "Interpreter interpreter = new Interpreter(\n",
        "        loadModelFile(assetManager, \"yolov5s-int8.tflite\"),\n",
        "        options\n",
        ");\n",
        "// load labelmap\n",
        "List<String> labelList=loadLabelList(assetManager,\"label.txt\"); // cavity, normal\n",
        "```"
      ],
      "metadata": {
        "id": "7wHNUrrNBWOR"
      }
    },
    {
      "cell_type": "markdown",
      "source": [
        "## Load hàm NMS"
      ],
      "metadata": {
        "id": "5W_u0XOAC3-e"
      }
    },
    {
      "cell_type": "markdown",
      "source": [
        "```java\n",
        "import com.example.imagepro.ml.Nms2;\n",
        "Nms2 nms =  Nms2.newInstance(this);\n",
        "```"
      ],
      "metadata": {
        "id": "oaHqOfmMC6tW"
      }
    },
    {
      "cell_type": "markdown",
      "source": [
        "## Xử lý hình ảnh từ camera"
      ],
      "metadata": {
        "id": "cNryLkhgDDVO"
      }
    },
    {
      "cell_type": "markdown",
      "source": [
        "```java\n",
        "// Hình ảnh từ camera được load bằng opencv sẽ trả về đối tượng class Mat\n",
        "Mat mat_image_org = ...;\n",
        "\n",
        "// Tính toán vùng đẻ crop một phần hình ảnh\n",
        "int width=mat_image_org.cols();\n",
        "int height=mat_image_org.rows();\n",
        "int minSize = Math.min(width, height);\n",
        "int cropX = width / 2 - minSize / 2;\n",
        "int cropY = height / 2 - minSize / 2;\n",
        "\n",
        "Rect rectCrop = new Rect(cropX, cropY, minSize, minSize);\n",
        "Mat mat_image = new Mat(mat_image_org,rectCrop); // crop ảnh\n",
        "\n",
        "// sử lý trong trường hợp bị ngược\n",
        "Mat rotated_mat_image=new Mat();\n",
        "Core.flip(mat_image.t(),rotated_mat_image,1); \n",
        "\n",
        "// Chuyển đổi Mat sang Bitmap(để đưa vào model)\n",
        "Bitmap bitmap=null;\n",
        "bitmap=Bitmap.createBitmap(rotated_mat_image.cols(),rotated_mat_image.rows(),Bitmap.Config.ARGB_8888);\n",
        "Utils.matToBitmap(rotated_mat_image,bitmap);\n",
        "```\n",
        "\n"
      ],
      "metadata": {
        "id": "_vTgPNGeDO7c"
      }
    },
    {
      "cell_type": "markdown",
      "source": [
        "## Quá trình suy luận"
      ],
      "metadata": {
        "id": "lCpyX__0DO3M"
      }
    },
    {
      "cell_type": "markdown",
      "source": [
        "```java\n",
        "// Các thao tác tiền sử lý như thay đổi kích thước, chuẩn hóa, quantize\n",
        "ImageProcessor imageProcessor =\n",
        "    new ImageProcessor.Builder()\n",
        "        .add(new ResizeOp(192, 192, ResizeOp.ResizeMethod.BILINEAR))\n",
        "        .add(new NormalizeOp(0f, 255f))\n",
        "        .add(new QuantizeOp(0,  0.003921568859368563f))\n",
        "        .add(new CastOp(DataType.UINT8))\n",
        "        .build();\n",
        "// Các thao tác hậu sử lý như dequantize\n",
        "TensorProcessor probabilityProcessor =\n",
        "    new TensorProcessor.Builder()\n",
        "        .add(new DequantizeOp(0, 0.007786227390170097f)).build();\n",
        "\n",
        "TensorImage tensorImage = new TensorImage(DataType.UINT8);\n",
        "tensorImage.load(scaledBitmap);\n",
        "tensorImage = imageProcessor.process(tensorImage); // tiền sử lý\n",
        "\n",
        "// Định nghĩa hình dạng đầu vào và đầu ra của mô hình\n",
        "TensorBuffer inputFeature = \n",
        "    TensorBuffer.createFixedSize(new int[]{1, 192, 192, 3}, DataType.UINT8);\n",
        "TensorBuffer probabilityBuffer =\n",
        "    TensorBuffer.createFixedSize(new int[]{1, 2268, 7}, DataType.UINT8);\n",
        "TensorBuffer inputNMS = \n",
        "    TensorBuffer.createFixedSize(new int[]{1, 2268, 7}, DataType.FLOAT32); // NMS\n",
        "\n",
        "inputFeature.loadBuffer(tensorImage.getBuffer());\n",
        "\n",
        "// Suy luận\n",
        "interpreter.run(inputFeature.getBuffer(), probabilityBuffer.getBuffer());\n",
        "probabilityBuffer = probabilityProcessor.process(probabilityBuffer); // hậu sử lý\n",
        "// Hậu sử lý NMS\n",
        "inputNMS.loadBuffer(outputModel);\n",
        "Nms2.Outputs outputNMS = nms.process(inputNMS);\n",
        "TensorBuffer outputFeature0 = outputNMS.getOutputFeature0AsTensorBuffer();\n",
        "TensorBuffer outputFeature1 = outputNMS.getOutputFeature1AsTensorBuffer();\n",
        "TensorBuffer outputFeature2 = outputNMS.getOutputFeature2AsTensorBuffer();\n",
        "\n",
        "float[] classes = outputFeature0.getFloatArray(); // class\n",
        "float[] bboxes = outputFeature1.getFloatArray(); // value_box\n",
        "float[] scores = outputFeature2.getFloatArray(); // score\n",
        "```"
      ],
      "metadata": {
        "id": "Ofcl5oxdIPLE"
      }
    },
    {
      "cell_type": "markdown",
      "source": [
        "## Vẽ lên ảnh"
      ],
      "metadata": {
        "id": "qFAa71J3OEDd"
      }
    },
    {
      "cell_type": "markdown",
      "source": [
        "```java\n",
        "for (int i=0;i<classes.length;i++){\n",
        "    float class_value = classes[i];\n",
        "    float score_value = scores[i];\n",
        "\n",
        "    if(score_value>0.5){\n",
        "        float left= bboxes[i*4+0]*minSize;\n",
        "        float top= bboxes[i*4+1]*minSize;\n",
        "        float right= bboxes[i*4+2]*minSize;\n",
        "        float bottom= bboxes[i*4+3]*minSize;\n",
        "\n",
        "    if ((int) class_value == 1){ // normal\n",
        "        Imgproc.rectangle( // vẽ các hộp chữ nhật\n",
        "            rotated_mat_image,\n",
        "            new Point(left,top),\n",
        "            new Point(right,bottom),\n",
        "            new Scalar(0, 255, 0, 255),2);\n",
        "\n",
        "        Imgproc.putText( // vẽ chữ\n",
        "            rotated_mat_image,labelList.get((int) class_value),\n",
        "            new Point(left,top),3,0.5,\n",
        "            new Scalar(0, 255, 0, 255),2);\n",
        "    } else { // Caries\n",
        "        Imgproc.rectangle(  // vẽ các hộp chữ nhật\n",
        "            rotated_mat_image,\n",
        "            new Point(left,top),\n",
        "            new Point(right,bottom),\n",
        "            new Scalar(255, 0, 0, 255),2);\n",
        "\n",
        "        Imgproc.putText( // vẽ chữ\n",
        "            rotated_mat_image,\n",
        "            labelList.get((int) class_value),\n",
        "            new Point(left,top),3,0.5,\n",
        "            new Scalar(255, 0, 0, 255),2);\n",
        "    }\n",
        "\n",
        "Core.flip(rotated_mat_image.t(),mat_image,0);\n",
        "return mat_image_org;\n",
        "```"
      ],
      "metadata": {
        "id": "t9z7WI4COHec"
      }
    }
  ],
  "metadata": {
    "colab": {
      "toc_visible": true,
      "provenance": [],
      "include_colab_link": true
    },
    "kernelspec": {
      "display_name": "Python 3",
      "name": "python3"
    }
  },
  "nbformat": 4,
  "nbformat_minor": 0
}